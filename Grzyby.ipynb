{
 "cells": [
  {
   "cell_type": "code",
   "execution_count": 1,
   "id": "633ab61c",
   "metadata": {},
   "outputs": [],
   "source": [
    "import pandas as pd\n",
    "import numpy as np\n",
    "import matplotlib.pyplot as plt\n",
    "import seaborn as sns"
   ]
  },
  {
   "cell_type": "code",
   "execution_count": 2,
   "id": "5edd6bde",
   "metadata": {},
   "outputs": [],
   "source": [
    "df=pd.read_csv('secondary_data.csv', sep=';')"
   ]
  },
  {
   "cell_type": "code",
   "execution_count": 3,
   "id": "38200fb8",
   "metadata": {},
   "outputs": [
    {
     "data": {
      "text/html": [
       "<div>\n",
       "<style scoped>\n",
       "    .dataframe tbody tr th:only-of-type {\n",
       "        vertical-align: middle;\n",
       "    }\n",
       "\n",
       "    .dataframe tbody tr th {\n",
       "        vertical-align: top;\n",
       "    }\n",
       "\n",
       "    .dataframe thead th {\n",
       "        text-align: right;\n",
       "    }\n",
       "</style>\n",
       "<table border=\"1\" class=\"dataframe\">\n",
       "  <thead>\n",
       "    <tr style=\"text-align: right;\">\n",
       "      <th></th>\n",
       "      <th>class</th>\n",
       "      <th>cap-diameter</th>\n",
       "      <th>cap-shape</th>\n",
       "      <th>cap-surface</th>\n",
       "      <th>cap-color</th>\n",
       "      <th>does-bruise-or-bleed</th>\n",
       "      <th>gill-attachment</th>\n",
       "      <th>gill-spacing</th>\n",
       "      <th>gill-color</th>\n",
       "      <th>stem-height</th>\n",
       "      <th>...</th>\n",
       "      <th>stem-root</th>\n",
       "      <th>stem-surface</th>\n",
       "      <th>stem-color</th>\n",
       "      <th>veil-type</th>\n",
       "      <th>veil-color</th>\n",
       "      <th>has-ring</th>\n",
       "      <th>ring-type</th>\n",
       "      <th>spore-print-color</th>\n",
       "      <th>habitat</th>\n",
       "      <th>season</th>\n",
       "    </tr>\n",
       "  </thead>\n",
       "  <tbody>\n",
       "    <tr>\n",
       "      <th>0</th>\n",
       "      <td>p</td>\n",
       "      <td>15.26</td>\n",
       "      <td>x</td>\n",
       "      <td>g</td>\n",
       "      <td>o</td>\n",
       "      <td>f</td>\n",
       "      <td>e</td>\n",
       "      <td>NaN</td>\n",
       "      <td>w</td>\n",
       "      <td>16.95</td>\n",
       "      <td>...</td>\n",
       "      <td>s</td>\n",
       "      <td>y</td>\n",
       "      <td>w</td>\n",
       "      <td>u</td>\n",
       "      <td>w</td>\n",
       "      <td>t</td>\n",
       "      <td>g</td>\n",
       "      <td>NaN</td>\n",
       "      <td>d</td>\n",
       "      <td>w</td>\n",
       "    </tr>\n",
       "    <tr>\n",
       "      <th>1</th>\n",
       "      <td>p</td>\n",
       "      <td>16.60</td>\n",
       "      <td>x</td>\n",
       "      <td>g</td>\n",
       "      <td>o</td>\n",
       "      <td>f</td>\n",
       "      <td>e</td>\n",
       "      <td>NaN</td>\n",
       "      <td>w</td>\n",
       "      <td>17.99</td>\n",
       "      <td>...</td>\n",
       "      <td>s</td>\n",
       "      <td>y</td>\n",
       "      <td>w</td>\n",
       "      <td>u</td>\n",
       "      <td>w</td>\n",
       "      <td>t</td>\n",
       "      <td>g</td>\n",
       "      <td>NaN</td>\n",
       "      <td>d</td>\n",
       "      <td>u</td>\n",
       "    </tr>\n",
       "    <tr>\n",
       "      <th>2</th>\n",
       "      <td>p</td>\n",
       "      <td>14.07</td>\n",
       "      <td>x</td>\n",
       "      <td>g</td>\n",
       "      <td>o</td>\n",
       "      <td>f</td>\n",
       "      <td>e</td>\n",
       "      <td>NaN</td>\n",
       "      <td>w</td>\n",
       "      <td>17.80</td>\n",
       "      <td>...</td>\n",
       "      <td>s</td>\n",
       "      <td>y</td>\n",
       "      <td>w</td>\n",
       "      <td>u</td>\n",
       "      <td>w</td>\n",
       "      <td>t</td>\n",
       "      <td>g</td>\n",
       "      <td>NaN</td>\n",
       "      <td>d</td>\n",
       "      <td>w</td>\n",
       "    </tr>\n",
       "    <tr>\n",
       "      <th>3</th>\n",
       "      <td>p</td>\n",
       "      <td>14.17</td>\n",
       "      <td>f</td>\n",
       "      <td>h</td>\n",
       "      <td>e</td>\n",
       "      <td>f</td>\n",
       "      <td>e</td>\n",
       "      <td>NaN</td>\n",
       "      <td>w</td>\n",
       "      <td>15.77</td>\n",
       "      <td>...</td>\n",
       "      <td>s</td>\n",
       "      <td>y</td>\n",
       "      <td>w</td>\n",
       "      <td>u</td>\n",
       "      <td>w</td>\n",
       "      <td>t</td>\n",
       "      <td>p</td>\n",
       "      <td>NaN</td>\n",
       "      <td>d</td>\n",
       "      <td>w</td>\n",
       "    </tr>\n",
       "    <tr>\n",
       "      <th>4</th>\n",
       "      <td>p</td>\n",
       "      <td>14.64</td>\n",
       "      <td>x</td>\n",
       "      <td>h</td>\n",
       "      <td>o</td>\n",
       "      <td>f</td>\n",
       "      <td>e</td>\n",
       "      <td>NaN</td>\n",
       "      <td>w</td>\n",
       "      <td>16.53</td>\n",
       "      <td>...</td>\n",
       "      <td>s</td>\n",
       "      <td>y</td>\n",
       "      <td>w</td>\n",
       "      <td>u</td>\n",
       "      <td>w</td>\n",
       "      <td>t</td>\n",
       "      <td>p</td>\n",
       "      <td>NaN</td>\n",
       "      <td>d</td>\n",
       "      <td>w</td>\n",
       "    </tr>\n",
       "  </tbody>\n",
       "</table>\n",
       "<p>5 rows × 21 columns</p>\n",
       "</div>"
      ],
      "text/plain": [
       "  class  cap-diameter cap-shape cap-surface cap-color does-bruise-or-bleed  \\\n",
       "0     p         15.26         x           g         o                    f   \n",
       "1     p         16.60         x           g         o                    f   \n",
       "2     p         14.07         x           g         o                    f   \n",
       "3     p         14.17         f           h         e                    f   \n",
       "4     p         14.64         x           h         o                    f   \n",
       "\n",
       "  gill-attachment gill-spacing gill-color  stem-height  ...  stem-root  \\\n",
       "0               e          NaN          w        16.95  ...          s   \n",
       "1               e          NaN          w        17.99  ...          s   \n",
       "2               e          NaN          w        17.80  ...          s   \n",
       "3               e          NaN          w        15.77  ...          s   \n",
       "4               e          NaN          w        16.53  ...          s   \n",
       "\n",
       "  stem-surface stem-color veil-type veil-color has-ring ring-type  \\\n",
       "0            y          w         u          w        t         g   \n",
       "1            y          w         u          w        t         g   \n",
       "2            y          w         u          w        t         g   \n",
       "3            y          w         u          w        t         p   \n",
       "4            y          w         u          w        t         p   \n",
       "\n",
       "  spore-print-color habitat season  \n",
       "0               NaN       d      w  \n",
       "1               NaN       d      u  \n",
       "2               NaN       d      w  \n",
       "3               NaN       d      w  \n",
       "4               NaN       d      w  \n",
       "\n",
       "[5 rows x 21 columns]"
      ]
     },
     "execution_count": 3,
     "metadata": {},
     "output_type": "execute_result"
    }
   ],
   "source": [
    "df.head()"
   ]
  },
  {
   "cell_type": "code",
   "execution_count": 4,
   "id": "9d53c2e0",
   "metadata": {},
   "outputs": [
    {
     "name": "stdout",
     "output_type": "stream",
     "text": [
      "<class 'pandas.core.frame.DataFrame'>\n",
      "RangeIndex: 61069 entries, 0 to 61068\n",
      "Data columns (total 21 columns):\n",
      " #   Column                Non-Null Count  Dtype  \n",
      "---  ------                --------------  -----  \n",
      " 0   class                 61069 non-null  object \n",
      " 1   cap-diameter          61069 non-null  float64\n",
      " 2   cap-shape             61069 non-null  object \n",
      " 3   cap-surface           46949 non-null  object \n",
      " 4   cap-color             61069 non-null  object \n",
      " 5   does-bruise-or-bleed  61069 non-null  object \n",
      " 6   gill-attachment       51185 non-null  object \n",
      " 7   gill-spacing          36006 non-null  object \n",
      " 8   gill-color            61069 non-null  object \n",
      " 9   stem-height           61069 non-null  float64\n",
      " 10  stem-width            61069 non-null  float64\n",
      " 11  stem-root             9531 non-null   object \n",
      " 12  stem-surface          22945 non-null  object \n",
      " 13  stem-color            61069 non-null  object \n",
      " 14  veil-type             3177 non-null   object \n",
      " 15  veil-color            7413 non-null   object \n",
      " 16  has-ring              61069 non-null  object \n",
      " 17  ring-type             58598 non-null  object \n",
      " 18  spore-print-color     6354 non-null   object \n",
      " 19  habitat               61069 non-null  object \n",
      " 20  season                61069 non-null  object \n",
      "dtypes: float64(3), object(18)\n",
      "memory usage: 9.8+ MB\n"
     ]
    }
   ],
   "source": [
    "df.info()"
   ]
  },
  {
   "cell_type": "code",
   "execution_count": 97,
   "id": "ac0fa614",
   "metadata": {},
   "outputs": [
    {
     "data": {
      "text/plain": [
       "class                       0\n",
       "cap-diameter                0\n",
       "cap-shape                   0\n",
       "cap-surface             14120\n",
       "cap-color                   0\n",
       "does-bruise-or-bleed        0\n",
       "gill-attachment             0\n",
       "gill-spacing                0\n",
       "gill-color                  0\n",
       "stem-height                 0\n",
       "stem-width                  0\n",
       "stem-root               51538\n",
       "stem-surface            38124\n",
       "stem-color                  0\n",
       "veil-type                   0\n",
       "veil-color              53656\n",
       "has-ring                    0\n",
       "ring-type                   0\n",
       "spore-print-color       54715\n",
       "habitat                     0\n",
       "season                      0\n",
       "dtype: int64"
      ]
     },
     "execution_count": 97,
     "metadata": {},
     "output_type": "execute_result"
    }
   ],
   "source": [
    "df.isna().sum()"
   ]
  },
  {
   "cell_type": "markdown",
   "id": "86f3ad57",
   "metadata": {},
   "source": [
    "# About dataset"
   ]
  },
  {
   "cell_type": "code",
   "execution_count": 5,
   "id": "b2102cfe",
   "metadata": {},
   "outputs": [
    {
     "data": {
      "text/plain": [
       "p    33888\n",
       "e    27181\n",
       "Name: class, dtype: int64"
      ]
     },
     "execution_count": 5,
     "metadata": {},
     "output_type": "execute_result"
    }
   ],
   "source": [
    "# class\n",
    "df['class'].value_counts()"
   ]
  },
  {
   "cell_type": "code",
   "execution_count": 7,
   "id": "6959dd89",
   "metadata": {},
   "outputs": [],
   "source": [
    "# Changing class names to numbers e (edibile) to 1 and p (poisonous) to 0\n",
    "df['class'] = df['class'].replace({'e': 1, 'p':0}).astype('int8')"
   ]
  },
  {
   "cell_type": "markdown",
   "id": "6f33e54c",
   "metadata": {},
   "source": [
    "## Cap"
   ]
  },
  {
   "cell_type": "code",
   "execution_count": 15,
   "id": "403e62a6",
   "metadata": {},
   "outputs": [
    {
     "data": {
      "image/png": "[encoded data removed]",
      "text/plain": [
       "<Figure size 432x288 with 1 Axes>"
      ]
     },
     "metadata": {
      "needs_background": "light"
     },
     "output_type": "display_data"
    }
   ],
   "source": [
    "# 1 cap-diameter: float number in cm\n",
    "df['cap-diameter'].hist()\n",
    "plt.show()"
   ]
  },
  {
   "cell_type": "code",
   "execution_count": 31,
   "id": "9c51ff6c",
   "metadata": {},
   "outputs": [
    {
     "data": {
      "image/png": "[encoded data removed]",
      "text/plain": [
       "<Figure size 432x288 with 1 Axes>"
      ]
     },
     "metadata": {},
     "output_type": "display_data"
    }
   ],
   "source": [
    "# 2 cap-shape: bell=b, conical=c, convex=x, flat=f, sunken=s, spherical=p, others=o\n",
    "sns.set_style('whitegrid')\n",
    "df['cap-shape'].value_counts(normalize=True).plot(kind='bar')\n",
    "plt.show()"
   ]
  },
  {
   "cell_type": "code",
   "execution_count": 92,
   "id": "f73e37fc",
   "metadata": {},
   "outputs": [
    {
     "data": {
      "image/png": "[encoded data removed]",
      "text/plain": [
       "<Figure size 401.5x360 with 1 Axes>"
      ]
     },
     "metadata": {},
     "output_type": "display_data"
    }
   ],
   "source": [
    "# 3 cap-surface: fibrous=i, grooves=g, scaly=y, smooth=s, shiny=h, leathery=l, silky=k, sticky=t, wrinkled=w, fleshy=e\n",
    "sns.catplot(x='cap-surface', data=df, kind='count', hue='class')\n",
    "plt.show()"
   ]
  },
  {
   "cell_type": "code",
   "execution_count": 95,
   "id": "ed8f9940",
   "metadata": {},
   "outputs": [
    {
     "data": {
      "text/plain": [
       "14120"
      ]
     },
     "execution_count": 95,
     "metadata": {},
     "output_type": "execute_result"
    }
   ],
   "source": [
    "df['cap-surface'].isna().sum()"
   ]
  },
  {
   "cell_type": "code",
   "execution_count": 33,
   "id": "39efb5aa",
   "metadata": {},
   "outputs": [
    {
     "data": {
      "image/png": "[encoded data removed]",
      "text/plain": [
       "<Figure size 432x288 with 1 Axes>"
      ]
     },
     "metadata": {},
     "output_type": "display_data"
    }
   ],
   "source": [
    "# 4 cap-color\n",
    "# brown=n, buff=b, gray=g, green=r, pink=p, purple=u, red=e, white=w, yellow=y, blue=l, orange=o,  black=k, none=f\n",
    "df['cap-color'].value_counts(normalize=True).plot(kind='bar')\n",
    "plt.show()"
   ]
  },
  {
   "cell_type": "markdown",
   "id": "9d849a03",
   "metadata": {},
   "source": [
    "## Gill"
   ]
  },
  {
   "cell_type": "code",
   "execution_count": 53,
   "id": "20661e1b",
   "metadata": {},
   "outputs": [
    {
     "data": {
      "text/plain": [
       "{'a', 'd', 'e', 'f', nan, 'p', 's', 'x'}"
      ]
     },
     "execution_count": 53,
     "metadata": {},
     "output_type": "execute_result"
    }
   ],
   "source": [
    "# 6 Gill-attachment\n",
    "# adnate=a, adnexed=x, decurrent=d, free=e, sinuate=s, pores=p, none=f\n",
    "set(df['gill-attachment'])"
   ]
  },
  {
   "cell_type": "code",
   "execution_count": 86,
   "id": "f15129bf",
   "metadata": {},
   "outputs": [
    {
     "data": {
      "image/png": "[encoded data removed]",
      "text/plain": [
       "<Figure size 401.5x360 with 1 Axes>"
      ]
     },
     "metadata": {},
     "output_type": "display_data"
    }
   ],
   "source": [
    "sns.catplot(x='gill-attachment', data=df, kind='count', hue='class')\n",
    "plt.show()"
   ]
  },
  {
   "cell_type": "code",
   "execution_count": 57,
   "id": "c7f20fb9",
   "metadata": {},
   "outputs": [
    {
     "data": {
      "text/plain": [
       "9884"
      ]
     },
     "execution_count": 57,
     "metadata": {},
     "output_type": "execute_result"
    }
   ],
   "source": [
    "df['gill-attachment'].isna().sum()"
   ]
  },
  {
   "cell_type": "code",
   "execution_count": 89,
   "id": "28619eaa",
   "metadata": {},
   "outputs": [
    {
     "data": {
      "image/png": "[encoded data removed]",
      "text/plain": [
       "<Figure size 401.5x360 with 1 Axes>"
      ]
     },
     "metadata": {},
     "output_type": "display_data"
    }
   ],
   "source": [
    "# changing Nan's to zeros and pelacing to none = f\n",
    "df['gill-attachment'] = df['gill-attachment'].fillna(0).replace({0: 'f'})\n",
    "sns.catplot(x='gill-attachment', data=df, kind='count', hue='class')\n",
    "plt.show()"
   ]
  },
  {
   "cell_type": "code",
   "execution_count": 90,
   "id": "00e739bc",
   "metadata": {},
   "outputs": [
    {
     "data": {
      "text/plain": [
       "0"
      ]
     },
     "execution_count": 90,
     "metadata": {},
     "output_type": "execute_result"
    }
   ],
   "source": [
    "df['gill-attachment'].isna().sum()"
   ]
  },
  {
   "cell_type": "code",
   "execution_count": 55,
   "id": "581187ae",
   "metadata": {},
   "outputs": [
    {
     "data": {
      "text/plain": [
       "{'c', 'd', 'f', nan}"
      ]
     },
     "execution_count": 55,
     "metadata": {},
     "output_type": "execute_result"
    }
   ],
   "source": [
    "# 7 Gill-spacing:  close=c, distant=d, none=f\n",
    "set(df['gill-spacing'])"
   ]
  },
  {
   "cell_type": "code",
   "execution_count": 56,
   "id": "ac057918",
   "metadata": {},
   "outputs": [
    {
     "data": {
      "image/png": "[encoded data removed]",
      "text/plain": [
       "<Figure size 432x288 with 1 Axes>"
      ]
     },
     "metadata": {},
     "output_type": "display_data"
    }
   ],
   "source": [
    "df['gill-spacing'].value_counts(normalize=True).plot(kind='bar')\n",
    "plt.show()"
   ]
  },
  {
   "cell_type": "code",
   "execution_count": 58,
   "id": "9d06c2fd",
   "metadata": {},
   "outputs": [
    {
     "data": {
      "text/plain": [
       "25063"
      ]
     },
     "execution_count": 58,
     "metadata": {},
     "output_type": "execute_result"
    }
   ],
   "source": [
    "df['gill-spacing'].isna().sum()"
   ]
  },
  {
   "cell_type": "code",
   "execution_count": 60,
   "id": "78d82a56",
   "metadata": {},
   "outputs": [
    {
     "data": {
      "image/png": "[encoded data removed]",
      "text/plain": [
       "<Figure size 432x288 with 1 Axes>"
      ]
     },
     "metadata": {},
     "output_type": "display_data"
    }
   ],
   "source": [
    "# changing Nan's to zeros and pelacing to none - f\n",
    "df['gill-spacing'] = df['gill-spacing'].fillna(0).replace({0: 'f'})\n",
    "df['gill-spacing'].value_counts(normalize=True).plot(kind='bar')\n",
    "plt.show()"
   ]
  },
  {
   "cell_type": "code",
   "execution_count": 61,
   "id": "050e4fd7",
   "metadata": {},
   "outputs": [
    {
     "data": {
      "text/plain": [
       "0"
      ]
     },
     "execution_count": 61,
     "metadata": {},
     "output_type": "execute_result"
    }
   ],
   "source": [
    "df['gill-spacing'].isna().sum()"
   ]
  },
  {
   "cell_type": "code",
   "execution_count": 62,
   "id": "75b5b63f",
   "metadata": {},
   "outputs": [
    {
     "data": {
      "image/png": "[encoded data removed]",
      "text/plain": [
       "<Figure size 432x288 with 1 Axes>"
      ]
     },
     "metadata": {},
     "output_type": "display_data"
    }
   ],
   "source": [
    "# 8 gill-color\n",
    "# brown=n, buff=b, gray=g, green=r, pink=p, purple=u, red=e, white=w, yellow=y, blue=l, orange=o,  black=k, none=f\n",
    "df['gill-color'].value_counts(normalize=True).plot(kind='bar')\n",
    "plt.show()"
   ]
  },
  {
   "cell_type": "markdown",
   "id": "c5661464",
   "metadata": {},
   "source": [
    "## Stem"
   ]
  },
  {
   "cell_type": "code",
   "execution_count": 33,
   "id": "16dbb5e8",
   "metadata": {},
   "outputs": [
    {
     "data": {
      "image/png": "[encoded data removed]",
      "text/plain": [
       "<Figure size 432x288 with 1 Axes>"
      ]
     },
     "metadata": {
      "needs_background": "light"
     },
     "output_type": "display_data"
    }
   ],
   "source": [
    "# 9 stem-height: float number in cm\n",
    "df['stem-height'].hist()\n",
    "plt.show()"
   ]
  },
  {
   "cell_type": "code",
   "execution_count": 10,
   "id": "ff7689ac",
   "metadata": {},
   "outputs": [
    {
     "data": {
      "image/png": "[encoded data removed]",
      "text/plain": [
       "<Figure size 720x360 with 2 Axes>"
      ]
     },
     "metadata": {
      "needs_background": "light"
     },
     "output_type": "display_data"
    }
   ],
   "source": [
    "sns.catplot(data=df, x='stem-height', kind='box', col='class')\n",
    "plt.show()"
   ]
  },
  {
   "cell_type": "code",
   "execution_count": 81,
   "id": "edd1244d",
   "metadata": {},
   "outputs": [
    {
     "name": "stdout",
     "output_type": "stream",
     "text": [
      "84.4% are Nan values in this column\n"
     ]
    }
   ],
   "source": [
    "# 11 stem-root\n",
    "print(\"{:.1%} are Nan values in this column\".format(df['stem-root'].isna().sum() / len(df['stem-root'])))"
   ]
  },
  {
   "cell_type": "code",
   "execution_count": 99,
   "id": "0efe3b54",
   "metadata": {},
   "outputs": [
    {
     "name": "stdout",
     "output_type": "stream",
     "text": [
      "62.4% are Nan values in this column\n"
     ]
    }
   ],
   "source": [
    "# 12 stem-surface\n",
    "print(\"{:.1%} are Nan values in this column\".format(df['stem-surface'].isna().sum() / len(df['stem-surface'])))"
   ]
  },
  {
   "cell_type": "code",
   "execution_count": 36,
   "id": "1e0da581",
   "metadata": {},
   "outputs": [
    {
     "data": {
      "image/png": "[encoded data removed]",
      "text/plain": [
       "<Figure size 432x288 with 1 Axes>"
      ]
     },
     "metadata": {},
     "output_type": "display_data"
    }
   ],
   "source": [
    "# 13 stem-color\n",
    "# brown=n, buff=b, gray=g, green=r, pink=p, purple=u, red=e, white=w, yellow=y, blue=l, orange=o,  black=k, none=f\n",
    "df['stem-color'].value_counts(normalize=True).plot(kind='bar')\n",
    "plt.show()"
   ]
  },
  {
   "cell_type": "markdown",
   "id": "9974a444",
   "metadata": {},
   "source": [
    "## Veil"
   ]
  },
  {
   "cell_type": "code",
   "execution_count": 38,
   "id": "585416a3",
   "metadata": {},
   "outputs": [
    {
     "data": {
      "text/plain": [
       "u    3177\n",
       "Name: veil-type, dtype: int64"
      ]
     },
     "execution_count": 38,
     "metadata": {},
     "output_type": "execute_result"
    }
   ],
   "source": [
    "#14 veil-type:  partial=p, universal=u\n",
    "df['veil-type'].value_counts()"
   ]
  },
  {
   "cell_type": "code",
   "execution_count": 39,
   "id": "a52cd9f0",
   "metadata": {},
   "outputs": [],
   "source": [
    "# there are only values 'u'. Changing Nan to 0 and 'u' to 1\n",
    "df['veil-type']=df['veil-type'].fillna(0)\n",
    "df['veil-type'] = df['veil-type'].replace({'u': 1})"
   ]
  },
  {
   "cell_type": "code",
   "execution_count": 40,
   "id": "32c3cf98",
   "metadata": {},
   "outputs": [
    {
     "data": {
      "image/png": "[encoded data removed]",
      "text/plain": [
       "<Figure size 432x288 with 1 Axes>"
      ]
     },
     "metadata": {},
     "output_type": "display_data"
    }
   ],
   "source": [
    "df['veil-type'].astype('int8')\n",
    "df['veil-type'].value_counts(normalize=True).plot(kind='bar')\n",
    "plt.show()"
   ]
  },
  {
   "cell_type": "code",
   "execution_count": 41,
   "id": "cff5d794",
   "metadata": {},
   "outputs": [
    {
     "data": {
      "text/plain": [
       "class  veil-type\n",
       "e      0            26122\n",
       "       1             1059\n",
       "p      0            31770\n",
       "       1             2118\n",
       "Name: veil-type, dtype: int64"
      ]
     },
     "execution_count": 41,
     "metadata": {},
     "output_type": "execute_result"
    }
   ],
   "source": [
    "df.groupby('class')['veil-type'].value_counts()"
   ]
  },
  {
   "cell_type": "code",
   "execution_count": 79,
   "id": "077a90cd",
   "metadata": {},
   "outputs": [
    {
     "name": "stdout",
     "output_type": "stream",
     "text": [
      "87.9% are Nan values in this column\n"
     ]
    }
   ],
   "source": [
    "#15 veil-color\n",
    "print(\"{:.1%} are Nan values in this column\".format(df['veil-color'].isna().sum() / len(df['veil-color'])))"
   ]
  },
  {
   "cell_type": "markdown",
   "id": "1c7280f4",
   "metadata": {},
   "source": [
    "## Ring"
   ]
  },
  {
   "cell_type": "code",
   "execution_count": 24,
   "id": "103cefdc",
   "metadata": {},
   "outputs": [
    {
     "data": {
      "text/plain": [
       "f    45890\n",
       "t    15179\n",
       "Name: has-ring, dtype: int64"
      ]
     },
     "execution_count": 24,
     "metadata": {},
     "output_type": "execute_result"
    }
   ],
   "source": [
    "#16 has-ring:  ring=t, none=f\n",
    "df['has-ring'].value_counts()"
   ]
  },
  {
   "cell_type": "code",
   "execution_count": 68,
   "id": "521bb961",
   "metadata": {},
   "outputs": [
    {
     "data": {
      "text/plain": [
       "f    48361\n",
       "e     2435\n",
       "z     2118\n",
       "l     1427\n",
       "r     1399\n",
       "p     1265\n",
       "g     1240\n",
       "m      353\n",
       "Name: ring-type, dtype: int64"
      ]
     },
     "execution_count": 68,
     "metadata": {},
     "output_type": "execute_result"
    }
   ],
   "source": [
    "#17 ring-type\n",
    "    # cobwebby=c, evanescent=e, flaring=r, grooved=g, large=l, pendant=p, \n",
    "    # sheathing=s, zone=z, scaly=y, movable=m, none=f\n",
    "df['ring-type'].value_counts()"
   ]
  },
  {
   "cell_type": "code",
   "execution_count": 66,
   "id": "759db54d",
   "metadata": {},
   "outputs": [
    {
     "data": {
      "text/plain": [
       "2471"
      ]
     },
     "execution_count": 66,
     "metadata": {},
     "output_type": "execute_result"
    }
   ],
   "source": [
    "df['ring-type'].isna().sum()"
   ]
  },
  {
   "cell_type": "code",
   "execution_count": 69,
   "id": "5cce414a",
   "metadata": {},
   "outputs": [
    {
     "data": {
      "text/plain": [
       "0"
      ]
     },
     "execution_count": 69,
     "metadata": {},
     "output_type": "execute_result"
    }
   ],
   "source": [
    "# changing Nan's to zeros and pelacing to none - f\n",
    "df['ring-type']=df['ring-type'].fillna(0).replace({0: 'f'})\n",
    "df['ring-type'].isna().sum()"
   ]
  },
  {
   "cell_type": "code",
   "execution_count": 91,
   "id": "0b9ae5b1",
   "metadata": {},
   "outputs": [
    {
     "name": "stdout",
     "output_type": "stream",
     "text": [
      "<class 'pandas.core.frame.DataFrame'>\n",
      "RangeIndex: 61069 entries, 0 to 61068\n",
      "Data columns (total 21 columns):\n",
      " #   Column                Non-Null Count  Dtype  \n",
      "---  ------                --------------  -----  \n",
      " 0   class                 61069 non-null  object \n",
      " 1   cap-diameter          61069 non-null  float64\n",
      " 2   cap-shape             61069 non-null  object \n",
      " 3   cap-surface           46949 non-null  object \n",
      " 4   cap-color             61069 non-null  object \n",
      " 5   does-bruise-or-bleed  61069 non-null  object \n",
      " 6   gill-attachment       61069 non-null  object \n",
      " 7   gill-spacing          61069 non-null  object \n",
      " 8   gill-color            61069 non-null  object \n",
      " 9   stem-height           61069 non-null  float64\n",
      " 10  stem-width            61069 non-null  float64\n",
      " 11  stem-root             9531 non-null   object \n",
      " 12  stem-surface          22945 non-null  object \n",
      " 13  stem-color            61069 non-null  object \n",
      " 14  veil-type             61069 non-null  int64  \n",
      " 15  veil-color            7413 non-null   object \n",
      " 16  has-ring              61069 non-null  object \n",
      " 17  ring-type             61069 non-null  object \n",
      " 18  spore-print-color     6354 non-null   object \n",
      " 19  habitat               61069 non-null  object \n",
      " 20  season                61069 non-null  object \n",
      "dtypes: float64(3), int64(1), object(17)\n",
      "memory usage: 9.8+ MB\n"
     ]
    }
   ],
   "source": [
    "df.info()"
   ]
  },
  {
   "cell_type": "markdown",
   "id": "287fb1fd",
   "metadata": {},
   "source": [
    "## Other"
   ]
  },
  {
   "cell_type": "code",
   "execution_count": 28,
   "id": "276e2a5e",
   "metadata": {},
   "outputs": [
    {
     "data": {
      "text/plain": [
       "f    50479\n",
       "t    10590\n",
       "Name: does-bruise-or-bleed, dtype: int64"
      ]
     },
     "execution_count": 28,
     "metadata": {},
     "output_type": "execute_result"
    }
   ],
   "source": [
    "#5 does_bruise_or_bleed: bruises-or-bleeding=t,no=f\n",
    "df['does-bruise-or-bleed'].value_counts()"
   ]
  },
  {
   "cell_type": "code",
   "execution_count": 78,
   "id": "737541b2",
   "metadata": {},
   "outputs": [
    {
     "name": "stdout",
     "output_type": "stream",
     "text": [
      "89.6% are Nan values in this column\n"
     ]
    }
   ],
   "source": [
    "#18 spore-print-color \n",
    "print(\"{:.1%} are Nan values in this column\".format(df['spore-print-color'].isna().sum() / len(df['spore-print-color'])))"
   ]
  },
  {
   "cell_type": "code",
   "execution_count": 49,
   "id": "f4c9c0b8",
   "metadata": {},
   "outputs": [
    {
     "data": {
      "image/png": "[encoded data removed]",
      "text/plain": [
       "<Figure size 432x288 with 1 Axes>"
      ]
     },
     "metadata": {},
     "output_type": "display_data"
    }
   ],
   "source": [
    "# 19 habitat: grasses=g, leaves=l, meadows=m, paths=p, heaths=h, urban=u, waste=w, woods=d\n",
    "df['habitat'].value_counts(normalize=True).plot(kind='bar')\n",
    "plt.show()"
   ]
  },
  {
   "cell_type": "code",
   "execution_count": 48,
   "id": "3156e8ad",
   "metadata": {},
   "outputs": [
    {
     "data": {
      "image/png": "[encoded data removed]",
      "text/plain": [
       "<Figure size 432x288 with 1 Axes>"
      ]
     },
     "metadata": {},
     "output_type": "display_data"
    }
   ],
   "source": [
    "# 20 season: spring=s, summer=u, autumn=a, winter=w\n",
    "df['season'].value_counts(normalize=True).plot(kind='bar')\n",
    "plt.show()"
   ]
  },
  {
   "cell_type": "code",
   "execution_count": null,
   "id": "5e923ea0",
   "metadata": {},
   "outputs": [],
   "source": [
    "# usuwamy kolumnę stem_surface ze względu na małą licxzbę danych\n",
    "# df.drop(['stem_root', 'veil_color','spore_print_color', stem_surface'?], axis=1, inplace=True)"
   ]
  },
  {
   "cell_type": "code",
   "execution_count": 26,
   "id": "14dbdb82",
   "metadata": {},
   "outputs": [
    {
     "data": {
      "text/plain": [
       "<AxesSubplot:>"
      ]
     },
     "execution_count": 26,
     "metadata": {},
     "output_type": "execute_result"
    },
    {
     "data": {
      "image/png": "[encoded data removed]",
      "text/plain": [
       "<Figure size 576x432 with 2 Axes>"
      ]
     },
     "metadata": {
      "needs_background": "light"
     },
     "output_type": "display_data"
    }
   ],
   "source": [
    "# korelacja dla kolumn o danych numerycznych\n",
    "corr=df.corr()\n",
    "plt.figure(figsize=(8,6))\n",
    "sns.heatmap(corr)"
   ]
  },
  {
   "cell_type": "code",
   "execution_count": 96,
   "id": "e3396b45",
   "metadata": {},
   "outputs": [
    {
     "name": "stdout",
     "output_type": "stream",
     "text": [
      "<class 'pandas.core.frame.DataFrame'>\n",
      "RangeIndex: 61069 entries, 0 to 61068\n",
      "Data columns (total 21 columns):\n",
      " #   Column                Non-Null Count  Dtype  \n",
      "---  ------                --------------  -----  \n",
      " 0   class                 61069 non-null  object \n",
      " 1   cap-diameter          61069 non-null  float64\n",
      " 2   cap-shape             61069 non-null  object \n",
      " 3   cap-surface           46949 non-null  object \n",
      " 4   cap-color             61069 non-null  object \n",
      " 5   does-bruise-or-bleed  61069 non-null  object \n",
      " 6   gill-attachment       61069 non-null  object \n",
      " 7   gill-spacing          61069 non-null  object \n",
      " 8   gill-color            61069 non-null  object \n",
      " 9   stem-height           61069 non-null  float64\n",
      " 10  stem-width            61069 non-null  float64\n",
      " 11  stem-root             9531 non-null   object \n",
      " 12  stem-surface          22945 non-null  object \n",
      " 13  stem-color            61069 non-null  object \n",
      " 14  veil-type             61069 non-null  int64  \n",
      " 15  veil-color            7413 non-null   object \n",
      " 16  has-ring              61069 non-null  object \n",
      " 17  ring-type             61069 non-null  object \n",
      " 18  spore-print-color     6354 non-null   object \n",
      " 19  habitat               61069 non-null  object \n",
      " 20  season                61069 non-null  object \n",
      "dtypes: float64(3), int64(1), object(17)\n",
      "memory usage: 9.8+ MB\n"
     ]
    }
   ],
   "source": [
    "df.info()"
   ]
  },
  {
   "cell_type": "code",
   "execution_count": 33,
   "id": "53e8bad3",
   "metadata": {},
   "outputs": [
    {
     "data": {
      "text/plain": [
       "y    3361\n",
       "i    2804\n",
       "s    2478\n",
       "g    1765\n",
       "t    1412\n",
       "k    1059\n",
       "f    1059\n",
       "h     535\n",
       "Name: stem_surface, dtype: int64"
      ]
     },
     "execution_count": 33,
     "metadata": {},
     "output_type": "execute_result"
    }
   ],
   "source": [
    "class0=df[df['class']==0]\n",
    "class0['stem_surface'].value_counts()"
   ]
  },
  {
   "cell_type": "code",
   "execution_count": 34,
   "id": "145d0aaa",
   "metadata": {},
   "outputs": [
    {
     "data": {
      "text/plain": [
       "s    3547\n",
       "i    1592\n",
       "y    1579\n",
       "t    1232\n",
       "k     522\n",
       "Name: stem_surface, dtype: int64"
      ]
     },
     "execution_count": 34,
     "metadata": {},
     "output_type": "execute_result"
    }
   ],
   "source": [
    "class0=df[df['class']==1]\n",
    "class0['stem_surface'].value_counts()"
   ]
  },
  {
   "cell_type": "code",
   "execution_count": 35,
   "id": "323c1fc0",
   "metadata": {},
   "outputs": [
    {
     "data": {
      "text/plain": [
       "t    5373\n",
       "s    3270\n",
       "y    3012\n",
       "g    2760\n",
       "d    2383\n",
       "h    2357\n",
       "k    2122\n",
       "i    1856\n",
       "e    1348\n",
       "w    1288\n",
       "l     706\n",
       "Name: cap_surface, dtype: int64"
      ]
     },
     "execution_count": 35,
     "metadata": {},
     "output_type": "execute_result"
    }
   ],
   "source": [
    "class0=df[df['class']==0]\n",
    "class0['cap_surface'].value_counts()"
   ]
  },
  {
   "cell_type": "code",
   "execution_count": 36,
   "id": "ccee45e3",
   "metadata": {},
   "outputs": [
    {
     "data": {
      "text/plain": [
       "s    4338\n",
       "y    3329\n",
       "t    2823\n",
       "h    2617\n",
       "d    2049\n",
       "g    1964\n",
       "e    1236\n",
       "w     862\n",
       "l     706\n",
       "i     369\n",
       "k     181\n",
       "Name: cap_surface, dtype: int64"
      ]
     },
     "execution_count": 36,
     "metadata": {},
     "output_type": "execute_result"
    }
   ],
   "source": [
    "class0=df[df['class']==1]\n",
    "class0['cap_surface'].value_counts()"
   ]
  },
  {
   "cell_type": "code",
   "execution_count": 41,
   "id": "521fc445",
   "metadata": {},
   "outputs": [],
   "source": []
  },
  {
   "cell_type": "code",
   "execution_count": 44,
   "id": "b3be2ec3",
   "metadata": {},
   "outputs": [],
   "source": []
  },
  {
   "cell_type": "code",
   "execution_count": 45,
   "id": "089c5345",
   "metadata": {},
   "outputs": [],
   "source": []
  },
  {
   "cell_type": "code",
   "execution_count": 46,
   "id": "4dd4e97a",
   "metadata": {},
   "outputs": [
    {
     "name": "stdout",
     "output_type": "stream",
     "text": [
      "<class 'pandas.core.frame.DataFrame'>\n",
      "RangeIndex: 61069 entries, 0 to 61068\n",
      "Data columns (total 17 columns):\n",
      " #   Column                Non-Null Count  Dtype  \n",
      "---  ------                --------------  -----  \n",
      " 0   class                 61069 non-null  float64\n",
      " 1   cap_diameter          61069 non-null  float64\n",
      " 2   cap_shape             61069 non-null  object \n",
      " 3   cap_surface           46949 non-null  object \n",
      " 4   cap_color             61069 non-null  object \n",
      " 5   does_bruise_or_bleed  61069 non-null  float64\n",
      " 6   gill_attachment       51185 non-null  object \n",
      " 7   gill_spacing          61069 non-null  object \n",
      " 8   gill_color            61069 non-null  object \n",
      " 9   stem_height           61069 non-null  float64\n",
      " 10  stem-width            61069 non-null  float64\n",
      " 11  stem-color            61069 non-null  object \n",
      " 12  veil_type             61069 non-null  float64\n",
      " 13  has_ring              61069 non-null  float64\n",
      " 14  ring_type             61069 non-null  object \n",
      " 15  habitat               61069 non-null  object \n",
      " 16  season                61069 non-null  object \n",
      "dtypes: float64(7), object(10)\n",
      "memory usage: 7.9+ MB\n"
     ]
    }
   ],
   "source": [
    "df.info()"
   ]
  },
  {
   "cell_type": "code",
   "execution_count": 47,
   "id": "cbf1ccb3",
   "metadata": {},
   "outputs": [],
   "source": [
    "# Po usunięciu reszty Nan uzyskujemy tabelę:\n",
    "dfg=df.dropna()"
   ]
  },
  {
   "cell_type": "code",
   "execution_count": 48,
   "id": "136f88fd",
   "metadata": {},
   "outputs": [
    {
     "name": "stdout",
     "output_type": "stream",
     "text": [
      "<class 'pandas.core.frame.DataFrame'>\n",
      "Int64Index: 38830 entries, 0 to 61068\n",
      "Data columns (total 17 columns):\n",
      " #   Column                Non-Null Count  Dtype  \n",
      "---  ------                --------------  -----  \n",
      " 0   class                 38830 non-null  float64\n",
      " 1   cap_diameter          38830 non-null  float64\n",
      " 2   cap_shape             38830 non-null  object \n",
      " 3   cap_surface           38830 non-null  object \n",
      " 4   cap_color             38830 non-null  object \n",
      " 5   does_bruise_or_bleed  38830 non-null  float64\n",
      " 6   gill_attachment       38830 non-null  object \n",
      " 7   gill_spacing          38830 non-null  object \n",
      " 8   gill_color            38830 non-null  object \n",
      " 9   stem_height           38830 non-null  float64\n",
      " 10  stem-width            38830 non-null  float64\n",
      " 11  stem-color            38830 non-null  object \n",
      " 12  veil_type             38830 non-null  float64\n",
      " 13  has_ring              38830 non-null  float64\n",
      " 14  ring_type             38830 non-null  object \n",
      " 15  habitat               38830 non-null  object \n",
      " 16  season                38830 non-null  object \n",
      "dtypes: float64(7), object(10)\n",
      "memory usage: 5.3+ MB\n"
     ]
    }
   ],
   "source": [
    "dfg.info()"
   ]
  },
  {
   "cell_type": "code",
   "execution_count": null,
   "id": "269152f0",
   "metadata": {},
   "outputs": [],
   "source": []
  },
  {
   "cell_type": "code",
   "execution_count": 49,
   "id": "5f18b6ed",
   "metadata": {},
   "outputs": [],
   "source": [
    "# zamiana 10 kolumn o typie float64 na 0/1\n",
    "dfh=df.dropna(subset=['cap_surface'])"
   ]
  },
  {
   "cell_type": "code",
   "execution_count": 111,
   "id": "260ddc65",
   "metadata": {},
   "outputs": [
    {
     "name": "stdout",
     "output_type": "stream",
     "text": [
      "<class 'pandas.core.frame.DataFrame'>\n",
      "Int64Index: 46949 entries, 0 to 61068\n",
      "Data columns (total 89 columns):\n",
      " #   Column                Non-Null Count  Dtype  \n",
      "---  ------                --------------  -----  \n",
      " 0   class                 46949 non-null  float64\n",
      " 1   cap_diameter          46949 non-null  float64\n",
      " 2   does_bruise_or_bleed  46949 non-null  float64\n",
      " 3   stem_height           46949 non-null  float64\n",
      " 4   stem-width            46949 non-null  float64\n",
      " 5   veil_type             46949 non-null  float64\n",
      " 6   has_ring              46949 non-null  float64\n",
      " 7   b                     38830 non-null  float64\n",
      " 8   e                     38830 non-null  float64\n",
      " 9   g                     38830 non-null  float64\n",
      " 10  k                     38830 non-null  float64\n",
      " 11  l                     38830 non-null  float64\n",
      " 12  n                     38830 non-null  float64\n",
      " 13  o                     38830 non-null  float64\n",
      " 14  p                     38830 non-null  float64\n",
      " 15  r                     38830 non-null  float64\n",
      " 16  u                     38830 non-null  float64\n",
      " 17  w                     38830 non-null  float64\n",
      " 18  y                     38830 non-null  float64\n",
      " 19  b                     38830 non-null  float64\n",
      " 20  c                     38830 non-null  float64\n",
      " 21  f                     38830 non-null  float64\n",
      " 22  o                     38830 non-null  float64\n",
      " 23  p                     38830 non-null  float64\n",
      " 24  s                     38830 non-null  float64\n",
      " 25  x                     38830 non-null  float64\n",
      " 26  d                     38830 non-null  float64\n",
      " 27  e                     38830 non-null  float64\n",
      " 28  g                     38830 non-null  float64\n",
      " 29  h                     38830 non-null  float64\n",
      " 30  i                     38830 non-null  float64\n",
      " 31  k                     38830 non-null  float64\n",
      " 32  l                     38830 non-null  float64\n",
      " 33  s                     38830 non-null  float64\n",
      " 34  t                     38830 non-null  float64\n",
      " 35  w                     38830 non-null  float64\n",
      " 36  y                     38830 non-null  float64\n",
      " 37  a                     38830 non-null  float64\n",
      " 38  d                     38830 non-null  float64\n",
      " 39  e                     38830 non-null  float64\n",
      " 40  f                     38830 non-null  float64\n",
      " 41  p                     38830 non-null  float64\n",
      " 42  s                     38830 non-null  float64\n",
      " 43  x                     38830 non-null  float64\n",
      " 44  c                     38830 non-null  float64\n",
      " 45  d                     38830 non-null  float64\n",
      " 46  f                     38830 non-null  float64\n",
      " 47  b                     38830 non-null  float64\n",
      " 48  e                     38830 non-null  float64\n",
      " 49  f                     38830 non-null  float64\n",
      " 50  g                     38830 non-null  float64\n",
      " 51  k                     38830 non-null  float64\n",
      " 52  n                     38830 non-null  float64\n",
      " 53  o                     38830 non-null  float64\n",
      " 54  p                     38830 non-null  float64\n",
      " 55  r                     38830 non-null  float64\n",
      " 56  u                     38830 non-null  float64\n",
      " 57  w                     38830 non-null  float64\n",
      " 58  y                     38830 non-null  float64\n",
      " 59  e                     38830 non-null  float64\n",
      " 60  f                     38830 non-null  float64\n",
      " 61  g                     38830 non-null  float64\n",
      " 62  k                     38830 non-null  float64\n",
      " 63  l                     38830 non-null  float64\n",
      " 64  n                     38830 non-null  float64\n",
      " 65  o                     38830 non-null  float64\n",
      " 66  p                     38830 non-null  float64\n",
      " 67  r                     38830 non-null  float64\n",
      " 68  u                     38830 non-null  float64\n",
      " 69  w                     38830 non-null  float64\n",
      " 70  y                     38830 non-null  float64\n",
      " 71  e                     38830 non-null  float64\n",
      " 72  f                     38830 non-null  float64\n",
      " 73  g                     38830 non-null  float64\n",
      " 74  l                     38830 non-null  float64\n",
      " 75  p                     38830 non-null  float64\n",
      " 76  r                     38830 non-null  float64\n",
      " 77  z                     38830 non-null  float64\n",
      " 78  d                     38830 non-null  float64\n",
      " 79  g                     38830 non-null  float64\n",
      " 80  h                     38830 non-null  float64\n",
      " 81  l                     38830 non-null  float64\n",
      " 82  m                     38830 non-null  float64\n",
      " 83  u                     38830 non-null  float64\n",
      " 84  w                     38830 non-null  float64\n",
      " 85  a                     38830 non-null  float64\n",
      " 86  s                     38830 non-null  float64\n",
      " 87  u                     38830 non-null  float64\n",
      " 88  w                     38830 non-null  float64\n",
      "dtypes: float64(89)\n",
      "memory usage: 32.2 MB\n"
     ]
    }
   ],
   "source": [
    "dfh.info()"
   ]
  },
  {
   "cell_type": "code",
   "execution_count": 112,
   "id": "76835295",
   "metadata": {},
   "outputs": [],
   "source": [
    "dfi=dfh.dropna(subset=['b'])"
   ]
  },
  {
   "cell_type": "code",
   "execution_count": 113,
   "id": "5a33cf83",
   "metadata": {},
   "outputs": [
    {
     "name": "stdout",
     "output_type": "stream",
     "text": [
      "<class 'pandas.core.frame.DataFrame'>\n",
      "Int64Index: 38830 entries, 0 to 61068\n",
      "Data columns (total 89 columns):\n",
      " #   Column                Non-Null Count  Dtype  \n",
      "---  ------                --------------  -----  \n",
      " 0   class                 38830 non-null  float64\n",
      " 1   cap_diameter          38830 non-null  float64\n",
      " 2   does_bruise_or_bleed  38830 non-null  float64\n",
      " 3   stem_height           38830 non-null  float64\n",
      " 4   stem-width            38830 non-null  float64\n",
      " 5   veil_type             38830 non-null  float64\n",
      " 6   has_ring              38830 non-null  float64\n",
      " 7   b                     38830 non-null  float64\n",
      " 8   e                     38830 non-null  float64\n",
      " 9   g                     38830 non-null  float64\n",
      " 10  k                     38830 non-null  float64\n",
      " 11  l                     38830 non-null  float64\n",
      " 12  n                     38830 non-null  float64\n",
      " 13  o                     38830 non-null  float64\n",
      " 14  p                     38830 non-null  float64\n",
      " 15  r                     38830 non-null  float64\n",
      " 16  u                     38830 non-null  float64\n",
      " 17  w                     38830 non-null  float64\n",
      " 18  y                     38830 non-null  float64\n",
      " 19  b                     38830 non-null  float64\n",
      " 20  c                     38830 non-null  float64\n",
      " 21  f                     38830 non-null  float64\n",
      " 22  o                     38830 non-null  float64\n",
      " 23  p                     38830 non-null  float64\n",
      " 24  s                     38830 non-null  float64\n",
      " 25  x                     38830 non-null  float64\n",
      " 26  d                     38830 non-null  float64\n",
      " 27  e                     38830 non-null  float64\n",
      " 28  g                     38830 non-null  float64\n",
      " 29  h                     38830 non-null  float64\n",
      " 30  i                     38830 non-null  float64\n",
      " 31  k                     38830 non-null  float64\n",
      " 32  l                     38830 non-null  float64\n",
      " 33  s                     38830 non-null  float64\n",
      " 34  t                     38830 non-null  float64\n",
      " 35  w                     38830 non-null  float64\n",
      " 36  y                     38830 non-null  float64\n",
      " 37  a                     38830 non-null  float64\n",
      " 38  d                     38830 non-null  float64\n",
      " 39  e                     38830 non-null  float64\n",
      " 40  f                     38830 non-null  float64\n",
      " 41  p                     38830 non-null  float64\n",
      " 42  s                     38830 non-null  float64\n",
      " 43  x                     38830 non-null  float64\n",
      " 44  c                     38830 non-null  float64\n",
      " 45  d                     38830 non-null  float64\n",
      " 46  f                     38830 non-null  float64\n",
      " 47  b                     38830 non-null  float64\n",
      " 48  e                     38830 non-null  float64\n",
      " 49  f                     38830 non-null  float64\n",
      " 50  g                     38830 non-null  float64\n",
      " 51  k                     38830 non-null  float64\n",
      " 52  n                     38830 non-null  float64\n",
      " 53  o                     38830 non-null  float64\n",
      " 54  p                     38830 non-null  float64\n",
      " 55  r                     38830 non-null  float64\n",
      " 56  u                     38830 non-null  float64\n",
      " 57  w                     38830 non-null  float64\n",
      " 58  y                     38830 non-null  float64\n",
      " 59  e                     38830 non-null  float64\n",
      " 60  f                     38830 non-null  float64\n",
      " 61  g                     38830 non-null  float64\n",
      " 62  k                     38830 non-null  float64\n",
      " 63  l                     38830 non-null  float64\n",
      " 64  n                     38830 non-null  float64\n",
      " 65  o                     38830 non-null  float64\n",
      " 66  p                     38830 non-null  float64\n",
      " 67  r                     38830 non-null  float64\n",
      " 68  u                     38830 non-null  float64\n",
      " 69  w                     38830 non-null  float64\n",
      " 70  y                     38830 non-null  float64\n",
      " 71  e                     38830 non-null  float64\n",
      " 72  f                     38830 non-null  float64\n",
      " 73  g                     38830 non-null  float64\n",
      " 74  l                     38830 non-null  float64\n",
      " 75  p                     38830 non-null  float64\n",
      " 76  r                     38830 non-null  float64\n",
      " 77  z                     38830 non-null  float64\n",
      " 78  d                     38830 non-null  float64\n",
      " 79  g                     38830 non-null  float64\n",
      " 80  h                     38830 non-null  float64\n",
      " 81  l                     38830 non-null  float64\n",
      " 82  m                     38830 non-null  float64\n",
      " 83  u                     38830 non-null  float64\n",
      " 84  w                     38830 non-null  float64\n",
      " 85  a                     38830 non-null  float64\n",
      " 86  s                     38830 non-null  float64\n",
      " 87  u                     38830 non-null  float64\n",
      " 88  w                     38830 non-null  float64\n",
      "dtypes: float64(89)\n",
      "memory usage: 26.7 MB\n"
     ]
    }
   ],
   "source": [
    "dfi.info()"
   ]
  },
  {
   "cell_type": "markdown",
   "id": "e037a8c8",
   "metadata": {},
   "source": [
    "## Regresja logistyczna"
   ]
  },
  {
   "cell_type": "code",
   "execution_count": 114,
   "id": "e0cb3f8e",
   "metadata": {},
   "outputs": [],
   "source": [
    "from sklearn.linear_model import LogisticRegression\n",
    "from sklearn.model_selection import train_test_split"
   ]
  },
  {
   "cell_type": "code",
   "execution_count": 115,
   "id": "56ff5839",
   "metadata": {},
   "outputs": [],
   "source": [
    "y=dfi.pop('class')\n",
    "X=dfi"
   ]
  },
  {
   "cell_type": "code",
   "execution_count": 116,
   "id": "8d639eec",
   "metadata": {},
   "outputs": [],
   "source": [
    "X_train,X_test,y_train,y_test=train_test_split(X,y, test_size=0.2, random_state=42)"
   ]
  },
  {
   "cell_type": "code",
   "execution_count": 117,
   "id": "008e0c1d",
   "metadata": {},
   "outputs": [
    {
     "name": "stderr",
     "output_type": "stream",
     "text": [
      "C:\\Users\\HP\\anaconda3\\lib\\site-packages\\sklearn\\linear_model\\_logistic.py:444: ConvergenceWarning: lbfgs failed to converge (status=1):\n",
      "STOP: TOTAL NO. of ITERATIONS REACHED LIMIT.\n",
      "\n",
      "Increase the number of iterations (max_iter) or scale the data as shown in:\n",
      "    https://scikit-learn.org/stable/modules/preprocessing.html\n",
      "Please also refer to the documentation for alternative solver options:\n",
      "    https://scikit-learn.org/stable/modules/linear_model.html#logistic-regression\n",
      "  n_iter_i = _check_optimize_result(\n"
     ]
    },
    {
     "data": {
      "text/html": [
       "<style>#sk-container-id-1 {color: black;background-color: white;}#sk-container-id-1 pre{padding: 0;}#sk-container-id-1 div.sk-toggleable {background-color: white;}#sk-container-id-1 label.sk-toggleable__label {cursor: pointer;display: block;width: 100%;margin-bottom: 0;padding: 0.3em;box-sizing: border-box;text-align: center;}#sk-container-id-1 label.sk-toggleable__label-arrow:before {content: \"▸\";float: left;margin-right: 0.25em;color: #696969;}#sk-container-id-1 label.sk-toggleable__label-arrow:hover:before {color: black;}#sk-container-id-1 div.sk-estimator:hover label.sk-toggleable__label-arrow:before {color: black;}#sk-container-id-1 div.sk-toggleable__content {max-height: 0;max-width: 0;overflow: hidden;text-align: left;background-color: #f0f8ff;}#sk-container-id-1 div.sk-toggleable__content pre {margin: 0.2em;color: black;border-radius: 0.25em;background-color: #f0f8ff;}#sk-container-id-1 input.sk-toggleable__control:checked~div.sk-toggleable__content {max-height: 200px;max-width: 100%;overflow: auto;}#sk-container-id-1 input.sk-toggleable__control:checked~label.sk-toggleable__label-arrow:before {content: \"▾\";}#sk-container-id-1 div.sk-estimator input.sk-toggleable__control:checked~label.sk-toggleable__label {background-color: #d4ebff;}#sk-container-id-1 div.sk-label input.sk-toggleable__control:checked~label.sk-toggleable__label {background-color: #d4ebff;}#sk-container-id-1 input.sk-hidden--visually {border: 0;clip: rect(1px 1px 1px 1px);clip: rect(1px, 1px, 1px, 1px);height: 1px;margin: -1px;overflow: hidden;padding: 0;position: absolute;width: 1px;}#sk-container-id-1 div.sk-estimator {font-family: monospace;background-color: #f0f8ff;border: 1px dotted black;border-radius: 0.25em;box-sizing: border-box;margin-bottom: 0.5em;}#sk-container-id-1 div.sk-estimator:hover {background-color: #d4ebff;}#sk-container-id-1 div.sk-parallel-item::after {content: \"\";width: 100%;border-bottom: 1px solid gray;flex-grow: 1;}#sk-container-id-1 div.sk-label:hover label.sk-toggleable__label {background-color: #d4ebff;}#sk-container-id-1 div.sk-serial::before {content: \"\";position: absolute;border-left: 1px solid gray;box-sizing: border-box;top: 0;bottom: 0;left: 50%;z-index: 0;}#sk-container-id-1 div.sk-serial {display: flex;flex-direction: column;align-items: center;background-color: white;padding-right: 0.2em;padding-left: 0.2em;position: relative;}#sk-container-id-1 div.sk-item {position: relative;z-index: 1;}#sk-container-id-1 div.sk-parallel {display: flex;align-items: stretch;justify-content: center;background-color: white;position: relative;}#sk-container-id-1 div.sk-item::before, #sk-container-id-1 div.sk-parallel-item::before {content: \"\";position: absolute;border-left: 1px solid gray;box-sizing: border-box;top: 0;bottom: 0;left: 50%;z-index: -1;}#sk-container-id-1 div.sk-parallel-item {display: flex;flex-direction: column;z-index: 1;position: relative;background-color: white;}#sk-container-id-1 div.sk-parallel-item:first-child::after {align-self: flex-end;width: 50%;}#sk-container-id-1 div.sk-parallel-item:last-child::after {align-self: flex-start;width: 50%;}#sk-container-id-1 div.sk-parallel-item:only-child::after {width: 0;}#sk-container-id-1 div.sk-dashed-wrapped {border: 1px dashed gray;margin: 0 0.4em 0.5em 0.4em;box-sizing: border-box;padding-bottom: 0.4em;background-color: white;}#sk-container-id-1 div.sk-label label {font-family: monospace;font-weight: bold;display: inline-block;line-height: 1.2em;}#sk-container-id-1 div.sk-label-container {text-align: center;}#sk-container-id-1 div.sk-container {/* jupyter's `normalize.less` sets `[hidden] { display: none; }` but bootstrap.min.css set `[hidden] { display: none !important; }` so we also need the `!important` here to be able to override the default hidden behavior on the sphinx rendered scikit-learn.org. See: https://github.com/scikit-learn/scikit-learn/issues/21755 */display: inline-block !important;position: relative;}#sk-container-id-1 div.sk-text-repr-fallback {display: none;}</style><div id=\"sk-container-id-1\" class=\"sk-top-container\"><div class=\"sk-text-repr-fallback\"><pre>LogisticRegression(random_state=42)</pre><b>In a Jupyter environment, please rerun this cell to show the HTML representation or trust the notebook. <br />On GitHub, the HTML representation is unable to render, please try loading this page with nbviewer.org.</b></div><div class=\"sk-container\" hidden><div class=\"sk-item\"><div class=\"sk-estimator sk-toggleable\"><input class=\"sk-toggleable__control sk-hidden--visually\" id=\"sk-estimator-id-1\" type=\"checkbox\" checked><label for=\"sk-estimator-id-1\" class=\"sk-toggleable__label sk-toggleable__label-arrow\">LogisticRegression</label><div class=\"sk-toggleable__content\"><pre>LogisticRegression(random_state=42)</pre></div></div></div></div></div>"
      ],
      "text/plain": [
       "LogisticRegression(random_state=42)"
      ]
     },
     "execution_count": 117,
     "metadata": {},
     "output_type": "execute_result"
    }
   ],
   "source": [
    "model=LogisticRegression(random_state=42)\n",
    "model.fit(X_train, y_train)"
   ]
  },
  {
   "cell_type": "code",
   "execution_count": 118,
   "id": "a0da5382",
   "metadata": {},
   "outputs": [],
   "source": [
    "y_pred_train=model.predict(X_train)\n",
    "y_pred_test=model.predict(X_test)"
   ]
  },
  {
   "cell_type": "code",
   "execution_count": 119,
   "id": "9e023817",
   "metadata": {},
   "outputs": [],
   "source": [
    "from sklearn.metrics import confusion_matrix, classification_report"
   ]
  },
  {
   "cell_type": "code",
   "execution_count": 120,
   "id": "1a54965b",
   "metadata": {},
   "outputs": [
    {
     "data": {
      "image/png": "[encoded data removed]",
      "text/plain": [
       "<Figure size 432x288 with 2 Axes>"
      ]
     },
     "metadata": {
      "needs_background": "light"
     },
     "output_type": "display_data"
    }
   ],
   "source": [
    "cm_train=confusion_matrix(y_train, y_pred_train)\n",
    "sns.heatmap(cm_train, annot=True, fmt='d')\n",
    "plt.show()"
   ]
  },
  {
   "cell_type": "code",
   "execution_count": 121,
   "id": "001133a8",
   "metadata": {},
   "outputs": [
    {
     "name": "stdout",
     "output_type": "stream",
     "text": [
      "              precision    recall  f1-score   support\n",
      "\n",
      "         0.0       0.83      0.82      0.83      4188\n",
      "         1.0       0.79      0.81      0.80      3578\n",
      "\n",
      "    accuracy                           0.82      7766\n",
      "   macro avg       0.81      0.81      0.81      7766\n",
      "weighted avg       0.82      0.82      0.82      7766\n",
      "\n"
     ]
    }
   ],
   "source": [
    "print(classification_report(y_test, y_pred_test))"
   ]
  },
  {
   "cell_type": "markdown",
   "id": "eb094871",
   "metadata": {},
   "source": [
    "### Krzywa ROC"
   ]
  },
  {
   "cell_type": "code",
   "execution_count": 123,
   "id": "b0e91b8a",
   "metadata": {},
   "outputs": [],
   "source": [
    "from sklearn.metrics import roc_curve, roc_auc_score"
   ]
  },
  {
   "cell_type": "code",
   "execution_count": 124,
   "id": "053b7281",
   "metadata": {},
   "outputs": [],
   "source": [
    "fpr, tpr, thresholds=roc_curve(y_test, y_pred_test)"
   ]
  },
  {
   "cell_type": "code",
   "execution_count": 125,
   "id": "d36d98c5",
   "metadata": {},
   "outputs": [
    {
     "data": {
      "text/plain": [
       "array([0.        , 0.17884432, 1.        ])"
      ]
     },
     "execution_count": 125,
     "metadata": {},
     "output_type": "execute_result"
    }
   ],
   "source": [
    "fpr"
   ]
  },
  {
   "cell_type": "code",
   "execution_count": 126,
   "id": "f0b018ef",
   "metadata": {},
   "outputs": [
    {
     "data": {
      "text/plain": [
       "array([0.        , 0.80855226, 1.        ])"
      ]
     },
     "execution_count": 126,
     "metadata": {},
     "output_type": "execute_result"
    }
   ],
   "source": [
    "tpr"
   ]
  },
  {
   "cell_type": "code",
   "execution_count": 127,
   "id": "92710ffd",
   "metadata": {},
   "outputs": [
    {
     "data": {
      "text/plain": [
       "array([2., 1., 0.])"
      ]
     },
     "execution_count": 127,
     "metadata": {},
     "output_type": "execute_result"
    }
   ],
   "source": [
    "thresholds"
   ]
  },
  {
   "cell_type": "code",
   "execution_count": 128,
   "id": "6176c2cb",
   "metadata": {},
   "outputs": [],
   "source": [
    "auc=roc_auc_score(y_test, y_pred_test)"
   ]
  },
  {
   "cell_type": "code",
   "execution_count": 129,
   "id": "80880130",
   "metadata": {},
   "outputs": [
    {
     "name": "stdout",
     "output_type": "stream",
     "text": [
      "AUC: 0.815\n"
     ]
    }
   ],
   "source": [
    "print('AUC: %.3f' % auc)"
   ]
  },
  {
   "cell_type": "code",
   "execution_count": 130,
   "id": "44484ecf",
   "metadata": {},
   "outputs": [],
   "source": [
    "help_prob=[0 for _ in range(len(y_test))]"
   ]
  },
  {
   "cell_type": "code",
   "execution_count": 131,
   "id": "473905e6",
   "metadata": {},
   "outputs": [],
   "source": [
    "help_fpr, help_tpr, _=roc_curve(y_test, help_prob)"
   ]
  },
  {
   "cell_type": "code",
   "execution_count": 132,
   "id": "d3a28d4d",
   "metadata": {},
   "outputs": [
    {
     "data": {
      "image/png": "[encoded data removed]",
      "text/plain": [
       "<Figure size 432x288 with 1 Axes>"
      ]
     },
     "metadata": {
      "needs_background": "light"
     },
     "output_type": "display_data"
    }
   ],
   "source": [
    "plt.plot(help_fpr, help_tpr, linestyle='--', label='No model')\n",
    "plt.plot(fpr, tpr, marker='.', label='Logistic')\n",
    "plt.xlabel('False positive rate')\n",
    "plt.ylabel('True posotive rate')\n",
    "plt.legend()\n",
    "plt.show()"
   ]
  },
  {
   "cell_type": "code",
   "execution_count": 133,
   "id": "bf87b086",
   "metadata": {},
   "outputs": [
    {
     "name": "stderr",
     "output_type": "stream",
     "text": [
      "C:\\Users\\HP\\anaconda3\\lib\\site-packages\\sklearn\\linear_model\\_logistic.py:444: ConvergenceWarning: lbfgs failed to converge (status=1):\n",
      "STOP: TOTAL NO. of ITERATIONS REACHED LIMIT.\n",
      "\n",
      "Increase the number of iterations (max_iter) or scale the data as shown in:\n",
      "    https://scikit-learn.org/stable/modules/preprocessing.html\n",
      "Please also refer to the documentation for alternative solver options:\n",
      "    https://scikit-learn.org/stable/modules/linear_model.html#logistic-regression\n",
      "  n_iter_i = _check_optimize_result(\n"
     ]
    }
   ],
   "source": [
    "# model2\n",
    "model2=LogisticRegression(max_iter=50)\n",
    "model2.fit(X_train, y_train)\n",
    "y_pred2=model2.predict(X_test)"
   ]
  },
  {
   "cell_type": "code",
   "execution_count": 134,
   "id": "c57be489",
   "metadata": {},
   "outputs": [
    {
     "name": "stdout",
     "output_type": "stream",
     "text": [
      "              precision    recall  f1-score   support\n",
      "\n",
      "         0.0       0.82      0.83      0.82      4188\n",
      "         1.0       0.79      0.79      0.79      3578\n",
      "\n",
      "    accuracy                           0.81      7766\n",
      "   macro avg       0.81      0.81      0.81      7766\n",
      "weighted avg       0.81      0.81      0.81      7766\n",
      "\n"
     ]
    }
   ],
   "source": [
    "print(classification_report(y_test, y_pred2))"
   ]
  },
  {
   "cell_type": "code",
   "execution_count": 135,
   "id": "f8f4a0a8",
   "metadata": {},
   "outputs": [
    {
     "name": "stderr",
     "output_type": "stream",
     "text": [
      "C:\\Users\\HP\\anaconda3\\lib\\site-packages\\sklearn\\linear_model\\_logistic.py:444: ConvergenceWarning: lbfgs failed to converge (status=1):\n",
      "STOP: TOTAL NO. of ITERATIONS REACHED LIMIT.\n",
      "\n",
      "Increase the number of iterations (max_iter) or scale the data as shown in:\n",
      "    https://scikit-learn.org/stable/modules/preprocessing.html\n",
      "Please also refer to the documentation for alternative solver options:\n",
      "    https://scikit-learn.org/stable/modules/linear_model.html#logistic-regression\n",
      "  n_iter_i = _check_optimize_result(\n"
     ]
    }
   ],
   "source": [
    "# model3\n",
    "model3=LogisticRegression(max_iter=150)\n",
    "model3.fit(X_train, y_train)\n",
    "y_pred3=model3.predict(X_test)"
   ]
  },
  {
   "cell_type": "code",
   "execution_count": 136,
   "id": "707fa38a",
   "metadata": {},
   "outputs": [
    {
     "name": "stdout",
     "output_type": "stream",
     "text": [
      "              precision    recall  f1-score   support\n",
      "\n",
      "         0.0       0.83      0.83      0.83      4188\n",
      "         1.0       0.80      0.80      0.80      3578\n",
      "\n",
      "    accuracy                           0.82      7766\n",
      "   macro avg       0.82      0.82      0.82      7766\n",
      "weighted avg       0.82      0.82      0.82      7766\n",
      "\n"
     ]
    }
   ],
   "source": [
    "print(classification_report(y_test, y_pred3))"
   ]
  },
  {
   "cell_type": "code",
   "execution_count": 137,
   "id": "410744b5",
   "metadata": {},
   "outputs": [],
   "source": [
    "model4=LogisticRegression(solver='liblinear', penalty='l1')\n",
    "model4.fit(X_train, y_train)\n",
    "y_pred4=model4.predict(X_test)"
   ]
  },
  {
   "cell_type": "code",
   "execution_count": 138,
   "id": "416964ea",
   "metadata": {},
   "outputs": [
    {
     "name": "stdout",
     "output_type": "stream",
     "text": [
      "              precision    recall  f1-score   support\n",
      "\n",
      "         0.0       0.83      0.82      0.83      4188\n",
      "         1.0       0.80      0.80      0.80      3578\n",
      "\n",
      "    accuracy                           0.81      7766\n",
      "   macro avg       0.81      0.81      0.81      7766\n",
      "weighted avg       0.81      0.81      0.81      7766\n",
      "\n"
     ]
    }
   ],
   "source": [
    "print(classification_report(y_test, y_pred4))"
   ]
  },
  {
   "cell_type": "code",
   "execution_count": 139,
   "id": "52a3e4a7",
   "metadata": {},
   "outputs": [
    {
     "name": "stderr",
     "output_type": "stream",
     "text": [
      "C:\\Users\\HP\\anaconda3\\lib\\site-packages\\sklearn\\linear_model\\_sag.py:350: ConvergenceWarning: The max_iter was reached which means the coef_ did not converge\n",
      "  warnings.warn(\n"
     ]
    }
   ],
   "source": [
    "model5=LogisticRegression(solver='saga', penalty='l1')\n",
    "model5.fit(X_train, y_train)\n",
    "y_pred5=model5.predict(X_test)"
   ]
  },
  {
   "cell_type": "code",
   "execution_count": 140,
   "id": "3f8e612c",
   "metadata": {},
   "outputs": [
    {
     "name": "stdout",
     "output_type": "stream",
     "text": [
      "              precision    recall  f1-score   support\n",
      "\n",
      "         0.0       0.82      0.82      0.82      4188\n",
      "         1.0       0.79      0.79      0.79      3578\n",
      "\n",
      "    accuracy                           0.80      7766\n",
      "   macro avg       0.80      0.80      0.80      7766\n",
      "weighted avg       0.80      0.80      0.80      7766\n",
      "\n"
     ]
    }
   ],
   "source": [
    "print(classification_report(y_test, y_pred5))"
   ]
  },
  {
   "cell_type": "code",
   "execution_count": 141,
   "id": "d09472d6",
   "metadata": {},
   "outputs": [
    {
     "name": "stderr",
     "output_type": "stream",
     "text": [
      "C:\\Users\\HP\\anaconda3\\lib\\site-packages\\sklearn\\linear_model\\_logistic.py:444: ConvergenceWarning: lbfgs failed to converge (status=1):\n",
      "STOP: TOTAL NO. of ITERATIONS REACHED LIMIT.\n",
      "\n",
      "Increase the number of iterations (max_iter) or scale the data as shown in:\n",
      "    https://scikit-learn.org/stable/modules/preprocessing.html\n",
      "Please also refer to the documentation for alternative solver options:\n",
      "    https://scikit-learn.org/stable/modules/linear_model.html#logistic-regression\n",
      "  n_iter_i = _check_optimize_result(\n"
     ]
    }
   ],
   "source": [
    "model6=LogisticRegression(class_weight='balanced')\n",
    "model6.fit(X_train, y_train)\n",
    "y_pred6=model6.predict(X_test)"
   ]
  },
  {
   "cell_type": "code",
   "execution_count": 142,
   "id": "212eee0a",
   "metadata": {},
   "outputs": [
    {
     "name": "stdout",
     "output_type": "stream",
     "text": [
      "              precision    recall  f1-score   support\n",
      "\n",
      "         0.0       0.85      0.81      0.83      4188\n",
      "         1.0       0.79      0.83      0.81      3578\n",
      "\n",
      "    accuracy                           0.82      7766\n",
      "   macro avg       0.82      0.82      0.82      7766\n",
      "weighted avg       0.82      0.82      0.82      7766\n",
      "\n"
     ]
    }
   ],
   "source": [
    "print(classification_report(y_test, y_pred6))"
   ]
  },
  {
   "cell_type": "markdown",
   "id": "5a553ec3",
   "metadata": {},
   "source": [
    "## KNN k najbliższych sąsiadów"
   ]
  },
  {
   "cell_type": "code",
   "execution_count": 143,
   "id": "e9d5381e",
   "metadata": {},
   "outputs": [],
   "source": [
    "from sklearn.neighbors import KNeighborsClassifier"
   ]
  },
  {
   "cell_type": "code",
   "execution_count": 144,
   "id": "a6957d49",
   "metadata": {},
   "outputs": [],
   "source": [
    "knn=KNeighborsClassifier(n_neighbors=5)\n",
    "knn.fit(X_train, y_train)\n",
    "pred_knn=knn.predict(X_test)"
   ]
  },
  {
   "cell_type": "code",
   "execution_count": 145,
   "id": "8371e995",
   "metadata": {},
   "outputs": [
    {
     "name": "stdout",
     "output_type": "stream",
     "text": [
      "              precision    recall  f1-score   support\n",
      "\n",
      "         0.0       1.00      1.00      1.00      4188\n",
      "         1.0       1.00      1.00      1.00      3578\n",
      "\n",
      "    accuracy                           1.00      7766\n",
      "   macro avg       1.00      1.00      1.00      7766\n",
      "weighted avg       1.00      1.00      1.00      7766\n",
      "\n"
     ]
    }
   ],
   "source": [
    "print(classification_report(y_test, pred_knn))"
   ]
  },
  {
   "cell_type": "code",
   "execution_count": 146,
   "id": "cc39748e",
   "metadata": {},
   "outputs": [],
   "source": [
    "knn2=KNeighborsClassifier(n_neighbors=5, metric='chebyshev')\n",
    "knn2.fit(X_train, y_train)\n",
    "pred_knn2=knn2.predict(X_test)"
   ]
  },
  {
   "cell_type": "code",
   "execution_count": 147,
   "id": "69b3a448",
   "metadata": {},
   "outputs": [
    {
     "name": "stdout",
     "output_type": "stream",
     "text": [
      "              precision    recall  f1-score   support\n",
      "\n",
      "         0.0       0.94      0.94      0.94      4188\n",
      "         1.0       0.93      0.93      0.93      3578\n",
      "\n",
      "    accuracy                           0.93      7766\n",
      "   macro avg       0.93      0.93      0.93      7766\n",
      "weighted avg       0.93      0.93      0.93      7766\n",
      "\n"
     ]
    }
   ],
   "source": [
    "print(classification_report(y_test, pred_knn2))"
   ]
  },
  {
   "cell_type": "code",
   "execution_count": 148,
   "id": "ba1113ef",
   "metadata": {},
   "outputs": [],
   "source": [
    "knn3=KNeighborsClassifier(n_neighbors=5, metric='manhattan')\n",
    "knn3.fit(X_train, y_train)\n",
    "pred_knn3=knn3.predict(X_test)"
   ]
  },
  {
   "cell_type": "code",
   "execution_count": 149,
   "id": "9a5104b5",
   "metadata": {},
   "outputs": [
    {
     "name": "stdout",
     "output_type": "stream",
     "text": [
      "              precision    recall  f1-score   support\n",
      "\n",
      "         0.0       1.00      1.00      1.00      4188\n",
      "         1.0       1.00      1.00      1.00      3578\n",
      "\n",
      "    accuracy                           1.00      7766\n",
      "   macro avg       1.00      1.00      1.00      7766\n",
      "weighted avg       1.00      1.00      1.00      7766\n",
      "\n"
     ]
    }
   ],
   "source": [
    "print(classification_report(y_test, pred_knn3))"
   ]
  },
  {
   "cell_type": "code",
   "execution_count": 150,
   "id": "b5e27702",
   "metadata": {},
   "outputs": [],
   "source": [
    "knn4=KNeighborsClassifier(n_neighbors=7, metric='euclidean', weights='distance')\n",
    "knn4.fit(X_train, y_train)\n",
    "pred_knn4=knn4.predict(X_test)"
   ]
  },
  {
   "cell_type": "code",
   "execution_count": 151,
   "id": "d4cd4466",
   "metadata": {},
   "outputs": [
    {
     "name": "stdout",
     "output_type": "stream",
     "text": [
      "              precision    recall  f1-score   support\n",
      "\n",
      "         0.0       1.00      1.00      1.00      4188\n",
      "         1.0       1.00      1.00      1.00      3578\n",
      "\n",
      "    accuracy                           1.00      7766\n",
      "   macro avg       1.00      1.00      1.00      7766\n",
      "weighted avg       1.00      1.00      1.00      7766\n",
      "\n"
     ]
    }
   ],
   "source": [
    "print(classification_report(y_test, pred_knn4))"
   ]
  },
  {
   "cell_type": "markdown",
   "id": "245afeeb",
   "metadata": {},
   "source": [
    "## Drzewo decyzyjne"
   ]
  },
  {
   "cell_type": "code",
   "execution_count": 152,
   "id": "42564b6b",
   "metadata": {},
   "outputs": [],
   "source": [
    "from sklearn.tree import DecisionTreeClassifier\n",
    "from sklearn.tree import DecisionTreeRegressor\n",
    "from sklearn import tree"
   ]
  },
  {
   "cell_type": "code",
   "execution_count": 153,
   "id": "fc73084d",
   "metadata": {},
   "outputs": [],
   "source": [
    "dt=DecisionTreeClassifier()\n",
    "dt.fit(X_train, y_train)\n",
    "y_dt=dt.predict(X_test)"
   ]
  },
  {
   "cell_type": "code",
   "execution_count": 154,
   "id": "1250a8f4",
   "metadata": {},
   "outputs": [
    {
     "name": "stdout",
     "output_type": "stream",
     "text": [
      "              precision    recall  f1-score   support\n",
      "\n",
      "         0.0       1.00      1.00      1.00      4188\n",
      "         1.0       1.00      1.00      1.00      3578\n",
      "\n",
      "    accuracy                           1.00      7766\n",
      "   macro avg       1.00      1.00      1.00      7766\n",
      "weighted avg       1.00      1.00      1.00      7766\n",
      "\n"
     ]
    }
   ],
   "source": [
    "print(classification_report(y_test,y_dt))"
   ]
  },
  {
   "cell_type": "code",
   "execution_count": 165,
   "id": "4553b2a3",
   "metadata": {},
   "outputs": [
    {
     "data": {
      "text/plain": [
       "16"
      ]
     },
     "execution_count": 165,
     "metadata": {},
     "output_type": "execute_result"
    }
   ],
   "source": [
    "dt.get_depth()"
   ]
  },
  {
   "cell_type": "code",
   "execution_count": 166,
   "id": "b1bc818f",
   "metadata": {},
   "outputs": [
    {
     "data": {
      "text/plain": [
       "119"
      ]
     },
     "execution_count": 166,
     "metadata": {},
     "output_type": "execute_result"
    }
   ],
   "source": [
    "dt.get_n_leaves()"
   ]
  },
  {
   "cell_type": "code",
   "execution_count": 155,
   "id": "100e5f52",
   "metadata": {},
   "outputs": [
    {
     "data": {
      "text/html": [
       "<style>#sk-container-id-2 {color: black;background-color: white;}#sk-container-id-2 pre{padding: 0;}#sk-container-id-2 div.sk-toggleable {background-color: white;}#sk-container-id-2 label.sk-toggleable__label {cursor: pointer;display: block;width: 100%;margin-bottom: 0;padding: 0.3em;box-sizing: border-box;text-align: center;}#sk-container-id-2 label.sk-toggleable__label-arrow:before {content: \"▸\";float: left;margin-right: 0.25em;color: #696969;}#sk-container-id-2 label.sk-toggleable__label-arrow:hover:before {color: black;}#sk-container-id-2 div.sk-estimator:hover label.sk-toggleable__label-arrow:before {color: black;}#sk-container-id-2 div.sk-toggleable__content {max-height: 0;max-width: 0;overflow: hidden;text-align: left;background-color: #f0f8ff;}#sk-container-id-2 div.sk-toggleable__content pre {margin: 0.2em;color: black;border-radius: 0.25em;background-color: #f0f8ff;}#sk-container-id-2 input.sk-toggleable__control:checked~div.sk-toggleable__content {max-height: 200px;max-width: 100%;overflow: auto;}#sk-container-id-2 input.sk-toggleable__control:checked~label.sk-toggleable__label-arrow:before {content: \"▾\";}#sk-container-id-2 div.sk-estimator input.sk-toggleable__control:checked~label.sk-toggleable__label {background-color: #d4ebff;}#sk-container-id-2 div.sk-label input.sk-toggleable__control:checked~label.sk-toggleable__label {background-color: #d4ebff;}#sk-container-id-2 input.sk-hidden--visually {border: 0;clip: rect(1px 1px 1px 1px);clip: rect(1px, 1px, 1px, 1px);height: 1px;margin: -1px;overflow: hidden;padding: 0;position: absolute;width: 1px;}#sk-container-id-2 div.sk-estimator {font-family: monospace;background-color: #f0f8ff;border: 1px dotted black;border-radius: 0.25em;box-sizing: border-box;margin-bottom: 0.5em;}#sk-container-id-2 div.sk-estimator:hover {background-color: #d4ebff;}#sk-container-id-2 div.sk-parallel-item::after {content: \"\";width: 100%;border-bottom: 1px solid gray;flex-grow: 1;}#sk-container-id-2 div.sk-label:hover label.sk-toggleable__label {background-color: #d4ebff;}#sk-container-id-2 div.sk-serial::before {content: \"\";position: absolute;border-left: 1px solid gray;box-sizing: border-box;top: 0;bottom: 0;left: 50%;z-index: 0;}#sk-container-id-2 div.sk-serial {display: flex;flex-direction: column;align-items: center;background-color: white;padding-right: 0.2em;padding-left: 0.2em;position: relative;}#sk-container-id-2 div.sk-item {position: relative;z-index: 1;}#sk-container-id-2 div.sk-parallel {display: flex;align-items: stretch;justify-content: center;background-color: white;position: relative;}#sk-container-id-2 div.sk-item::before, #sk-container-id-2 div.sk-parallel-item::before {content: \"\";position: absolute;border-left: 1px solid gray;box-sizing: border-box;top: 0;bottom: 0;left: 50%;z-index: -1;}#sk-container-id-2 div.sk-parallel-item {display: flex;flex-direction: column;z-index: 1;position: relative;background-color: white;}#sk-container-id-2 div.sk-parallel-item:first-child::after {align-self: flex-end;width: 50%;}#sk-container-id-2 div.sk-parallel-item:last-child::after {align-self: flex-start;width: 50%;}#sk-container-id-2 div.sk-parallel-item:only-child::after {width: 0;}#sk-container-id-2 div.sk-dashed-wrapped {border: 1px dashed gray;margin: 0 0.4em 0.5em 0.4em;box-sizing: border-box;padding-bottom: 0.4em;background-color: white;}#sk-container-id-2 div.sk-label label {font-family: monospace;font-weight: bold;display: inline-block;line-height: 1.2em;}#sk-container-id-2 div.sk-label-container {text-align: center;}#sk-container-id-2 div.sk-container {/* jupyter's `normalize.less` sets `[hidden] { display: none; }` but bootstrap.min.css set `[hidden] { display: none !important; }` so we also need the `!important` here to be able to override the default hidden behavior on the sphinx rendered scikit-learn.org. See: https://github.com/scikit-learn/scikit-learn/issues/21755 */display: inline-block !important;position: relative;}#sk-container-id-2 div.sk-text-repr-fallback {display: none;}</style><div id=\"sk-container-id-2\" class=\"sk-top-container\"><div class=\"sk-text-repr-fallback\"><pre>DecisionTreeClassifier(criterion=&#x27;entropy&#x27;)</pre><b>In a Jupyter environment, please rerun this cell to show the HTML representation or trust the notebook. <br />On GitHub, the HTML representation is unable to render, please try loading this page with nbviewer.org.</b></div><div class=\"sk-container\" hidden><div class=\"sk-item\"><div class=\"sk-estimator sk-toggleable\"><input class=\"sk-toggleable__control sk-hidden--visually\" id=\"sk-estimator-id-2\" type=\"checkbox\" checked><label for=\"sk-estimator-id-2\" class=\"sk-toggleable__label sk-toggleable__label-arrow\">DecisionTreeClassifier</label><div class=\"sk-toggleable__content\"><pre>DecisionTreeClassifier(criterion=&#x27;entropy&#x27;)</pre></div></div></div></div></div>"
      ],
      "text/plain": [
       "DecisionTreeClassifier(criterion='entropy')"
      ]
     },
     "execution_count": 155,
     "metadata": {},
     "output_type": "execute_result"
    }
   ],
   "source": [
    "dt2=DecisionTreeClassifier(criterion='entropy')\n",
    "dt2.fit(X_train, y_train)"
   ]
  },
  {
   "cell_type": "code",
   "execution_count": 156,
   "id": "0f43ac8a",
   "metadata": {},
   "outputs": [],
   "source": [
    "y_dt2=dt2.predict(X_test)"
   ]
  },
  {
   "cell_type": "code",
   "execution_count": 157,
   "id": "f846414a",
   "metadata": {},
   "outputs": [
    {
     "name": "stdout",
     "output_type": "stream",
     "text": [
      "              precision    recall  f1-score   support\n",
      "\n",
      "         0.0       1.00      1.00      1.00      4188\n",
      "         1.0       1.00      1.00      1.00      3578\n",
      "\n",
      "    accuracy                           1.00      7766\n",
      "   macro avg       1.00      1.00      1.00      7766\n",
      "weighted avg       1.00      1.00      1.00      7766\n",
      "\n"
     ]
    }
   ],
   "source": [
    "print(classification_report(y_test,y_dt2))"
   ]
  },
  {
   "cell_type": "markdown",
   "id": "46f3f64e",
   "metadata": {},
   "source": [
    "## Naiwny klasyfikator Bayesowski"
   ]
  },
  {
   "cell_type": "code",
   "execution_count": 161,
   "id": "3177b0f7",
   "metadata": {},
   "outputs": [],
   "source": [
    "from sklearn.naive_bayes import MultinomialNB"
   ]
  },
  {
   "cell_type": "code",
   "execution_count": 162,
   "id": "4cfbd791",
   "metadata": {},
   "outputs": [],
   "source": [
    "mnb=MultinomialNB()\n",
    "mnb.fit(X_train, y_train)\n",
    "y_mnb=mnb.predict(X_test)"
   ]
  },
  {
   "cell_type": "code",
   "execution_count": 163,
   "id": "42bfdfaa",
   "metadata": {},
   "outputs": [
    {
     "name": "stdout",
     "output_type": "stream",
     "text": [
      "              precision    recall  f1-score   support\n",
      "\n",
      "         0.0       0.76      0.78      0.77      4188\n",
      "         1.0       0.74      0.72      0.73      3578\n",
      "\n",
      "    accuracy                           0.75      7766\n",
      "   macro avg       0.75      0.75      0.75      7766\n",
      "weighted avg       0.75      0.75      0.75      7766\n",
      "\n"
     ]
    }
   ],
   "source": [
    "print(classification_report(y_test,y_mnb))"
   ]
  },
  {
   "cell_type": "markdown",
   "id": "e92552be",
   "metadata": {},
   "source": [
    "## Boosting"
   ]
  },
  {
   "cell_type": "code",
   "execution_count": 167,
   "id": "8b45b16f",
   "metadata": {},
   "outputs": [],
   "source": [
    "from sklearn.ensemble import AdaBoostClassifier"
   ]
  },
  {
   "cell_type": "code",
   "execution_count": 168,
   "id": "1623b9c7",
   "metadata": {},
   "outputs": [
    {
     "data": {
      "text/html": [
       "<style>#sk-container-id-3 {color: black;background-color: white;}#sk-container-id-3 pre{padding: 0;}#sk-container-id-3 div.sk-toggleable {background-color: white;}#sk-container-id-3 label.sk-toggleable__label {cursor: pointer;display: block;width: 100%;margin-bottom: 0;padding: 0.3em;box-sizing: border-box;text-align: center;}#sk-container-id-3 label.sk-toggleable__label-arrow:before {content: \"▸\";float: left;margin-right: 0.25em;color: #696969;}#sk-container-id-3 label.sk-toggleable__label-arrow:hover:before {color: black;}#sk-container-id-3 div.sk-estimator:hover label.sk-toggleable__label-arrow:before {color: black;}#sk-container-id-3 div.sk-toggleable__content {max-height: 0;max-width: 0;overflow: hidden;text-align: left;background-color: #f0f8ff;}#sk-container-id-3 div.sk-toggleable__content pre {margin: 0.2em;color: black;border-radius: 0.25em;background-color: #f0f8ff;}#sk-container-id-3 input.sk-toggleable__control:checked~div.sk-toggleable__content {max-height: 200px;max-width: 100%;overflow: auto;}#sk-container-id-3 input.sk-toggleable__control:checked~label.sk-toggleable__label-arrow:before {content: \"▾\";}#sk-container-id-3 div.sk-estimator input.sk-toggleable__control:checked~label.sk-toggleable__label {background-color: #d4ebff;}#sk-container-id-3 div.sk-label input.sk-toggleable__control:checked~label.sk-toggleable__label {background-color: #d4ebff;}#sk-container-id-3 input.sk-hidden--visually {border: 0;clip: rect(1px 1px 1px 1px);clip: rect(1px, 1px, 1px, 1px);height: 1px;margin: -1px;overflow: hidden;padding: 0;position: absolute;width: 1px;}#sk-container-id-3 div.sk-estimator {font-family: monospace;background-color: #f0f8ff;border: 1px dotted black;border-radius: 0.25em;box-sizing: border-box;margin-bottom: 0.5em;}#sk-container-id-3 div.sk-estimator:hover {background-color: #d4ebff;}#sk-container-id-3 div.sk-parallel-item::after {content: \"\";width: 100%;border-bottom: 1px solid gray;flex-grow: 1;}#sk-container-id-3 div.sk-label:hover label.sk-toggleable__label {background-color: #d4ebff;}#sk-container-id-3 div.sk-serial::before {content: \"\";position: absolute;border-left: 1px solid gray;box-sizing: border-box;top: 0;bottom: 0;left: 50%;z-index: 0;}#sk-container-id-3 div.sk-serial {display: flex;flex-direction: column;align-items: center;background-color: white;padding-right: 0.2em;padding-left: 0.2em;position: relative;}#sk-container-id-3 div.sk-item {position: relative;z-index: 1;}#sk-container-id-3 div.sk-parallel {display: flex;align-items: stretch;justify-content: center;background-color: white;position: relative;}#sk-container-id-3 div.sk-item::before, #sk-container-id-3 div.sk-parallel-item::before {content: \"\";position: absolute;border-left: 1px solid gray;box-sizing: border-box;top: 0;bottom: 0;left: 50%;z-index: -1;}#sk-container-id-3 div.sk-parallel-item {display: flex;flex-direction: column;z-index: 1;position: relative;background-color: white;}#sk-container-id-3 div.sk-parallel-item:first-child::after {align-self: flex-end;width: 50%;}#sk-container-id-3 div.sk-parallel-item:last-child::after {align-self: flex-start;width: 50%;}#sk-container-id-3 div.sk-parallel-item:only-child::after {width: 0;}#sk-container-id-3 div.sk-dashed-wrapped {border: 1px dashed gray;margin: 0 0.4em 0.5em 0.4em;box-sizing: border-box;padding-bottom: 0.4em;background-color: white;}#sk-container-id-3 div.sk-label label {font-family: monospace;font-weight: bold;display: inline-block;line-height: 1.2em;}#sk-container-id-3 div.sk-label-container {text-align: center;}#sk-container-id-3 div.sk-container {/* jupyter's `normalize.less` sets `[hidden] { display: none; }` but bootstrap.min.css set `[hidden] { display: none !important; }` so we also need the `!important` here to be able to override the default hidden behavior on the sphinx rendered scikit-learn.org. See: https://github.com/scikit-learn/scikit-learn/issues/21755 */display: inline-block !important;position: relative;}#sk-container-id-3 div.sk-text-repr-fallback {display: none;}</style><div id=\"sk-container-id-3\" class=\"sk-top-container\"><div class=\"sk-text-repr-fallback\"><pre>AdaBoostClassifier()</pre><b>In a Jupyter environment, please rerun this cell to show the HTML representation or trust the notebook. <br />On GitHub, the HTML representation is unable to render, please try loading this page with nbviewer.org.</b></div><div class=\"sk-container\" hidden><div class=\"sk-item\"><div class=\"sk-estimator sk-toggleable\"><input class=\"sk-toggleable__control sk-hidden--visually\" id=\"sk-estimator-id-3\" type=\"checkbox\" checked><label for=\"sk-estimator-id-3\" class=\"sk-toggleable__label sk-toggleable__label-arrow\">AdaBoostClassifier</label><div class=\"sk-toggleable__content\"><pre>AdaBoostClassifier()</pre></div></div></div></div></div>"
      ],
      "text/plain": [
       "AdaBoostClassifier()"
      ]
     },
     "execution_count": 168,
     "metadata": {},
     "output_type": "execute_result"
    }
   ],
   "source": [
    "ada=AdaBoostClassifier()\n",
    "ada.fit(X_train, y_train)"
   ]
  },
  {
   "cell_type": "code",
   "execution_count": 169,
   "id": "273c0abf",
   "metadata": {},
   "outputs": [],
   "source": [
    "y_pred_ada=ada.predict(X_test)"
   ]
  },
  {
   "cell_type": "code",
   "execution_count": 170,
   "id": "c522c697",
   "metadata": {},
   "outputs": [
    {
     "name": "stdout",
     "output_type": "stream",
     "text": [
      "              precision    recall  f1-score   support\n",
      "\n",
      "         0.0       0.85      0.83      0.84      4188\n",
      "         1.0       0.80      0.83      0.82      3578\n",
      "\n",
      "    accuracy                           0.83      7766\n",
      "   macro avg       0.83      0.83      0.83      7766\n",
      "weighted avg       0.83      0.83      0.83      7766\n",
      "\n"
     ]
    }
   ],
   "source": [
    "print(classification_report(y_test, y_pred_ada))"
   ]
  },
  {
   "cell_type": "markdown",
   "id": "8ce75c94",
   "metadata": {},
   "source": [
    "## SVM"
   ]
  },
  {
   "cell_type": "code",
   "execution_count": 171,
   "id": "64142afa",
   "metadata": {},
   "outputs": [],
   "source": [
    "from sklearn.svm import SVC"
   ]
  },
  {
   "cell_type": "code",
   "execution_count": 172,
   "id": "eaa94986",
   "metadata": {},
   "outputs": [],
   "source": [
    "svm1=SVC(C=1, kernel='rbf')\n",
    "svm1.fit(X,y)\n",
    "pred_svm1=svm1.predict(X)"
   ]
  },
  {
   "cell_type": "code",
   "execution_count": 173,
   "id": "22aea623",
   "metadata": {},
   "outputs": [
    {
     "name": "stdout",
     "output_type": "stream",
     "text": [
      "              precision    recall  f1-score   support\n",
      "\n",
      "         0.0       0.94      0.97      0.95     20827\n",
      "         1.0       0.96      0.93      0.95     18003\n",
      "\n",
      "    accuracy                           0.95     38830\n",
      "   macro avg       0.95      0.95      0.95     38830\n",
      "weighted avg       0.95      0.95      0.95     38830\n",
      "\n"
     ]
    }
   ],
   "source": [
    "print(classification_report(y, pred_svm1))"
   ]
  },
  {
   "cell_type": "code",
   "execution_count": null,
   "id": "0b07cdad",
   "metadata": {},
   "outputs": [],
   "source": [
    "# Podsumowując:\n",
    "   # modele przetrenowane: drzewo decyzyjne, k najbliższych sąsiadów, SVM (95% ?)\n",
    "   # AdaBoosting  0,83, regresja logistyczna 0,82, naiwny Bayes 0,75,"
   ]
  }
 ],
 "metadata": {
  "kernelspec": {
   "display_name": "Python 3 (ipykernel)",
   "language": "python",
   "name": "python3"
  },
  "language_info": {
   "codemirror_mode": {
    "name": "ipython",
    "version": 3
   },
   "file_extension": ".py",
   "mimetype": "text/x-python",
   "name": "python",
   "nbconvert_exporter": "python",
   "pygments_lexer": "ipython3",
   "version": "3.9.12"
  }
 },
 "nbformat": 4,
 "nbformat_minor": 5
}
