{
 "cells": [
  {
   "cell_type": "code",
   "execution_count": 1,
   "id": "633ab61c",
   "metadata": {},
   "outputs": [],
   "source": [
    "import pandas as pd\n",
    "import numpy as np\n",
    "import matplotlib.pyplot as plt\n",
    "import seaborn as sns"
   ]
  },
  {
   "cell_type": "code",
   "execution_count": 2,
   "id": "5edd6bde",
   "metadata": {},
   "outputs": [],
   "source": [
    "df=pd.read_csv('secondary_data.csv', sep=';')"
   ]
  },
  {
   "cell_type": "code",
   "execution_count": 3,
   "id": "38200fb8",
   "metadata": {},
   "outputs": [
    {
     "data": {
      "text/html": [
       "<div>\n",
       "<style scoped>\n",
       "    .dataframe tbody tr th:only-of-type {\n",
       "        vertical-align: middle;\n",
       "    }\n",
       "\n",
       "    .dataframe tbody tr th {\n",
       "        vertical-align: top;\n",
       "    }\n",
       "\n",
       "    .dataframe thead th {\n",
       "        text-align: right;\n",
       "    }\n",
       "</style>\n",
       "<table border=\"1\" class=\"dataframe\">\n",
       "  <thead>\n",
       "    <tr style=\"text-align: right;\">\n",
       "      <th></th>\n",
       "      <th>class</th>\n",
       "      <th>cap-diameter</th>\n",
       "      <th>cap-shape</th>\n",
       "      <th>cap-surface</th>\n",
       "      <th>cap-color</th>\n",
       "      <th>does-bruise-or-bleed</th>\n",
       "      <th>gill-attachment</th>\n",
       "      <th>gill-spacing</th>\n",
       "      <th>gill-color</th>\n",
       "      <th>stem-height</th>\n",
       "      <th>...</th>\n",
       "      <th>stem-root</th>\n",
       "      <th>stem-surface</th>\n",
       "      <th>stem-color</th>\n",
       "      <th>veil-type</th>\n",
       "      <th>veil-color</th>\n",
       "      <th>has-ring</th>\n",
       "      <th>ring-type</th>\n",
       "      <th>spore-print-color</th>\n",
       "      <th>habitat</th>\n",
       "      <th>season</th>\n",
       "    </tr>\n",
       "  </thead>\n",
       "  <tbody>\n",
       "    <tr>\n",
       "      <th>0</th>\n",
       "      <td>p</td>\n",
       "      <td>15.26</td>\n",
       "      <td>x</td>\n",
       "      <td>g</td>\n",
       "      <td>o</td>\n",
       "      <td>f</td>\n",
       "      <td>e</td>\n",
       "      <td>NaN</td>\n",
       "      <td>w</td>\n",
       "      <td>16.95</td>\n",
       "      <td>...</td>\n",
       "      <td>s</td>\n",
       "      <td>y</td>\n",
       "      <td>w</td>\n",
       "      <td>u</td>\n",
       "      <td>w</td>\n",
       "      <td>t</td>\n",
       "      <td>g</td>\n",
       "      <td>NaN</td>\n",
       "      <td>d</td>\n",
       "      <td>w</td>\n",
       "    </tr>\n",
       "    <tr>\n",
       "      <th>1</th>\n",
       "      <td>p</td>\n",
       "      <td>16.60</td>\n",
       "      <td>x</td>\n",
       "      <td>g</td>\n",
       "      <td>o</td>\n",
       "      <td>f</td>\n",
       "      <td>e</td>\n",
       "      <td>NaN</td>\n",
       "      <td>w</td>\n",
       "      <td>17.99</td>\n",
       "      <td>...</td>\n",
       "      <td>s</td>\n",
       "      <td>y</td>\n",
       "      <td>w</td>\n",
       "      <td>u</td>\n",
       "      <td>w</td>\n",
       "      <td>t</td>\n",
       "      <td>g</td>\n",
       "      <td>NaN</td>\n",
       "      <td>d</td>\n",
       "      <td>u</td>\n",
       "    </tr>\n",
       "    <tr>\n",
       "      <th>2</th>\n",
       "      <td>p</td>\n",
       "      <td>14.07</td>\n",
       "      <td>x</td>\n",
       "      <td>g</td>\n",
       "      <td>o</td>\n",
       "      <td>f</td>\n",
       "      <td>e</td>\n",
       "      <td>NaN</td>\n",
       "      <td>w</td>\n",
       "      <td>17.80</td>\n",
       "      <td>...</td>\n",
       "      <td>s</td>\n",
       "      <td>y</td>\n",
       "      <td>w</td>\n",
       "      <td>u</td>\n",
       "      <td>w</td>\n",
       "      <td>t</td>\n",
       "      <td>g</td>\n",
       "      <td>NaN</td>\n",
       "      <td>d</td>\n",
       "      <td>w</td>\n",
       "    </tr>\n",
       "    <tr>\n",
       "      <th>3</th>\n",
       "      <td>p</td>\n",
       "      <td>14.17</td>\n",
       "      <td>f</td>\n",
       "      <td>h</td>\n",
       "      <td>e</td>\n",
       "      <td>f</td>\n",
       "      <td>e</td>\n",
       "      <td>NaN</td>\n",
       "      <td>w</td>\n",
       "      <td>15.77</td>\n",
       "      <td>...</td>\n",
       "      <td>s</td>\n",
       "      <td>y</td>\n",
       "      <td>w</td>\n",
       "      <td>u</td>\n",
       "      <td>w</td>\n",
       "      <td>t</td>\n",
       "      <td>p</td>\n",
       "      <td>NaN</td>\n",
       "      <td>d</td>\n",
       "      <td>w</td>\n",
       "    </tr>\n",
       "    <tr>\n",
       "      <th>4</th>\n",
       "      <td>p</td>\n",
       "      <td>14.64</td>\n",
       "      <td>x</td>\n",
       "      <td>h</td>\n",
       "      <td>o</td>\n",
       "      <td>f</td>\n",
       "      <td>e</td>\n",
       "      <td>NaN</td>\n",
       "      <td>w</td>\n",
       "      <td>16.53</td>\n",
       "      <td>...</td>\n",
       "      <td>s</td>\n",
       "      <td>y</td>\n",
       "      <td>w</td>\n",
       "      <td>u</td>\n",
       "      <td>w</td>\n",
       "      <td>t</td>\n",
       "      <td>p</td>\n",
       "      <td>NaN</td>\n",
       "      <td>d</td>\n",
       "      <td>w</td>\n",
       "    </tr>\n",
       "  </tbody>\n",
       "</table>\n",
       "<p>5 rows × 21 columns</p>\n",
       "</div>"
      ],
      "text/plain": [
       "  class  cap-diameter cap-shape cap-surface cap-color does-bruise-or-bleed  \\\n",
       "0     p         15.26         x           g         o                    f   \n",
       "1     p         16.60         x           g         o                    f   \n",
       "2     p         14.07         x           g         o                    f   \n",
       "3     p         14.17         f           h         e                    f   \n",
       "4     p         14.64         x           h         o                    f   \n",
       "\n",
       "  gill-attachment gill-spacing gill-color  stem-height  ...  stem-root  \\\n",
       "0               e          NaN          w        16.95  ...          s   \n",
       "1               e          NaN          w        17.99  ...          s   \n",
       "2               e          NaN          w        17.80  ...          s   \n",
       "3               e          NaN          w        15.77  ...          s   \n",
       "4               e          NaN          w        16.53  ...          s   \n",
       "\n",
       "  stem-surface stem-color veil-type veil-color has-ring ring-type  \\\n",
       "0            y          w         u          w        t         g   \n",
       "1            y          w         u          w        t         g   \n",
       "2            y          w         u          w        t         g   \n",
       "3            y          w         u          w        t         p   \n",
       "4            y          w         u          w        t         p   \n",
       "\n",
       "  spore-print-color habitat season  \n",
       "0               NaN       d      w  \n",
       "1               NaN       d      u  \n",
       "2               NaN       d      w  \n",
       "3               NaN       d      w  \n",
       "4               NaN       d      w  \n",
       "\n",
       "[5 rows x 21 columns]"
      ]
     },
     "execution_count": 3,
     "metadata": {},
     "output_type": "execute_result"
    }
   ],
   "source": [
    "df.head()"
   ]
  },
  {
   "cell_type": "code",
   "execution_count": 4,
   "id": "9d53c2e0",
   "metadata": {},
   "outputs": [
    {
     "name": "stdout",
     "output_type": "stream",
     "text": [
      "<class 'pandas.core.frame.DataFrame'>\n",
      "RangeIndex: 61069 entries, 0 to 61068\n",
      "Data columns (total 21 columns):\n",
      " #   Column                Non-Null Count  Dtype  \n",
      "---  ------                --------------  -----  \n",
      " 0   class                 61069 non-null  object \n",
      " 1   cap-diameter          61069 non-null  float64\n",
      " 2   cap-shape             61069 non-null  object \n",
      " 3   cap-surface           46949 non-null  object \n",
      " 4   cap-color             61069 non-null  object \n",
      " 5   does-bruise-or-bleed  61069 non-null  object \n",
      " 6   gill-attachment       51185 non-null  object \n",
      " 7   gill-spacing          36006 non-null  object \n",
      " 8   gill-color            61069 non-null  object \n",
      " 9   stem-height           61069 non-null  float64\n",
      " 10  stem-width            61069 non-null  float64\n",
      " 11  stem-root             9531 non-null   object \n",
      " 12  stem-surface          22945 non-null  object \n",
      " 13  stem-color            61069 non-null  object \n",
      " 14  veil-type             3177 non-null   object \n",
      " 15  veil-color            7413 non-null   object \n",
      " 16  has-ring              61069 non-null  object \n",
      " 17  ring-type             58598 non-null  object \n",
      " 18  spore-print-color     6354 non-null   object \n",
      " 19  habitat               61069 non-null  object \n",
      " 20  season                61069 non-null  object \n",
      "dtypes: float64(3), object(18)\n",
      "memory usage: 9.8+ MB\n"
     ]
    }
   ],
   "source": [
    "df.info()"
   ]
  },
  {
   "cell_type": "code",
   "execution_count": 5,
   "id": "ac0fa614",
   "metadata": {},
   "outputs": [
    {
     "data": {
      "text/plain": [
       "class                       0\n",
       "cap-diameter                0\n",
       "cap-shape                   0\n",
       "cap-surface             14120\n",
       "cap-color                   0\n",
       "does-bruise-or-bleed        0\n",
       "gill-attachment          9884\n",
       "gill-spacing            25063\n",
       "gill-color                  0\n",
       "stem-height                 0\n",
       "stem-width                  0\n",
       "stem-root               51538\n",
       "stem-surface            38124\n",
       "stem-color                  0\n",
       "veil-type               57892\n",
       "veil-color              53656\n",
       "has-ring                    0\n",
       "ring-type                2471\n",
       "spore-print-color       54715\n",
       "habitat                     0\n",
       "season                      0\n",
       "dtype: int64"
      ]
     },
     "execution_count": 5,
     "metadata": {},
     "output_type": "execute_result"
    }
   ],
   "source": [
    "df.isna().sum()"
   ]
  },
  {
   "cell_type": "markdown",
   "id": "86f3ad57",
   "metadata": {},
   "source": [
    "# Data preprocessing"
   ]
  },
  {
   "cell_type": "code",
   "execution_count": 6,
   "id": "b2102cfe",
   "metadata": {},
   "outputs": [
    {
     "data": {
      "text/plain": [
       "p    33888\n",
       "e    27181\n",
       "Name: class, dtype: int64"
      ]
     },
     "execution_count": 6,
     "metadata": {},
     "output_type": "execute_result"
    }
   ],
   "source": [
    "# class\n",
    "df['class'].value_counts()"
   ]
  },
  {
   "cell_type": "code",
   "execution_count": 7,
   "id": "6959dd89",
   "metadata": {},
   "outputs": [],
   "source": [
    "# Changing class names to numbers e (edibile) to 1 and p (poisonous) to 0\n",
    "df['class'] = df['class'].replace({'e': 1, 'p':0}).astype('int8')"
   ]
  },
  {
   "cell_type": "markdown",
   "id": "6f33e54c",
   "metadata": {},
   "source": [
    "## Cap"
   ]
  },
  {
   "cell_type": "code",
   "execution_count": 8,
   "id": "403e62a6",
   "metadata": {},
   "outputs": [
    {
     "data": {
      "image/png": "[encoded data removed]",
      "text/plain": [
       "<Figure size 432x288 with 1 Axes>"
      ]
     },
     "metadata": {
      "needs_background": "light"
     },
     "output_type": "display_data"
    }
   ],
   "source": [
    "# 1 cap-diameter: float number in cm\n",
    "df['cap-diameter'].hist()\n",
    "plt.show()"
   ]
  },
  {
   "cell_type": "code",
   "execution_count": 9,
   "id": "9c51ff6c",
   "metadata": {},
   "outputs": [
    {
     "data": {
      "image/png": "[encoded data removed]",
      "text/plain": [
       "<Figure size 432x288 with 1 Axes>"
      ]
     },
     "metadata": {},
     "output_type": "display_data"
    }
   ],
   "source": [
    "# 2 cap-shape: bell=b, conical=c, convex=x, flat=f, sunken=s, spherical=p, others=o\n",
    "sns.set_style('whitegrid')\n",
    "df['cap-shape'].value_counts(normalize=True).plot(kind='bar')\n",
    "plt.show()"
   ]
  },
  {
   "cell_type": "code",
   "execution_count": 10,
   "id": "f73e37fc",
   "metadata": {},
   "outputs": [
    {
     "data": {
      "image/png": "[encoded data removed]",
      "text/plain": [
       "<Figure size 401.625x360 with 1 Axes>"
      ]
     },
     "metadata": {},
     "output_type": "display_data"
    }
   ],
   "source": [
    "# 3 cap-surface: fibrous=i, grooves=g, scaly=y, smooth=s, shiny=h, leathery=l, silky=k, sticky=t, wrinkled=w, fleshy=e\n",
    "sns.catplot(x='cap-surface', data=df, kind='count', hue='class')\n",
    "plt.show()"
   ]
  },
  {
   "cell_type": "code",
   "execution_count": 11,
   "id": "ed8f9940",
   "metadata": {},
   "outputs": [
    {
     "data": {
      "text/plain": [
       "14120"
      ]
     },
     "execution_count": 11,
     "metadata": {},
     "output_type": "execute_result"
    }
   ],
   "source": [
    "df['cap-surface'].isna().sum()"
   ]
  },
  {
   "cell_type": "code",
   "execution_count": 12,
   "id": "6713fe4a",
   "metadata": {},
   "outputs": [
    {
     "data": {
      "image/png": "[encoded data removed]",
      "text/plain": [
       "<Figure size 401.625x360 with 1 Axes>"
      ]
     },
     "metadata": {},
     "output_type": "display_data"
    }
   ],
   "source": [
    "# changing Nan's to zeros and pelacing to none info = f\n",
    "df['cap-surface'] = df['cap-surface'].fillna(0).replace({0: 'f'})\n",
    "sns.catplot(x='cap-surface', data=df, kind='count', hue='class')\n",
    "plt.show()"
   ]
  },
  {
   "cell_type": "code",
   "execution_count": 13,
   "id": "8e20578d",
   "metadata": {},
   "outputs": [
    {
     "data": {
      "text/plain": [
       "0"
      ]
     },
     "execution_count": 13,
     "metadata": {},
     "output_type": "execute_result"
    }
   ],
   "source": [
    "df['cap-surface'].isna().sum()"
   ]
  },
  {
   "cell_type": "code",
   "execution_count": 14,
   "id": "39efb5aa",
   "metadata": {},
   "outputs": [
    {
     "data": {
      "image/png": "[encoded data removed]",
      "text/plain": [
       "<Figure size 432x288 with 1 Axes>"
      ]
     },
     "metadata": {},
     "output_type": "display_data"
    }
   ],
   "source": [
    "# 4 cap-color\n",
    "# brown=n, buff=b, gray=g, green=r, pink=p, purple=u, red=e, white=w, yellow=y, blue=l, orange=o,  black=k, none=f\n",
    "df['cap-color'].value_counts(normalize=True).plot(kind='bar')\n",
    "plt.show()"
   ]
  },
  {
   "cell_type": "markdown",
   "id": "9d849a03",
   "metadata": {},
   "source": [
    "## Gill"
   ]
  },
  {
   "cell_type": "code",
   "execution_count": 15,
   "id": "20661e1b",
   "metadata": {},
   "outputs": [
    {
     "data": {
      "text/plain": [
       "{'a', 'd', 'e', 'f', nan, 'p', 's', 'x'}"
      ]
     },
     "execution_count": 15,
     "metadata": {},
     "output_type": "execute_result"
    }
   ],
   "source": [
    "# 6 Gill-attachment\n",
    "# adnate=a, adnexed=x, decurrent=d, free=e, sinuate=s, pores=p, none=f\n",
    "set(df['gill-attachment'])"
   ]
  },
  {
   "cell_type": "code",
   "execution_count": 16,
   "id": "f15129bf",
   "metadata": {},
   "outputs": [
    {
     "data": {
      "image/png": "[encoded data removed]",
      "text/plain": [
       "<Figure size 401.625x360 with 1 Axes>"
      ]
     },
     "metadata": {},
     "output_type": "display_data"
    }
   ],
   "source": [
    "sns.catplot(x='gill-attachment', data=df, kind='count', hue='class')\n",
    "plt.show()"
   ]
  },
  {
   "cell_type": "code",
   "execution_count": 17,
   "id": "c7f20fb9",
   "metadata": {},
   "outputs": [
    {
     "data": {
      "text/plain": [
       "9884"
      ]
     },
     "execution_count": 17,
     "metadata": {},
     "output_type": "execute_result"
    }
   ],
   "source": [
    "df['gill-attachment'].isna().sum()"
   ]
  },
  {
   "cell_type": "code",
   "execution_count": 18,
   "id": "28619eaa",
   "metadata": {},
   "outputs": [
    {
     "data": {
      "image/png": "[encoded data removed]",
      "text/plain": [
       "<Figure size 401.625x360 with 1 Axes>"
      ]
     },
     "metadata": {},
     "output_type": "display_data"
    }
   ],
   "source": [
    "# changing Nan's to zeros and pelacing to none = f\n",
    "df['gill-attachment'] = df['gill-attachment'].fillna(0).replace({0: 'f'})\n",
    "sns.catplot(x='gill-attachment', data=df, kind='count', hue='class')\n",
    "plt.show()"
   ]
  },
  {
   "cell_type": "code",
   "execution_count": 19,
   "id": "00e739bc",
   "metadata": {},
   "outputs": [
    {
     "data": {
      "text/plain": [
       "0"
      ]
     },
     "execution_count": 19,
     "metadata": {},
     "output_type": "execute_result"
    }
   ],
   "source": [
    "df['gill-attachment'].isna().sum()"
   ]
  },
  {
   "cell_type": "code",
   "execution_count": 20,
   "id": "581187ae",
   "metadata": {},
   "outputs": [
    {
     "data": {
      "text/plain": [
       "{'c', 'd', 'f', nan}"
      ]
     },
     "execution_count": 20,
     "metadata": {},
     "output_type": "execute_result"
    }
   ],
   "source": [
    "# 7 Gill-spacing:  close=c, distant=d, none=f\n",
    "set(df['gill-spacing'])"
   ]
  },
  {
   "cell_type": "code",
   "execution_count": 21,
   "id": "ac057918",
   "metadata": {},
   "outputs": [
    {
     "data": {
      "image/png": "[encoded data removed]",
      "text/plain": [
       "<Figure size 432x288 with 1 Axes>"
      ]
     },
     "metadata": {},
     "output_type": "display_data"
    }
   ],
   "source": [
    "df['gill-spacing'].value_counts(normalize=True).plot(kind='bar')\n",
    "plt.show()"
   ]
  },
  {
   "cell_type": "code",
   "execution_count": 22,
   "id": "9d06c2fd",
   "metadata": {},
   "outputs": [
    {
     "data": {
      "text/plain": [
       "25063"
      ]
     },
     "execution_count": 22,
     "metadata": {},
     "output_type": "execute_result"
    }
   ],
   "source": [
    "df['gill-spacing'].isna().sum()"
   ]
  },
  {
   "cell_type": "code",
   "execution_count": 138,
   "id": "edba5b87",
   "metadata": {},
   "outputs": [
    {
     "data": {
      "text/plain": [
       "<Figure size 1152x864 with 0 Axes>"
      ]
     },
     "metadata": {},
     "output_type": "display_data"
    },
    {
     "data": {
      "image/png": "[encoded data removed]",
      "text/plain": [
       "<Figure size 360x360 with 1 Axes>"
      ]
     },
     "metadata": {},
     "output_type": "display_data"
    }
   ],
   "source": [
    "# changing Nan's to zeros and pelacing to none - f\n",
    "df['gill-spacing'] = df['gill-spacing'].fillna(0).replace({0: 'f'})\n",
    "plt.figure(figsize=(16,12))\n",
    "g = sns.catplot(x='gill-spacing', data=df, kind='count', hue='class', legend=False)\n",
    "g.set(xlabel= \"Gill-spacing\" ,ylabel = 'Quantity', xticklabels=('none', 'close', 'distant'))\n",
    "plt.legend(labels=['edible','poisonous'], fontsize=14, loc='upper left', bbox_to_anchor=(1, 1))\n",
    "plt.show()"
   ]
  },
  {
   "cell_type": "code",
   "execution_count": 24,
   "id": "050e4fd7",
   "metadata": {},
   "outputs": [
    {
     "data": {
      "text/plain": [
       "0"
      ]
     },
     "execution_count": 24,
     "metadata": {},
     "output_type": "execute_result"
    }
   ],
   "source": [
    "df['gill-spacing'].isna().sum()"
   ]
  },
  {
   "cell_type": "code",
   "execution_count": 25,
   "id": "75b5b63f",
   "metadata": {},
   "outputs": [
    {
     "data": {
      "image/png": "[encoded data removed]",
      "text/plain": [
       "<Figure size 432x288 with 1 Axes>"
      ]
     },
     "metadata": {},
     "output_type": "display_data"
    }
   ],
   "source": [
    "# 8 gill-color\n",
    "# brown=n, buff=b, gray=g, green=r, pink=p, purple=u, red=e, white=w, yellow=y, blue=l, orange=o,  black=k, none=f\n",
    "df['gill-color'].value_counts(normalize=True).plot(kind='bar')\n",
    "plt.show()"
   ]
  },
  {
   "cell_type": "markdown",
   "id": "c5661464",
   "metadata": {},
   "source": [
    "## Stem"
   ]
  },
  {
   "cell_type": "code",
   "execution_count": 26,
   "id": "16dbb5e8",
   "metadata": {},
   "outputs": [
    {
     "data": {
      "image/png": "[encoded data removed]",
      "text/plain": [
       "<Figure size 432x288 with 1 Axes>"
      ]
     },
     "metadata": {},
     "output_type": "display_data"
    }
   ],
   "source": [
    "# 9 stem-height: float number in cm\n",
    "df['stem-height'].hist()\n",
    "plt.show()"
   ]
  },
  {
   "cell_type": "code",
   "execution_count": 27,
   "id": "ff7689ac",
   "metadata": {},
   "outputs": [
    {
     "data": {
      "image/png": "[encoded data removed]",
      "text/plain": [
       "<Figure size 720x360 with 2 Axes>"
      ]
     },
     "metadata": {},
     "output_type": "display_data"
    }
   ],
   "source": [
    "sns.catplot(data=df, x='stem-height', kind='box', col='class')\n",
    "plt.show()"
   ]
  },
  {
   "cell_type": "code",
   "execution_count": 28,
   "id": "edd1244d",
   "metadata": {},
   "outputs": [
    {
     "name": "stdout",
     "output_type": "stream",
     "text": [
      "84.4% are Nan values in this column\n"
     ]
    }
   ],
   "source": [
    "# 11 stem-root\n",
    "print(\"{:.1%} are Nan values in this column\".format(df['stem-root'].isna().sum() / len(df['stem-root'])))"
   ]
  },
  {
   "cell_type": "code",
   "execution_count": 29,
   "id": "0efe3b54",
   "metadata": {},
   "outputs": [
    {
     "name": "stdout",
     "output_type": "stream",
     "text": [
      "62.4% are Nan values in this column\n"
     ]
    }
   ],
   "source": [
    "# 12 stem-surface\n",
    "print(\"{:.1%} are Nan values in this column\".format(df['stem-surface'].isna().sum() / len(df['stem-surface'])))"
   ]
  },
  {
   "cell_type": "code",
   "execution_count": 30,
   "id": "1e0da581",
   "metadata": {},
   "outputs": [
    {
     "data": {
      "image/png": "[encoded data removed]",
      "text/plain": [
       "<Figure size 432x288 with 1 Axes>"
      ]
     },
     "metadata": {},
     "output_type": "display_data"
    }
   ],
   "source": [
    "# 13 stem-color\n",
    "# brown=n, buff=b, gray=g, green=r, pink=p, purple=u, red=e, white=w, yellow=y, blue=l, orange=o,  black=k, none=f\n",
    "df['stem-color'].value_counts(normalize=True).plot(kind='bar')\n",
    "plt.show()"
   ]
  },
  {
   "cell_type": "markdown",
   "id": "9974a444",
   "metadata": {},
   "source": [
    "## Veil"
   ]
  },
  {
   "cell_type": "code",
   "execution_count": 31,
   "id": "585416a3",
   "metadata": {},
   "outputs": [
    {
     "data": {
      "text/plain": [
       "u    3177\n",
       "Name: veil-type, dtype: int64"
      ]
     },
     "execution_count": 31,
     "metadata": {},
     "output_type": "execute_result"
    }
   ],
   "source": [
    "#14 veil-type:  partial=p, universal=u\n",
    "df['veil-type'].value_counts()"
   ]
  },
  {
   "cell_type": "code",
   "execution_count": 32,
   "id": "a52cd9f0",
   "metadata": {},
   "outputs": [],
   "source": [
    "# there are only values 'u'. Changing Nan to 0 and 'u' to 1\n",
    "df['veil-type']=df['veil-type'].fillna(0)\n",
    "df['veil-type'] = df['veil-type'].replace({'u': 1})"
   ]
  },
  {
   "cell_type": "code",
   "execution_count": 33,
   "id": "32c3cf98",
   "metadata": {},
   "outputs": [
    {
     "data": {
      "image/png": "[encoded data removed]",
      "text/plain": [
       "<Figure size 432x288 with 1 Axes>"
      ]
     },
     "metadata": {},
     "output_type": "display_data"
    }
   ],
   "source": [
    "df['veil-type'].astype('int8')\n",
    "df['veil-type'].value_counts(normalize=True).plot(kind='bar')\n",
    "plt.show()"
   ]
  },
  {
   "cell_type": "code",
   "execution_count": 34,
   "id": "cff5d794",
   "metadata": {},
   "outputs": [
    {
     "data": {
      "text/plain": [
       "class  veil-type\n",
       "0      0            31770\n",
       "       1             2118\n",
       "1      0            26122\n",
       "       1             1059\n",
       "Name: veil-type, dtype: int64"
      ]
     },
     "execution_count": 34,
     "metadata": {},
     "output_type": "execute_result"
    }
   ],
   "source": [
    "df.groupby('class')['veil-type'].value_counts()"
   ]
  },
  {
   "cell_type": "code",
   "execution_count": 35,
   "id": "077a90cd",
   "metadata": {},
   "outputs": [
    {
     "name": "stdout",
     "output_type": "stream",
     "text": [
      "87.9% are Nan values in this column\n"
     ]
    }
   ],
   "source": [
    "#15 veil-color\n",
    "print(\"{:.1%} are Nan values in this column\".format(df['veil-color'].isna().sum() / len(df['veil-color'])))"
   ]
  },
  {
   "cell_type": "markdown",
   "id": "1c7280f4",
   "metadata": {},
   "source": [
    "## Ring"
   ]
  },
  {
   "cell_type": "code",
   "execution_count": 36,
   "id": "103cefdc",
   "metadata": {},
   "outputs": [
    {
     "data": {
      "text/plain": [
       "f    45890\n",
       "t    15179\n",
       "Name: has-ring, dtype: int64"
      ]
     },
     "execution_count": 36,
     "metadata": {},
     "output_type": "execute_result"
    }
   ],
   "source": [
    "#16 has-ring:  ring=t, none=f\n",
    "df['has-ring'].value_counts()"
   ]
  },
  {
   "cell_type": "code",
   "execution_count": 37,
   "id": "521bb961",
   "metadata": {},
   "outputs": [
    {
     "data": {
      "text/plain": [
       "f    48361\n",
       "e     2435\n",
       "z     2118\n",
       "l     1427\n",
       "r     1399\n",
       "p     1265\n",
       "g     1240\n",
       "m      353\n",
       "Name: ring-type, dtype: int64"
      ]
     },
     "execution_count": 37,
     "metadata": {},
     "output_type": "execute_result"
    }
   ],
   "source": [
    "#17 ring-type\n",
    "    # cobwebby=c, evanescent=e, flaring=r, grooved=g, large=l, pendant=p, \n",
    "    # sheathing=s, zone=z, scaly=y, movable=m, none=f\n",
    "df['ring-type'].value_counts()"
   ]
  },
  {
   "cell_type": "code",
   "execution_count": 38,
   "id": "759db54d",
   "metadata": {},
   "outputs": [
    {
     "data": {
      "text/plain": [
       "2471"
      ]
     },
     "execution_count": 38,
     "metadata": {},
     "output_type": "execute_result"
    }
   ],
   "source": [
    "df['ring-type'].isna().sum()"
   ]
  },
  {
   "cell_type": "code",
   "execution_count": 39,
   "id": "5cce414a",
   "metadata": {},
   "outputs": [
    {
     "data": {
      "text/plain": [
       "0"
      ]
     },
     "execution_count": 39,
     "metadata": {},
     "output_type": "execute_result"
    }
   ],
   "source": [
    "# changing Nan's to zeros and pelacing to none - f\n",
    "df['ring-type']=df['ring-type'].fillna(0).replace({0: 'f'})\n",
    "df['ring-type'].isna().sum()"
   ]
  },
  {
   "cell_type": "code",
   "execution_count": 40,
   "id": "0b9ae5b1",
   "metadata": {},
   "outputs": [
    {
     "name": "stdout",
     "output_type": "stream",
     "text": [
      "<class 'pandas.core.frame.DataFrame'>\n",
      "RangeIndex: 61069 entries, 0 to 61068\n",
      "Data columns (total 21 columns):\n",
      " #   Column                Non-Null Count  Dtype  \n",
      "---  ------                --------------  -----  \n",
      " 0   class                 61069 non-null  int8   \n",
      " 1   cap-diameter          61069 non-null  float64\n",
      " 2   cap-shape             61069 non-null  object \n",
      " 3   cap-surface           61069 non-null  object \n",
      " 4   cap-color             61069 non-null  object \n",
      " 5   does-bruise-or-bleed  61069 non-null  object \n",
      " 6   gill-attachment       61069 non-null  object \n",
      " 7   gill-spacing          61069 non-null  object \n",
      " 8   gill-color            61069 non-null  object \n",
      " 9   stem-height           61069 non-null  float64\n",
      " 10  stem-width            61069 non-null  float64\n",
      " 11  stem-root             9531 non-null   object \n",
      " 12  stem-surface          22945 non-null  object \n",
      " 13  stem-color            61069 non-null  object \n",
      " 14  veil-type             61069 non-null  int64  \n",
      " 15  veil-color            7413 non-null   object \n",
      " 16  has-ring              61069 non-null  object \n",
      " 17  ring-type             61069 non-null  object \n",
      " 18  spore-print-color     6354 non-null   object \n",
      " 19  habitat               61069 non-null  object \n",
      " 20  season                61069 non-null  object \n",
      "dtypes: float64(3), int64(1), int8(1), object(16)\n",
      "memory usage: 9.4+ MB\n"
     ]
    }
   ],
   "source": [
    "df.info()"
   ]
  },
  {
   "cell_type": "markdown",
   "id": "287fb1fd",
   "metadata": {},
   "source": [
    "## Other"
   ]
  },
  {
   "cell_type": "code",
   "execution_count": 41,
   "id": "276e2a5e",
   "metadata": {},
   "outputs": [
    {
     "data": {
      "text/plain": [
       "f    50479\n",
       "t    10590\n",
       "Name: does-bruise-or-bleed, dtype: int64"
      ]
     },
     "execution_count": 41,
     "metadata": {},
     "output_type": "execute_result"
    }
   ],
   "source": [
    "#5 does_bruise_or_bleed: bruises-or-bleeding=t,no=f\n",
    "df['does-bruise-or-bleed'].value_counts()"
   ]
  },
  {
   "cell_type": "code",
   "execution_count": 42,
   "id": "737541b2",
   "metadata": {},
   "outputs": [
    {
     "name": "stdout",
     "output_type": "stream",
     "text": [
      "89.6% are Nan values in this column\n"
     ]
    }
   ],
   "source": [
    "#18 spore-print-color \n",
    "print(\"{:.1%} are Nan values in this column\".format(df['spore-print-color'].isna().sum() / len(df['spore-print-color'])))"
   ]
  },
  {
   "cell_type": "code",
   "execution_count": 43,
   "id": "f4c9c0b8",
   "metadata": {},
   "outputs": [
    {
     "data": {
      "image/png": "[encoded data removed]",
      "text/plain": [
       "<Figure size 432x288 with 1 Axes>"
      ]
     },
     "metadata": {},
     "output_type": "display_data"
    }
   ],
   "source": [
    "# 19 habitat: grasses=g, leaves=l, meadows=m, paths=p, heaths=h, urban=u, waste=w, woods=d\n",
    "df['habitat'].value_counts(normalize=True).plot(kind='bar')\n",
    "plt.show()"
   ]
  },
  {
   "cell_type": "code",
   "execution_count": 211,
   "id": "3890b425",
   "metadata": {},
   "outputs": [
    {
     "data": {
      "image/png": "[encoded data removed]",
      "text/plain": [
       "<Figure size 864x864 with 1 Axes>"
      ]
     },
     "metadata": {},
     "output_type": "display_data"
    }
   ],
   "source": [
    "hab = dict(df.groupby('habitat')['habitat'].count())\n",
    "labels = ['Woods', 'Grasses', 'Heaths', 'Leaves', 'Meadows', 'Paths','Urban', 'Waste']\n",
    "values = hab.values()\n",
    "plt.figure(figsize=(12,12))\n",
    "explode = [0,0.,0,0,0, 0, 0.01, 0.02]\n",
    "plt.pie(data=df, x=values, labels= labels, explode=explode, autopct = '%1.1f%%', pctdistance=1.05)\n",
    "plt.title('Mushroom Habitat Type Percentange', fontsize=22)\n",
    "plt.show()"
   ]
  },
  {
   "cell_type": "code",
   "execution_count": 137,
   "id": "6a6472a9",
   "metadata": {},
   "outputs": [
    {
     "data": {
      "text/plain": [
       "<Figure size 1152x864 with 0 Axes>"
      ]
     },
     "metadata": {},
     "output_type": "display_data"
    },
    {
     "data": {
      "image/png": "[encoded data removed]",
      "text/plain": [
       "<Figure size 360x360 with 1 Axes>"
      ]
     },
     "metadata": {},
     "output_type": "display_data"
    }
   ],
   "source": [
    "# 20 season: spring=s, summer=u, autumn=a, winter=w\n",
    "plt.figure(figsize=(16,12))\n",
    "g = sns.catplot(x='season', data=df, kind='count', hue='class', legend=False)\n",
    "g.set(xlabel= \"Season\" ,ylabel = 'Quantity', xticklabels=('winter', 'summer', 'autumn', 'spring'))\n",
    "plt.legend(labels=['edible','poisonous'], fontsize=14, loc='upper left', bbox_to_anchor=(1, 1))\n",
    "plt.show()"
   ]
  },
  {
   "cell_type": "code",
   "execution_count": 45,
   "id": "5e923ea0",
   "metadata": {},
   "outputs": [],
   "source": [
    "# dropping four columns where are Nan's\n",
    "df.drop(['stem-root', 'veil-color','spore-print-color', 'stem-surface'], axis=1, inplace=True)"
   ]
  },
  {
   "cell_type": "code",
   "execution_count": 46,
   "id": "14dbdb82",
   "metadata": {},
   "outputs": [
    {
     "data": {
      "text/plain": [
       "<AxesSubplot:>"
      ]
     },
     "execution_count": 46,
     "metadata": {},
     "output_type": "execute_result"
    },
    {
     "data": {
      "image/png": "[encoded data removed]",
      "text/plain": [
       "<Figure size 720x576 with 2 Axes>"
      ]
     },
     "metadata": {},
     "output_type": "display_data"
    }
   ],
   "source": [
    "# korelacja dla kolumn o danych numerycznych\n",
    "corr=df.corr()\n",
    "plt.figure(figsize=(10,8))\n",
    "sns.heatmap(corr, annot=True, cmap='RdYlGn', linewidths=0.05)"
   ]
  },
  {
   "cell_type": "code",
   "execution_count": 47,
   "id": "e3396b45",
   "metadata": {},
   "outputs": [
    {
     "name": "stdout",
     "output_type": "stream",
     "text": [
      "<class 'pandas.core.frame.DataFrame'>\n",
      "RangeIndex: 61069 entries, 0 to 61068\n",
      "Data columns (total 17 columns):\n",
      " #   Column                Non-Null Count  Dtype  \n",
      "---  ------                --------------  -----  \n",
      " 0   class                 61069 non-null  int8   \n",
      " 1   cap-diameter          61069 non-null  float64\n",
      " 2   cap-shape             61069 non-null  object \n",
      " 3   cap-surface           61069 non-null  object \n",
      " 4   cap-color             61069 non-null  object \n",
      " 5   does-bruise-or-bleed  61069 non-null  object \n",
      " 6   gill-attachment       61069 non-null  object \n",
      " 7   gill-spacing          61069 non-null  object \n",
      " 8   gill-color            61069 non-null  object \n",
      " 9   stem-height           61069 non-null  float64\n",
      " 10  stem-width            61069 non-null  float64\n",
      " 11  stem-color            61069 non-null  object \n",
      " 12  veil-type             61069 non-null  int64  \n",
      " 13  has-ring              61069 non-null  object \n",
      " 14  ring-type             61069 non-null  object \n",
      " 15  habitat               61069 non-null  object \n",
      " 16  season                61069 non-null  object \n",
      "dtypes: float64(3), int64(1), int8(1), object(12)\n",
      "memory usage: 7.5+ MB\n"
     ]
    }
   ],
   "source": [
    "df.info()"
   ]
  },
  {
   "cell_type": "code",
   "execution_count": 48,
   "id": "e640ab8c",
   "metadata": {},
   "outputs": [
    {
     "data": {
      "text/plain": [
       "Index(['class', 'cap-diameter', 'cap-shape', 'cap-surface', 'cap-color',\n",
       "       'does-bruise-or-bleed', 'gill-attachment', 'gill-spacing', 'gill-color',\n",
       "       'stem-height', 'stem-width', 'stem-color', 'veil-type', 'has-ring',\n",
       "       'ring-type', 'habitat', 'season'],\n",
       "      dtype='object')"
      ]
     },
     "execution_count": 48,
     "metadata": {},
     "output_type": "execute_result"
    }
   ],
   "source": [
    "df.columns"
   ]
  },
  {
   "cell_type": "markdown",
   "id": "8f638ca5",
   "metadata": {},
   "source": [
    "## One Hot Encoding on string data"
   ]
  },
  {
   "cell_type": "code",
   "execution_count": 49,
   "id": "53e8bad3",
   "metadata": {},
   "outputs": [],
   "source": [
    "ohe = pd.get_dummies(data=df, columns=['cap-shape', 'cap-surface', 'cap-color', 'does-bruise-or-bleed', \n",
    "        'gill-attachment', 'gill-spacing', 'gill-color', 'stem-color', 'has-ring','ring-type', 'habitat', 'season'])"
   ]
  },
  {
   "cell_type": "code",
   "execution_count": 50,
   "id": "4dd4e97a",
   "metadata": {
    "scrolled": false
   },
   "outputs": [
    {
     "name": "stdout",
     "output_type": "stream",
     "text": [
      "<class 'pandas.core.frame.DataFrame'>\n",
      "RangeIndex: 61069 entries, 0 to 61068\n",
      "Data columns (total 95 columns):\n",
      " #   Column                  Non-Null Count  Dtype  \n",
      "---  ------                  --------------  -----  \n",
      " 0   class                   61069 non-null  int8   \n",
      " 1   cap-diameter            61069 non-null  float64\n",
      " 2   stem-height             61069 non-null  float64\n",
      " 3   stem-width              61069 non-null  float64\n",
      " 4   veil-type               61069 non-null  int64  \n",
      " 5   cap-shape_b             61069 non-null  uint8  \n",
      " 6   cap-shape_c             61069 non-null  uint8  \n",
      " 7   cap-shape_f             61069 non-null  uint8  \n",
      " 8   cap-shape_o             61069 non-null  uint8  \n",
      " 9   cap-shape_p             61069 non-null  uint8  \n",
      " 10  cap-shape_s             61069 non-null  uint8  \n",
      " 11  cap-shape_x             61069 non-null  uint8  \n",
      " 12  cap-surface_d           61069 non-null  uint8  \n",
      " 13  cap-surface_e           61069 non-null  uint8  \n",
      " 14  cap-surface_f           61069 non-null  uint8  \n",
      " 15  cap-surface_g           61069 non-null  uint8  \n",
      " 16  cap-surface_h           61069 non-null  uint8  \n",
      " 17  cap-surface_i           61069 non-null  uint8  \n",
      " 18  cap-surface_k           61069 non-null  uint8  \n",
      " 19  cap-surface_l           61069 non-null  uint8  \n",
      " 20  cap-surface_s           61069 non-null  uint8  \n",
      " 21  cap-surface_t           61069 non-null  uint8  \n",
      " 22  cap-surface_w           61069 non-null  uint8  \n",
      " 23  cap-surface_y           61069 non-null  uint8  \n",
      " 24  cap-color_b             61069 non-null  uint8  \n",
      " 25  cap-color_e             61069 non-null  uint8  \n",
      " 26  cap-color_g             61069 non-null  uint8  \n",
      " 27  cap-color_k             61069 non-null  uint8  \n",
      " 28  cap-color_l             61069 non-null  uint8  \n",
      " 29  cap-color_n             61069 non-null  uint8  \n",
      " 30  cap-color_o             61069 non-null  uint8  \n",
      " 31  cap-color_p             61069 non-null  uint8  \n",
      " 32  cap-color_r             61069 non-null  uint8  \n",
      " 33  cap-color_u             61069 non-null  uint8  \n",
      " 34  cap-color_w             61069 non-null  uint8  \n",
      " 35  cap-color_y             61069 non-null  uint8  \n",
      " 36  does-bruise-or-bleed_f  61069 non-null  uint8  \n",
      " 37  does-bruise-or-bleed_t  61069 non-null  uint8  \n",
      " 38  gill-attachment_a       61069 non-null  uint8  \n",
      " 39  gill-attachment_d       61069 non-null  uint8  \n",
      " 40  gill-attachment_e       61069 non-null  uint8  \n",
      " 41  gill-attachment_f       61069 non-null  uint8  \n",
      " 42  gill-attachment_p       61069 non-null  uint8  \n",
      " 43  gill-attachment_s       61069 non-null  uint8  \n",
      " 44  gill-attachment_x       61069 non-null  uint8  \n",
      " 45  gill-spacing_c          61069 non-null  uint8  \n",
      " 46  gill-spacing_d          61069 non-null  uint8  \n",
      " 47  gill-spacing_f          61069 non-null  uint8  \n",
      " 48  gill-color_b            61069 non-null  uint8  \n",
      " 49  gill-color_e            61069 non-null  uint8  \n",
      " 50  gill-color_f            61069 non-null  uint8  \n",
      " 51  gill-color_g            61069 non-null  uint8  \n",
      " 52  gill-color_k            61069 non-null  uint8  \n",
      " 53  gill-color_n            61069 non-null  uint8  \n",
      " 54  gill-color_o            61069 non-null  uint8  \n",
      " 55  gill-color_p            61069 non-null  uint8  \n",
      " 56  gill-color_r            61069 non-null  uint8  \n",
      " 57  gill-color_u            61069 non-null  uint8  \n",
      " 58  gill-color_w            61069 non-null  uint8  \n",
      " 59  gill-color_y            61069 non-null  uint8  \n",
      " 60  stem-color_b            61069 non-null  uint8  \n",
      " 61  stem-color_e            61069 non-null  uint8  \n",
      " 62  stem-color_f            61069 non-null  uint8  \n",
      " 63  stem-color_g            61069 non-null  uint8  \n",
      " 64  stem-color_k            61069 non-null  uint8  \n",
      " 65  stem-color_l            61069 non-null  uint8  \n",
      " 66  stem-color_n            61069 non-null  uint8  \n",
      " 67  stem-color_o            61069 non-null  uint8  \n",
      " 68  stem-color_p            61069 non-null  uint8  \n",
      " 69  stem-color_r            61069 non-null  uint8  \n",
      " 70  stem-color_u            61069 non-null  uint8  \n",
      " 71  stem-color_w            61069 non-null  uint8  \n",
      " 72  stem-color_y            61069 non-null  uint8  \n",
      " 73  has-ring_f              61069 non-null  uint8  \n",
      " 74  has-ring_t              61069 non-null  uint8  \n",
      " 75  ring-type_e             61069 non-null  uint8  \n",
      " 76  ring-type_f             61069 non-null  uint8  \n",
      " 77  ring-type_g             61069 non-null  uint8  \n",
      " 78  ring-type_l             61069 non-null  uint8  \n",
      " 79  ring-type_m             61069 non-null  uint8  \n",
      " 80  ring-type_p             61069 non-null  uint8  \n",
      " 81  ring-type_r             61069 non-null  uint8  \n",
      " 82  ring-type_z             61069 non-null  uint8  \n",
      " 83  habitat_d               61069 non-null  uint8  \n",
      " 84  habitat_g               61069 non-null  uint8  \n",
      " 85  habitat_h               61069 non-null  uint8  \n",
      " 86  habitat_l               61069 non-null  uint8  \n",
      " 87  habitat_m               61069 non-null  uint8  \n",
      " 88  habitat_p               61069 non-null  uint8  \n",
      " 89  habitat_u               61069 non-null  uint8  \n",
      " 90  habitat_w               61069 non-null  uint8  \n",
      " 91  season_a                61069 non-null  uint8  \n",
      " 92  season_s                61069 non-null  uint8  \n",
      " 93  season_u                61069 non-null  uint8  \n",
      " 94  season_w                61069 non-null  uint8  \n",
      "dtypes: float64(3), int64(1), int8(1), uint8(90)\n",
      "memory usage: 7.2 MB\n"
     ]
    }
   ],
   "source": [
    "ohe.info()"
   ]
  },
  {
   "cell_type": "code",
   "execution_count": 51,
   "id": "323c1fc0",
   "metadata": {},
   "outputs": [],
   "source": [
    "y=ohe.pop('class')\n",
    "X=ohe"
   ]
  },
  {
   "cell_type": "code",
   "execution_count": 52,
   "id": "145d0aaa",
   "metadata": {},
   "outputs": [],
   "source": [
    "from sklearn.model_selection import train_test_split\n",
    "# from sklearn.preprocessing import StandardScaler\n",
    "X_train,X_test,y_train,y_test = train_test_split(X,y,test_size=0.2,random_state=123)\n",
    "# scaler = StandardScaler()\n",
    "# scaler.fit(X_train)\n",
    "# X_train = scaler.transform(X_train)\n",
    "# X_test = scaler.transform(X_test)"
   ]
  },
  {
   "cell_type": "code",
   "execution_count": 53,
   "id": "ccee45e3",
   "metadata": {},
   "outputs": [],
   "source": [
    "# Modelling Libraries\n",
    "from sklearn.linear_model import LogisticRegression, RidgeClassifier, SGDClassifier\n",
    "from sklearn.neighbors import KNeighborsClassifier\n",
    "from sklearn.tree import DecisionTreeClassifier\n",
    "from sklearn.svm import SVC\n",
    "from sklearn.ensemble import RandomForestClassifier,AdaBoostClassifier,GradientBoostingClassifier\n",
    "from xgboost import XGBClassifier\n",
    "from sklearn.naive_bayes import GaussianNB\n",
    "\n",
    "# Evaluation & CV Libraries\n",
    "from sklearn.metrics import precision_score,accuracy_score\n",
    "from sklearn.model_selection import RandomizedSearchCV,GridSearchCV,RepeatedStratifiedKFold\n",
    "from sklearn.metrics import roc_curve, roc_auc_score"
   ]
  },
  {
   "cell_type": "code",
   "execution_count": 74,
   "id": "521fc445",
   "metadata": {},
   "outputs": [
    {
     "name": "stderr",
     "output_type": "stream",
     "text": [
      "C:\\Users\\HP\\anaconda3\\lib\\site-packages\\sklearn\\linear_model\\_logistic.py:444: ConvergenceWarning: lbfgs failed to converge (status=1):\n",
      "STOP: TOTAL NO. of ITERATIONS REACHED LIMIT.\n",
      "\n",
      "Increase the number of iterations (max_iter) or scale the data as shown in:\n",
      "    https://scikit-learn.org/stable/modules/preprocessing.html\n",
      "Please also refer to the documentation for alternative solver options:\n",
      "    https://scikit-learn.org/stable/modules/linear_model.html#logistic-regression\n",
      "  n_iter_i = _check_optimize_result(\n"
     ]
    }
   ],
   "source": [
    "models =[(\"LR\", LogisticRegression(random_state=123)),(\"KNN\",KNeighborsClassifier()), (\"SVM\", SVC(random_state=123)),\n",
    "         (\"XGB\", XGBClassifier(random_state=123)), (\"DTC\", DecisionTreeClassifier()), ('RF',RandomForestClassifier(random_state=123)),\n",
    "         ('ADA',AdaBoostClassifier(random_state=123)), (\"GB\",GradientBoostingClassifier(random_state=123))]\n",
    "\n",
    "results = []\n",
    "names = []\n",
    "finalResults = []\n",
    "\n",
    "for name,model in models:\n",
    "    model.fit(X_train, y_train)\n",
    "    model_results = model.predict(X_test)\n",
    "    score = roc_auc_score(y_test, model_results,average='macro')\n",
    "    results.append(score)\n",
    "    names.append(name)\n",
    "    finalResults.append((name,score))\n",
    "    \n",
    "finalResults.sort(key=lambda k:k[1],reverse=True)"
   ]
  },
  {
   "cell_type": "code",
   "execution_count": 75,
   "id": "b3be2ec3",
   "metadata": {},
   "outputs": [
    {
     "data": {
      "text/plain": [
       "[('RF', 1.0),\n",
       " ('XGB', 0.9996515978394837),\n",
       " ('KNN', 0.9993946200709951),\n",
       " ('DTC', 0.9979046396828488),\n",
       " ('GB', 0.9299116754980326),\n",
       " ('SVM', 0.9262127083022429),\n",
       " ('ADA', 0.7993764978453257),\n",
       " ('LR', 0.7839528437187784)]"
      ]
     },
     "execution_count": 75,
     "metadata": {},
     "output_type": "execute_result"
    }
   ],
   "source": [
    "finalResults"
   ]
  },
  {
   "cell_type": "code",
   "execution_count": 81,
   "id": "089c5345",
   "metadata": {},
   "outputs": [
    {
     "name": "stdout",
     "output_type": "stream",
     "text": [
      "AUC: 0.926\n"
     ]
    },
    {
     "data": {
      "image/png": "[encoded data removed]",
      "text/plain": [
       "<Figure size 432x288 with 1 Axes>"
      ]
     },
     "metadata": {},
     "output_type": "display_data"
    }
   ],
   "source": [
    "svm = SVC(random_state=123)\n",
    "svm.fit(X_train, y_train)\n",
    "y_pred_svm = svm.predict(X_test)\n",
    "fpr, tpr, thresholds=roc_curve(y_test, y_pred_svm)\n",
    "auc=roc_auc_score(y_test, y_pred_svm)\n",
    "print('AUC: %.3f' % auc)\n",
    "plt.plot([0,1], [0,1], 'k--', label='No model')\n",
    "plt.plot(fpr, tpr, marker='.', label='SVM')\n",
    "plt.xlabel('False positive rate')\n",
    "plt.ylabel('True posotive rate')\n",
    "plt.legend()\n",
    "plt.show()"
   ]
  },
  {
   "cell_type": "code",
   "execution_count": 63,
   "id": "9e023817",
   "metadata": {},
   "outputs": [],
   "source": [
    "from sklearn.metrics import confusion_matrix, classification_report"
   ]
  },
  {
   "cell_type": "code",
   "execution_count": 57,
   "id": "76835295",
   "metadata": {},
   "outputs": [],
   "source": [
    "knn=KNeighborsClassifier(n_neighbors=5)\n",
    "knn.fit(X_train, y_train)\n",
    "pred_knn=knn.predict(X_test)"
   ]
  },
  {
   "cell_type": "code",
   "execution_count": 61,
   "id": "33dbc716",
   "metadata": {},
   "outputs": [
    {
     "name": "stdout",
     "output_type": "stream",
     "text": [
      "precision_score score for train set: 1.000\n",
      "precision_score score for test set: 1.000\n"
     ]
    }
   ],
   "source": [
    "print(\"score score for train set: {:.3f}\".format(knn.score(X_train,y_train)))\n",
    "print(\"score score for test set: {:.3f}\".format(knn.score(X_test,pred_knn)))"
   ]
  },
  {
   "cell_type": "code",
   "execution_count": 64,
   "id": "f17b38c1",
   "metadata": {},
   "outputs": [
    {
     "name": "stdout",
     "output_type": "stream",
     "text": [
      "              precision    recall  f1-score   support\n",
      "\n",
      "           0       1.00      1.00      1.00      6745\n",
      "           1       1.00      1.00      1.00      5469\n",
      "\n",
      "    accuracy                           1.00     12214\n",
      "   macro avg       1.00      1.00      1.00     12214\n",
      "weighted avg       1.00      1.00      1.00     12214\n",
      "\n"
     ]
    }
   ],
   "source": [
    "print(classification_report(y_test, pred_knn))"
   ]
  },
  {
   "cell_type": "code",
   "execution_count": 66,
   "id": "c078804a",
   "metadata": {},
   "outputs": [
    {
     "data": {
      "image/png": "[encoded data removed]",
      "text/plain": [
       "<Figure size 432x288 with 2 Axes>"
      ]
     },
     "metadata": {},
     "output_type": "display_data"
    }
   ],
   "source": [
    "knn_train=confusion_matrix(y_test, pred_knn)\n",
    "sns.heatmap(knn_train, annot=True, fmt='d')\n",
    "plt.show()"
   ]
  },
  {
   "cell_type": "code",
   "execution_count": 67,
   "id": "ca1adbc7",
   "metadata": {},
   "outputs": [
    {
     "data": {
      "text/plain": [
       "0.9999085756079722"
      ]
     },
     "execution_count": 67,
     "metadata": {},
     "output_type": "execute_result"
    }
   ],
   "source": [
    "auc=roc_auc_score(y_test, pred_knn)\n",
    "auc"
   ]
  },
  {
   "cell_type": "code",
   "execution_count": 56,
   "id": "62357050",
   "metadata": {},
   "outputs": [],
   "source": [
    "from mlxtend.evaluate import bias_variance_decomp"
   ]
  },
  {
   "cell_type": "code",
   "execution_count": 62,
   "id": "65b0f421",
   "metadata": {},
   "outputs": [
    {
     "name": "stdout",
     "output_type": "stream",
     "text": [
      "Average expected loss: 0.001\n",
      "Average bias: 0.001\n",
      "Average variance: 0.000\n"
     ]
    }
   ],
   "source": [
    "knn=KNeighborsClassifier()\n",
    "avg_expected_loss, avg_bias, avg_var = bias_variance_decomp(\n",
    "        knn, X_train.values, y_train.values, X_test.values, y_test.values, \n",
    "        loss='0-1_loss',\n",
    "        random_seed=123)\n",
    "\n",
    "print('Average expected loss: %.3f' % avg_expected_loss)\n",
    "print('Average bias: %.3f' % avg_bias)\n",
    "print('Average variance: %.3f' % avg_var)"
   ]
  },
  {
   "cell_type": "code",
   "execution_count": 69,
   "id": "c84481a5",
   "metadata": {
    "scrolled": true
   },
   "outputs": [
    {
     "name": "stdout",
     "output_type": "stream",
     "text": [
      "Average expected loss 0.000560422466022597\n",
      "Average bias 0.0004912395611593254\n",
      "Average variance 0.0003549205829376126\n",
      "Average expected loss 0.0006455706566235468\n",
      "Average bias 0.00040936630096610445\n",
      "Average variance 0.00043761257573276575\n",
      "Average expected loss 0.0007233502538071065\n",
      "Average bias 0.0006549860815457672\n",
      "Average variance 0.0003794825609955788\n",
      "Average expected loss 0.0008044047813983954\n",
      "Average bias 0.0005731128213525463\n",
      "Average variance 0.00044416243654822336\n",
      "Average expected loss 0.0008498444408056329\n",
      "Average bias 0.0006549860815457672\n",
      "Average variance 0.00039053545112166364\n",
      "Average expected loss 0.0009096119207466842\n",
      "Average bias 0.000736859341738988\n",
      "Average variance 0.0004519403962665793\n",
      "Average expected loss 0.000943998690027837\n",
      "Average bias 0.000736859341738988\n",
      "Average variance 0.00042164728999508766\n",
      "Average expected loss 0.0010054036351727527\n",
      "Average bias 0.0008187326019322089\n",
      "Average variance 0.00047404617651874905\n",
      "Average expected loss 0.001053708858686753\n",
      "Average bias 0.0009824791223186507\n",
      "Average variance 0.00046504011789749467\n"
     ]
    },
    {
     "ename": "ValueError",
     "evalue": "x and y must have same first dimension, but have shapes (20,) and (9,)",
     "output_type": "error",
     "traceback": [
      "\u001b[1;31m---------------------------------------------------------------------------\u001b[0m",
      "\u001b[1;31mValueError\u001b[0m                                Traceback (most recent call last)",
      "Input \u001b[1;32mIn [69]\u001b[0m, in \u001b[0;36m<cell line: 11>\u001b[1;34m()\u001b[0m\n\u001b[0;32m      9\u001b[0m     \u001b[38;5;28mprint\u001b[39m(\u001b[38;5;124mf\u001b[39m\u001b[38;5;124m\"\u001b[39m\u001b[38;5;124mAverage bias \u001b[39m\u001b[38;5;132;01m{\u001b[39;00mavg_bias\u001b[38;5;132;01m}\u001b[39;00m\u001b[38;5;124m\"\u001b[39m)\n\u001b[0;32m     10\u001b[0m     \u001b[38;5;28mprint\u001b[39m(\u001b[38;5;124mf\u001b[39m\u001b[38;5;124m\"\u001b[39m\u001b[38;5;124mAverage variance \u001b[39m\u001b[38;5;132;01m{\u001b[39;00mavg_var\u001b[38;5;132;01m}\u001b[39;00m\u001b[38;5;124m\"\u001b[39m)\n\u001b[1;32m---> 11\u001b[0m \u001b[43mplt\u001b[49m\u001b[38;5;241;43m.\u001b[39;49m\u001b[43mplot\u001b[49m\u001b[43m(\u001b[49m\u001b[38;5;28;43mrange\u001b[39;49m\u001b[43m(\u001b[49m\u001b[38;5;241;43m1\u001b[39;49m\u001b[43m,\u001b[49m\u001b[38;5;241;43m21\u001b[39;49m\u001b[43m)\u001b[49m\u001b[43m,\u001b[49m\u001b[43m \u001b[49m\u001b[43merror_KnnClass\u001b[49m\u001b[43m,\u001b[49m\u001b[43m \u001b[49m\u001b[38;5;124;43m'\u001b[39;49m\u001b[38;5;124;43mred\u001b[39;49m\u001b[38;5;124;43m'\u001b[39;49m\u001b[43m,\u001b[49m\u001b[43m \u001b[49m\u001b[43mlabel\u001b[49m\u001b[43m \u001b[49m\u001b[38;5;241;43m=\u001b[39;49m\u001b[43m \u001b[49m\u001b[38;5;124;43m'\u001b[39;49m\u001b[38;5;124;43mtotal_error\u001b[39;49m\u001b[38;5;124;43m'\u001b[39;49m\u001b[43m,\u001b[49m\u001b[43mlinestyle\u001b[49m\u001b[38;5;241;43m=\u001b[39;49m\u001b[38;5;124;43m'\u001b[39;49m\u001b[38;5;124;43mdashed\u001b[39;49m\u001b[38;5;124;43m'\u001b[39;49m\u001b[43m)\u001b[49m\n\u001b[0;32m     12\u001b[0m plt\u001b[38;5;241m.\u001b[39mplot(\u001b[38;5;28mrange\u001b[39m(\u001b[38;5;241m1\u001b[39m,\u001b[38;5;241m21\u001b[39m), bias_KnnClass, \u001b[38;5;124m'\u001b[39m\u001b[38;5;124mbrown\u001b[39m\u001b[38;5;124m'\u001b[39m, label \u001b[38;5;241m=\u001b[39m \u001b[38;5;124m'\u001b[39m\u001b[38;5;124mbias^2\u001b[39m\u001b[38;5;124m'\u001b[39m)\n\u001b[0;32m     13\u001b[0m plt\u001b[38;5;241m.\u001b[39mplot(\u001b[38;5;28mrange\u001b[39m(\u001b[38;5;241m1\u001b[39m,\u001b[38;5;241m21\u001b[39m), var_KnnClass, \u001b[38;5;124m'\u001b[39m\u001b[38;5;124myellow\u001b[39m\u001b[38;5;124m'\u001b[39m, label \u001b[38;5;241m=\u001b[39m \u001b[38;5;124m'\u001b[39m\u001b[38;5;124mvariance\u001b[39m\u001b[38;5;124m'\u001b[39m)\n",
      "File \u001b[1;32m~\\anaconda3\\lib\\site-packages\\matplotlib\\pyplot.py:2757\u001b[0m, in \u001b[0;36mplot\u001b[1;34m(scalex, scaley, data, *args, **kwargs)\u001b[0m\n\u001b[0;32m   2755\u001b[0m \u001b[38;5;129m@_copy_docstring_and_deprecators\u001b[39m(Axes\u001b[38;5;241m.\u001b[39mplot)\n\u001b[0;32m   2756\u001b[0m \u001b[38;5;28;01mdef\u001b[39;00m \u001b[38;5;21mplot\u001b[39m(\u001b[38;5;241m*\u001b[39margs, scalex\u001b[38;5;241m=\u001b[39m\u001b[38;5;28;01mTrue\u001b[39;00m, scaley\u001b[38;5;241m=\u001b[39m\u001b[38;5;28;01mTrue\u001b[39;00m, data\u001b[38;5;241m=\u001b[39m\u001b[38;5;28;01mNone\u001b[39;00m, \u001b[38;5;241m*\u001b[39m\u001b[38;5;241m*\u001b[39mkwargs):\n\u001b[1;32m-> 2757\u001b[0m     \u001b[38;5;28;01mreturn\u001b[39;00m gca()\u001b[38;5;241m.\u001b[39mplot(\n\u001b[0;32m   2758\u001b[0m         \u001b[38;5;241m*\u001b[39margs, scalex\u001b[38;5;241m=\u001b[39mscalex, scaley\u001b[38;5;241m=\u001b[39mscaley,\n\u001b[0;32m   2759\u001b[0m         \u001b[38;5;241m*\u001b[39m\u001b[38;5;241m*\u001b[39m({\u001b[38;5;124m\"\u001b[39m\u001b[38;5;124mdata\u001b[39m\u001b[38;5;124m\"\u001b[39m: data} \u001b[38;5;28;01mif\u001b[39;00m data \u001b[38;5;129;01mis\u001b[39;00m \u001b[38;5;129;01mnot\u001b[39;00m \u001b[38;5;28;01mNone\u001b[39;00m \u001b[38;5;28;01melse\u001b[39;00m {}), \u001b[38;5;241m*\u001b[39m\u001b[38;5;241m*\u001b[39mkwargs)\n",
      "File \u001b[1;32m~\\anaconda3\\lib\\site-packages\\matplotlib\\axes\\_axes.py:1632\u001b[0m, in \u001b[0;36mAxes.plot\u001b[1;34m(self, scalex, scaley, data, *args, **kwargs)\u001b[0m\n\u001b[0;32m   1390\u001b[0m \u001b[38;5;124;03m\"\"\"\u001b[39;00m\n\u001b[0;32m   1391\u001b[0m \u001b[38;5;124;03mPlot y versus x as lines and/or markers.\u001b[39;00m\n\u001b[0;32m   1392\u001b[0m \n\u001b[1;32m   (...)\u001b[0m\n\u001b[0;32m   1629\u001b[0m \u001b[38;5;124;03m(``'green'``) or hex strings (``'#008000'``).\u001b[39;00m\n\u001b[0;32m   1630\u001b[0m \u001b[38;5;124;03m\"\"\"\u001b[39;00m\n\u001b[0;32m   1631\u001b[0m kwargs \u001b[38;5;241m=\u001b[39m cbook\u001b[38;5;241m.\u001b[39mnormalize_kwargs(kwargs, mlines\u001b[38;5;241m.\u001b[39mLine2D)\n\u001b[1;32m-> 1632\u001b[0m lines \u001b[38;5;241m=\u001b[39m [\u001b[38;5;241m*\u001b[39m\u001b[38;5;28mself\u001b[39m\u001b[38;5;241m.\u001b[39m_get_lines(\u001b[38;5;241m*\u001b[39margs, data\u001b[38;5;241m=\u001b[39mdata, \u001b[38;5;241m*\u001b[39m\u001b[38;5;241m*\u001b[39mkwargs)]\n\u001b[0;32m   1633\u001b[0m \u001b[38;5;28;01mfor\u001b[39;00m line \u001b[38;5;129;01min\u001b[39;00m lines:\n\u001b[0;32m   1634\u001b[0m     \u001b[38;5;28mself\u001b[39m\u001b[38;5;241m.\u001b[39madd_line(line)\n",
      "File \u001b[1;32m~\\anaconda3\\lib\\site-packages\\matplotlib\\axes\\_base.py:312\u001b[0m, in \u001b[0;36m_process_plot_var_args.__call__\u001b[1;34m(self, data, *args, **kwargs)\u001b[0m\n\u001b[0;32m    310\u001b[0m     this \u001b[38;5;241m+\u001b[39m\u001b[38;5;241m=\u001b[39m args[\u001b[38;5;241m0\u001b[39m],\n\u001b[0;32m    311\u001b[0m     args \u001b[38;5;241m=\u001b[39m args[\u001b[38;5;241m1\u001b[39m:]\n\u001b[1;32m--> 312\u001b[0m \u001b[38;5;28;01myield from\u001b[39;00m \u001b[38;5;28;43mself\u001b[39;49m\u001b[38;5;241;43m.\u001b[39;49m\u001b[43m_plot_args\u001b[49m\u001b[43m(\u001b[49m\u001b[43mthis\u001b[49m\u001b[43m,\u001b[49m\u001b[43m \u001b[49m\u001b[43mkwargs\u001b[49m\u001b[43m)\u001b[49m\n",
      "File \u001b[1;32m~\\anaconda3\\lib\\site-packages\\matplotlib\\axes\\_base.py:498\u001b[0m, in \u001b[0;36m_process_plot_var_args._plot_args\u001b[1;34m(self, tup, kwargs, return_kwargs)\u001b[0m\n\u001b[0;32m    495\u001b[0m     \u001b[38;5;28mself\u001b[39m\u001b[38;5;241m.\u001b[39maxes\u001b[38;5;241m.\u001b[39myaxis\u001b[38;5;241m.\u001b[39mupdate_units(y)\n\u001b[0;32m    497\u001b[0m \u001b[38;5;28;01mif\u001b[39;00m x\u001b[38;5;241m.\u001b[39mshape[\u001b[38;5;241m0\u001b[39m] \u001b[38;5;241m!=\u001b[39m y\u001b[38;5;241m.\u001b[39mshape[\u001b[38;5;241m0\u001b[39m]:\n\u001b[1;32m--> 498\u001b[0m     \u001b[38;5;28;01mraise\u001b[39;00m \u001b[38;5;167;01mValueError\u001b[39;00m(\u001b[38;5;124mf\u001b[39m\u001b[38;5;124m\"\u001b[39m\u001b[38;5;124mx and y must have same first dimension, but \u001b[39m\u001b[38;5;124m\"\u001b[39m\n\u001b[0;32m    499\u001b[0m                      \u001b[38;5;124mf\u001b[39m\u001b[38;5;124m\"\u001b[39m\u001b[38;5;124mhave shapes \u001b[39m\u001b[38;5;132;01m{\u001b[39;00mx\u001b[38;5;241m.\u001b[39mshape\u001b[38;5;132;01m}\u001b[39;00m\u001b[38;5;124m and \u001b[39m\u001b[38;5;132;01m{\u001b[39;00my\u001b[38;5;241m.\u001b[39mshape\u001b[38;5;132;01m}\u001b[39;00m\u001b[38;5;124m\"\u001b[39m)\n\u001b[0;32m    500\u001b[0m \u001b[38;5;28;01mif\u001b[39;00m x\u001b[38;5;241m.\u001b[39mndim \u001b[38;5;241m>\u001b[39m \u001b[38;5;241m2\u001b[39m \u001b[38;5;129;01mor\u001b[39;00m y\u001b[38;5;241m.\u001b[39mndim \u001b[38;5;241m>\u001b[39m \u001b[38;5;241m2\u001b[39m:\n\u001b[0;32m    501\u001b[0m     \u001b[38;5;28;01mraise\u001b[39;00m \u001b[38;5;167;01mValueError\u001b[39;00m(\u001b[38;5;124mf\u001b[39m\u001b[38;5;124m\"\u001b[39m\u001b[38;5;124mx and y can be no greater than 2D, but have \u001b[39m\u001b[38;5;124m\"\u001b[39m\n\u001b[0;32m    502\u001b[0m                      \u001b[38;5;124mf\u001b[39m\u001b[38;5;124m\"\u001b[39m\u001b[38;5;124mshapes \u001b[39m\u001b[38;5;132;01m{\u001b[39;00mx\u001b[38;5;241m.\u001b[39mshape\u001b[38;5;132;01m}\u001b[39;00m\u001b[38;5;124m and \u001b[39m\u001b[38;5;132;01m{\u001b[39;00my\u001b[38;5;241m.\u001b[39mshape\u001b[38;5;132;01m}\u001b[39;00m\u001b[38;5;124m\"\u001b[39m)\n",
      "\u001b[1;31mValueError\u001b[0m: x and y must have same first dimension, but have shapes (20,) and (9,)"
     ]
    },
    {
     "data": {
      "image/png": "[encoded data removed]",
      "text/plain": [
       "<Figure size 432x288 with 1 Axes>"
      ]
     },
     "metadata": {},
     "output_type": "display_data"
    }
   ],
   "source": [
    "bias_KnnClass, var_KnnClass,error_KnnClass, = [], [], []\n",
    "for k in range(2,11):\n",
    "    clf_knn = KNeighborsClassifier(n_neighbors=k)\n",
    "    avg_expected_loss, avg_bias, avg_var = bias_variance_decomp(clf_knn, X_train.values, y_train.values, X_test.values, y_test.values, loss='0-1_loss', random_seed=123)\n",
    "    bias_KnnClass.append(avg_bias)\n",
    "    var_KnnClass.append(avg_var)\n",
    "    error_KnnClass.append(avg_expected_loss)\n",
    "    print(f\"Average expected loss {avg_expected_loss}\")\n",
    "    print(f\"Average bias {avg_bias}\")\n",
    "    print(f\"Average variance {avg_var}\")\n"
   ]
  },
  {
   "cell_type": "code",
   "execution_count": 71,
   "id": "66f143f9",
   "metadata": {},
   "outputs": [
    {
     "data": {
      "text/plain": [
       "<matplotlib.legend.Legend at 0x237b10b5340>"
      ]
     },
     "execution_count": 71,
     "metadata": {},
     "output_type": "execute_result"
    },
    {
     "data": {
      "image/png": "[encoded data removed]",
      "text/plain": [
       "<Figure size 432x288 with 1 Axes>"
      ]
     },
     "metadata": {},
     "output_type": "display_data"
    }
   ],
   "source": [
    "plt.plot(range(1,10), error_KnnClass, 'red', label = 'total_error',linestyle='dashed')\n",
    "plt.plot(range(1,10), bias_KnnClass, 'brown', label = 'bias^2')\n",
    "plt.plot(range(1,10), var_KnnClass, 'yellow', label = 'variance')\n",
    "plt.xlabel('Algorithm Complexity(K)')\n",
    "plt.ylabel('Error')\n",
    "plt.legend()"
   ]
  },
  {
   "cell_type": "code",
   "execution_count": 72,
   "id": "9b47c126",
   "metadata": {},
   "outputs": [
    {
     "name": "stdout",
     "output_type": "stream",
     "text": [
      "Average expected loss 0.0004912395611593254\n",
      "Average bias 0.0003274930407728836\n",
      "Average variance 0.0003307679711806124\n"
     ]
    }
   ],
   "source": [
    "clf_xgb = XGBClassifier()\n",
    "avg_expected_loss, avg_bias, avg_var = bias_variance_decomp(clf_xgb, X_train.values,\n",
    "                                y_train.values, X_test.values, y_test.values, loss='0-1_loss', random_seed=123)\n",
    "print(f\"Average expected loss {avg_expected_loss}\")\n",
    "print(f\"Average bias {avg_bias}\")\n",
    "print(f\"Average variance {avg_var}\")"
   ]
  },
  {
   "cell_type": "code",
   "execution_count": 76,
   "id": "f396420e",
   "metadata": {},
   "outputs": [
    {
     "name": "stdout",
     "output_type": "stream",
     "text": [
      "Average expected loss 0.16323235631242838\n",
      "Average bias 0.1653839855903062\n",
      "Average variance 0.03656214180448666\n",
      "Average expected loss 0.11730555100704111\n",
      "Average bias 0.10864581627640413\n",
      "Average variance 0.03157278532831178\n",
      "Average expected loss 0.08194367119698708\n",
      "Average bias 0.0783527100049124\n",
      "Average variance 0.02347060749959063\n",
      "Average expected loss 0.056373423939741284\n",
      "Average bias 0.05370885868675291\n",
      "Average variance 0.017682577370230886\n",
      "Average expected loss 0.036563779269690524\n",
      "Average bias 0.03283117733748158\n",
      "Average variance 0.01300229245128541\n",
      "Average expected loss 0.021726297691174064\n",
      "Average bias 0.0184214835434747\n",
      "Average variance 0.00916448337972818\n"
     ]
    }
   ],
   "source": [
    "bias_RFClass, var_RFClass,error_RFClass, = [], [], []\n",
    "for k in range(5,11):\n",
    "    clf_rf = RandomForestClassifier(max_depth=k , n_jobs=-1)\n",
    "    avg_expected_loss, avg_bias, avg_var = bias_variance_decomp(clf_rf, X_train.values, y_train.values, X_test.values, y_test.values, loss='0-1_loss', random_seed=123)\n",
    "    bias_RFClass.append(avg_bias)\n",
    "    var_RFClass.append(avg_var)\n",
    "    error_RFClass.append(avg_expected_loss)\n",
    "    print(f\"Average expected loss {avg_expected_loss}\")\n",
    "    print(f\"Average bias {avg_bias}\")\n",
    "    print(f\"Average variance {avg_var}\")"
   ]
  },
  {
   "cell_type": "code",
   "execution_count": 78,
   "id": "de56be46",
   "metadata": {},
   "outputs": [
    {
     "data": {
      "text/plain": [
       "<matplotlib.legend.Legend at 0x237b1b0bd00>"
      ]
     },
     "execution_count": 78,
     "metadata": {},
     "output_type": "execute_result"
    },
    {
     "data": {
      "image/png": "[encoded data removed]",
      "text/plain": [
       "<Figure size 432x288 with 1 Axes>"
      ]
     },
     "metadata": {},
     "output_type": "display_data"
    }
   ],
   "source": [
    "plt.plot(range(5,11), error_RFClass, 'red', label = 'total_error',linestyle='dashed')\n",
    "plt.plot(range(5,11), bias_RFClass, 'brown', label = 'bias^2')\n",
    "plt.plot(range(5,11), var_RFClass, 'yellow', label = 'variance')\n",
    "plt.xlabel('Algorithm Complexity(K)')\n",
    "plt.ylabel('Error')\n",
    "plt.legend()"
   ]
  },
  {
   "cell_type": "code",
   "execution_count": 79,
   "id": "a4fbba65",
   "metadata": {},
   "outputs": [
    {
     "name": "stdout",
     "output_type": "stream",
     "text": [
      "Average expected loss 2.5790076960864584e-05\n",
      "Average bias 0.0\n",
      "Average variance 2.579007696086458e-05\n"
     ]
    }
   ],
   "source": [
    "clf_rf = RandomForestClassifier()\n",
    "avg_expected_loss, avg_bias, avg_var = bias_variance_decomp(clf_rf, X_train.values,\n",
    "                                y_train.values, X_test.values, y_test.values, loss='0-1_loss', random_seed=123)\n",
    "print(f\"Average expected loss {avg_expected_loss}\")\n",
    "print(f\"Average bias {avg_bias}\")\n",
    "print(f\"Average variance {avg_var}\")"
   ]
  },
  {
   "cell_type": "code",
   "execution_count": 113,
   "id": "5a33cf83",
   "metadata": {},
   "outputs": [
    {
     "name": "stdout",
     "output_type": "stream",
     "text": [
      "<class 'pandas.core.frame.DataFrame'>\n",
      "Int64Index: 38830 entries, 0 to 61068\n",
      "Data columns (total 89 columns):\n",
      " #   Column                Non-Null Count  Dtype  \n",
      "---  ------                --------------  -----  \n",
      " 0   class                 38830 non-null  float64\n",
      " 1   cap_diameter          38830 non-null  float64\n",
      " 2   does_bruise_or_bleed  38830 non-null  float64\n",
      " 3   stem_height           38830 non-null  float64\n",
      " 4   stem-width            38830 non-null  float64\n",
      " 5   veil_type             38830 non-null  float64\n",
      " 6   has_ring              38830 non-null  float64\n",
      " 7   b                     38830 non-null  float64\n",
      " 8   e                     38830 non-null  float64\n",
      " 9   g                     38830 non-null  float64\n",
      " 10  k                     38830 non-null  float64\n",
      " 11  l                     38830 non-null  float64\n",
      " 12  n                     38830 non-null  float64\n",
      " 13  o                     38830 non-null  float64\n",
      " 14  p                     38830 non-null  float64\n",
      " 15  r                     38830 non-null  float64\n",
      " 16  u                     38830 non-null  float64\n",
      " 17  w                     38830 non-null  float64\n",
      " 18  y                     38830 non-null  float64\n",
      " 19  b                     38830 non-null  float64\n",
      " 20  c                     38830 non-null  float64\n",
      " 21  f                     38830 non-null  float64\n",
      " 22  o                     38830 non-null  float64\n",
      " 23  p                     38830 non-null  float64\n",
      " 24  s                     38830 non-null  float64\n",
      " 25  x                     38830 non-null  float64\n",
      " 26  d                     38830 non-null  float64\n",
      " 27  e                     38830 non-null  float64\n",
      " 28  g                     38830 non-null  float64\n",
      " 29  h                     38830 non-null  float64\n",
      " 30  i                     38830 non-null  float64\n",
      " 31  k                     38830 non-null  float64\n",
      " 32  l                     38830 non-null  float64\n",
      " 33  s                     38830 non-null  float64\n",
      " 34  t                     38830 non-null  float64\n",
      " 35  w                     38830 non-null  float64\n",
      " 36  y                     38830 non-null  float64\n",
      " 37  a                     38830 non-null  float64\n",
      " 38  d                     38830 non-null  float64\n",
      " 39  e                     38830 non-null  float64\n",
      " 40  f                     38830 non-null  float64\n",
      " 41  p                     38830 non-null  float64\n",
      " 42  s                     38830 non-null  float64\n",
      " 43  x                     38830 non-null  float64\n",
      " 44  c                     38830 non-null  float64\n",
      " 45  d                     38830 non-null  float64\n",
      " 46  f                     38830 non-null  float64\n",
      " 47  b                     38830 non-null  float64\n",
      " 48  e                     38830 non-null  float64\n",
      " 49  f                     38830 non-null  float64\n",
      " 50  g                     38830 non-null  float64\n",
      " 51  k                     38830 non-null  float64\n",
      " 52  n                     38830 non-null  float64\n",
      " 53  o                     38830 non-null  float64\n",
      " 54  p                     38830 non-null  float64\n",
      " 55  r                     38830 non-null  float64\n",
      " 56  u                     38830 non-null  float64\n",
      " 57  w                     38830 non-null  float64\n",
      " 58  y                     38830 non-null  float64\n",
      " 59  e                     38830 non-null  float64\n",
      " 60  f                     38830 non-null  float64\n",
      " 61  g                     38830 non-null  float64\n",
      " 62  k                     38830 non-null  float64\n",
      " 63  l                     38830 non-null  float64\n",
      " 64  n                     38830 non-null  float64\n",
      " 65  o                     38830 non-null  float64\n",
      " 66  p                     38830 non-null  float64\n",
      " 67  r                     38830 non-null  float64\n",
      " 68  u                     38830 non-null  float64\n",
      " 69  w                     38830 non-null  float64\n",
      " 70  y                     38830 non-null  float64\n",
      " 71  e                     38830 non-null  float64\n",
      " 72  f                     38830 non-null  float64\n",
      " 73  g                     38830 non-null  float64\n",
      " 74  l                     38830 non-null  float64\n",
      " 75  p                     38830 non-null  float64\n",
      " 76  r                     38830 non-null  float64\n",
      " 77  z                     38830 non-null  float64\n",
      " 78  d                     38830 non-null  float64\n",
      " 79  g                     38830 non-null  float64\n",
      " 80  h                     38830 non-null  float64\n",
      " 81  l                     38830 non-null  float64\n",
      " 82  m                     38830 non-null  float64\n",
      " 83  u                     38830 non-null  float64\n",
      " 84  w                     38830 non-null  float64\n",
      " 85  a                     38830 non-null  float64\n",
      " 86  s                     38830 non-null  float64\n",
      " 87  u                     38830 non-null  float64\n",
      " 88  w                     38830 non-null  float64\n",
      "dtypes: float64(89)\n",
      "memory usage: 26.7 MB\n"
     ]
    }
   ],
   "source": [
    "dfi.info()"
   ]
  },
  {
   "cell_type": "markdown",
   "id": "e037a8c8",
   "metadata": {},
   "source": [
    "## Regresja logistyczna"
   ]
  },
  {
   "cell_type": "code",
   "execution_count": 114,
   "id": "e0cb3f8e",
   "metadata": {},
   "outputs": [],
   "source": [
    "from sklearn.linear_model import LogisticRegression\n",
    "from sklearn.model_selection import train_test_split"
   ]
  },
  {
   "cell_type": "code",
   "execution_count": 115,
   "id": "56ff5839",
   "metadata": {},
   "outputs": [],
   "source": [
    "y=dfi.pop('class')\n",
    "X=dfi"
   ]
  },
  {
   "cell_type": "code",
   "execution_count": 116,
   "id": "8d639eec",
   "metadata": {},
   "outputs": [],
   "source": [
    "X_train,X_test,y_train,y_test=train_test_split(X,y, test_size=0.2, random_state=42)"
   ]
  },
  {
   "cell_type": "code",
   "execution_count": 117,
   "id": "008e0c1d",
   "metadata": {},
   "outputs": [
    {
     "name": "stderr",
     "output_type": "stream",
     "text": [
      "C:\\Users\\HP\\anaconda3\\lib\\site-packages\\sklearn\\linear_model\\_logistic.py:444: ConvergenceWarning: lbfgs failed to converge (status=1):\n",
      "STOP: TOTAL NO. of ITERATIONS REACHED LIMIT.\n",
      "\n",
      "Increase the number of iterations (max_iter) or scale the data as shown in:\n",
      "    https://scikit-learn.org/stable/modules/preprocessing.html\n",
      "Please also refer to the documentation for alternative solver options:\n",
      "    https://scikit-learn.org/stable/modules/linear_model.html#logistic-regression\n",
      "  n_iter_i = _check_optimize_result(\n"
     ]
    },
    {
     "data": {
      "text/html": [
       "<style>#sk-container-id-1 {color: black;background-color: white;}#sk-container-id-1 pre{padding: 0;}#sk-container-id-1 div.sk-toggleable {background-color: white;}#sk-container-id-1 label.sk-toggleable__label {cursor: pointer;display: block;width: 100%;margin-bottom: 0;padding: 0.3em;box-sizing: border-box;text-align: center;}#sk-container-id-1 label.sk-toggleable__label-arrow:before {content: \"▸\";float: left;margin-right: 0.25em;color: #696969;}#sk-container-id-1 label.sk-toggleable__label-arrow:hover:before {color: black;}#sk-container-id-1 div.sk-estimator:hover label.sk-toggleable__label-arrow:before {color: black;}#sk-container-id-1 div.sk-toggleable__content {max-height: 0;max-width: 0;overflow: hidden;text-align: left;background-color: #f0f8ff;}#sk-container-id-1 div.sk-toggleable__content pre {margin: 0.2em;color: black;border-radius: 0.25em;background-color: #f0f8ff;}#sk-container-id-1 input.sk-toggleable__control:checked~div.sk-toggleable__content {max-height: 200px;max-width: 100%;overflow: auto;}#sk-container-id-1 input.sk-toggleable__control:checked~label.sk-toggleable__label-arrow:before {content: \"▾\";}#sk-container-id-1 div.sk-estimator input.sk-toggleable__control:checked~label.sk-toggleable__label {background-color: #d4ebff;}#sk-container-id-1 div.sk-label input.sk-toggleable__control:checked~label.sk-toggleable__label {background-color: #d4ebff;}#sk-container-id-1 input.sk-hidden--visually {border: 0;clip: rect(1px 1px 1px 1px);clip: rect(1px, 1px, 1px, 1px);height: 1px;margin: -1px;overflow: hidden;padding: 0;position: absolute;width: 1px;}#sk-container-id-1 div.sk-estimator {font-family: monospace;background-color: #f0f8ff;border: 1px dotted black;border-radius: 0.25em;box-sizing: border-box;margin-bottom: 0.5em;}#sk-container-id-1 div.sk-estimator:hover {background-color: #d4ebff;}#sk-container-id-1 div.sk-parallel-item::after {content: \"\";width: 100%;border-bottom: 1px solid gray;flex-grow: 1;}#sk-container-id-1 div.sk-label:hover label.sk-toggleable__label {background-color: #d4ebff;}#sk-container-id-1 div.sk-serial::before {content: \"\";position: absolute;border-left: 1px solid gray;box-sizing: border-box;top: 0;bottom: 0;left: 50%;z-index: 0;}#sk-container-id-1 div.sk-serial {display: flex;flex-direction: column;align-items: center;background-color: white;padding-right: 0.2em;padding-left: 0.2em;position: relative;}#sk-container-id-1 div.sk-item {position: relative;z-index: 1;}#sk-container-id-1 div.sk-parallel {display: flex;align-items: stretch;justify-content: center;background-color: white;position: relative;}#sk-container-id-1 div.sk-item::before, #sk-container-id-1 div.sk-parallel-item::before {content: \"\";position: absolute;border-left: 1px solid gray;box-sizing: border-box;top: 0;bottom: 0;left: 50%;z-index: -1;}#sk-container-id-1 div.sk-parallel-item {display: flex;flex-direction: column;z-index: 1;position: relative;background-color: white;}#sk-container-id-1 div.sk-parallel-item:first-child::after {align-self: flex-end;width: 50%;}#sk-container-id-1 div.sk-parallel-item:last-child::after {align-self: flex-start;width: 50%;}#sk-container-id-1 div.sk-parallel-item:only-child::after {width: 0;}#sk-container-id-1 div.sk-dashed-wrapped {border: 1px dashed gray;margin: 0 0.4em 0.5em 0.4em;box-sizing: border-box;padding-bottom: 0.4em;background-color: white;}#sk-container-id-1 div.sk-label label {font-family: monospace;font-weight: bold;display: inline-block;line-height: 1.2em;}#sk-container-id-1 div.sk-label-container {text-align: center;}#sk-container-id-1 div.sk-container {/* jupyter's `normalize.less` sets `[hidden] { display: none; }` but bootstrap.min.css set `[hidden] { display: none !important; }` so we also need the `!important` here to be able to override the default hidden behavior on the sphinx rendered scikit-learn.org. See: https://github.com/scikit-learn/scikit-learn/issues/21755 */display: inline-block !important;position: relative;}#sk-container-id-1 div.sk-text-repr-fallback {display: none;}</style><div id=\"sk-container-id-1\" class=\"sk-top-container\"><div class=\"sk-text-repr-fallback\"><pre>LogisticRegression(random_state=42)</pre><b>In a Jupyter environment, please rerun this cell to show the HTML representation or trust the notebook. <br />On GitHub, the HTML representation is unable to render, please try loading this page with nbviewer.org.</b></div><div class=\"sk-container\" hidden><div class=\"sk-item\"><div class=\"sk-estimator sk-toggleable\"><input class=\"sk-toggleable__control sk-hidden--visually\" id=\"sk-estimator-id-1\" type=\"checkbox\" checked><label for=\"sk-estimator-id-1\" class=\"sk-toggleable__label sk-toggleable__label-arrow\">LogisticRegression</label><div class=\"sk-toggleable__content\"><pre>LogisticRegression(random_state=42)</pre></div></div></div></div></div>"
      ],
      "text/plain": [
       "LogisticRegression(random_state=42)"
      ]
     },
     "execution_count": 117,
     "metadata": {},
     "output_type": "execute_result"
    }
   ],
   "source": [
    "model=LogisticRegression(random_state=42)\n",
    "model.fit(X_train, y_train)"
   ]
  },
  {
   "cell_type": "code",
   "execution_count": 118,
   "id": "a0da5382",
   "metadata": {},
   "outputs": [],
   "source": [
    "y_pred_train=model.predict(X_train)\n",
    "y_pred_test=model.predict(X_test)"
   ]
  },
  {
   "cell_type": "code",
   "execution_count": 120,
   "id": "1a54965b",
   "metadata": {},
   "outputs": [
    {
     "data": {
      "image/png": "[encoded data removed]",
      "text/plain": [
       "<Figure size 432x288 with 2 Axes>"
      ]
     },
     "metadata": {
      "needs_background": "light"
     },
     "output_type": "display_data"
    }
   ],
   "source": [
    "cm_train=confusion_matrix(y_train, y_pred_train)\n",
    "sns.heatmap(cm_train, annot=True, fmt='d')\n",
    "plt.show()"
   ]
  },
  {
   "cell_type": "code",
   "execution_count": 121,
   "id": "001133a8",
   "metadata": {},
   "outputs": [
    {
     "name": "stdout",
     "output_type": "stream",
     "text": [
      "              precision    recall  f1-score   support\n",
      "\n",
      "         0.0       0.83      0.82      0.83      4188\n",
      "         1.0       0.79      0.81      0.80      3578\n",
      "\n",
      "    accuracy                           0.82      7766\n",
      "   macro avg       0.81      0.81      0.81      7766\n",
      "weighted avg       0.82      0.82      0.82      7766\n",
      "\n"
     ]
    }
   ],
   "source": [
    "print(classification_report(y_test, y_pred_test))"
   ]
  },
  {
   "cell_type": "markdown",
   "id": "eb094871",
   "metadata": {},
   "source": [
    "### Krzywa ROC"
   ]
  },
  {
   "cell_type": "code",
   "execution_count": 123,
   "id": "b0e91b8a",
   "metadata": {},
   "outputs": [],
   "source": [
    "from sklearn.metrics import roc_curve, roc_auc_score"
   ]
  },
  {
   "cell_type": "code",
   "execution_count": 124,
   "id": "053b7281",
   "metadata": {},
   "outputs": [],
   "source": [
    "fpr, tpr, thresholds=roc_curve(y_test, y_pred_test)"
   ]
  },
  {
   "cell_type": "code",
   "execution_count": 125,
   "id": "d36d98c5",
   "metadata": {},
   "outputs": [
    {
     "data": {
      "text/plain": [
       "array([0.        , 0.17884432, 1.        ])"
      ]
     },
     "execution_count": 125,
     "metadata": {},
     "output_type": "execute_result"
    }
   ],
   "source": [
    "fpr"
   ]
  },
  {
   "cell_type": "code",
   "execution_count": 126,
   "id": "f0b018ef",
   "metadata": {},
   "outputs": [
    {
     "data": {
      "text/plain": [
       "array([0.        , 0.80855226, 1.        ])"
      ]
     },
     "execution_count": 126,
     "metadata": {},
     "output_type": "execute_result"
    }
   ],
   "source": [
    "tpr"
   ]
  },
  {
   "cell_type": "code",
   "execution_count": 127,
   "id": "92710ffd",
   "metadata": {},
   "outputs": [
    {
     "data": {
      "text/plain": [
       "array([2., 1., 0.])"
      ]
     },
     "execution_count": 127,
     "metadata": {},
     "output_type": "execute_result"
    }
   ],
   "source": [
    "thresholds"
   ]
  },
  {
   "cell_type": "code",
   "execution_count": 128,
   "id": "6176c2cb",
   "metadata": {},
   "outputs": [],
   "source": [
    "auc=roc_auc_score(y_test, y_pred_test)"
   ]
  },
  {
   "cell_type": "code",
   "execution_count": 129,
   "id": "80880130",
   "metadata": {},
   "outputs": [
    {
     "name": "stdout",
     "output_type": "stream",
     "text": [
      "AUC: 0.815\n"
     ]
    }
   ],
   "source": [
    "print('AUC: %.3f' % auc)"
   ]
  },
  {
   "cell_type": "code",
   "execution_count": 130,
   "id": "44484ecf",
   "metadata": {},
   "outputs": [],
   "source": [
    "help_prob=[0 for _ in range(len(y_test))]"
   ]
  },
  {
   "cell_type": "code",
   "execution_count": 131,
   "id": "473905e6",
   "metadata": {},
   "outputs": [],
   "source": [
    "help_fpr, help_tpr, _=roc_curve(y_test, help_prob)"
   ]
  },
  {
   "cell_type": "code",
   "execution_count": 132,
   "id": "d3a28d4d",
   "metadata": {},
   "outputs": [
    {
     "data": {
      "image/png": "[encoded data removed]",
      "text/plain": [
       "<Figure size 432x288 with 1 Axes>"
      ]
     },
     "metadata": {
      "needs_background": "light"
     },
     "output_type": "display_data"
    }
   ],
   "source": [
    "plt.plot(help_fpr, help_tpr, linestyle='--', label='No model')\n",
    "plt.plot(fpr, tpr, marker='.', label='Logistic')\n",
    "plt.xlabel('False positive rate')\n",
    "plt.ylabel('True posotive rate')\n",
    "plt.legend()\n",
    "plt.show()"
   ]
  },
  {
   "cell_type": "code",
   "execution_count": 133,
   "id": "bf87b086",
   "metadata": {},
   "outputs": [
    {
     "name": "stderr",
     "output_type": "stream",
     "text": [
      "C:\\Users\\HP\\anaconda3\\lib\\site-packages\\sklearn\\linear_model\\_logistic.py:444: ConvergenceWarning: lbfgs failed to converge (status=1):\n",
      "STOP: TOTAL NO. of ITERATIONS REACHED LIMIT.\n",
      "\n",
      "Increase the number of iterations (max_iter) or scale the data as shown in:\n",
      "    https://scikit-learn.org/stable/modules/preprocessing.html\n",
      "Please also refer to the documentation for alternative solver options:\n",
      "    https://scikit-learn.org/stable/modules/linear_model.html#logistic-regression\n",
      "  n_iter_i = _check_optimize_result(\n"
     ]
    }
   ],
   "source": [
    "# model2\n",
    "model2=LogisticRegression(max_iter=50)\n",
    "model2.fit(X_train, y_train)\n",
    "y_pred2=model2.predict(X_test)"
   ]
  },
  {
   "cell_type": "code",
   "execution_count": 134,
   "id": "c57be489",
   "metadata": {},
   "outputs": [
    {
     "name": "stdout",
     "output_type": "stream",
     "text": [
      "              precision    recall  f1-score   support\n",
      "\n",
      "         0.0       0.82      0.83      0.82      4188\n",
      "         1.0       0.79      0.79      0.79      3578\n",
      "\n",
      "    accuracy                           0.81      7766\n",
      "   macro avg       0.81      0.81      0.81      7766\n",
      "weighted avg       0.81      0.81      0.81      7766\n",
      "\n"
     ]
    }
   ],
   "source": [
    "print(classification_report(y_test, y_pred2))"
   ]
  },
  {
   "cell_type": "code",
   "execution_count": 135,
   "id": "f8f4a0a8",
   "metadata": {},
   "outputs": [
    {
     "name": "stderr",
     "output_type": "stream",
     "text": [
      "C:\\Users\\HP\\anaconda3\\lib\\site-packages\\sklearn\\linear_model\\_logistic.py:444: ConvergenceWarning: lbfgs failed to converge (status=1):\n",
      "STOP: TOTAL NO. of ITERATIONS REACHED LIMIT.\n",
      "\n",
      "Increase the number of iterations (max_iter) or scale the data as shown in:\n",
      "    https://scikit-learn.org/stable/modules/preprocessing.html\n",
      "Please also refer to the documentation for alternative solver options:\n",
      "    https://scikit-learn.org/stable/modules/linear_model.html#logistic-regression\n",
      "  n_iter_i = _check_optimize_result(\n"
     ]
    }
   ],
   "source": [
    "# model3\n",
    "model3=LogisticRegression(max_iter=150)\n",
    "model3.fit(X_train, y_train)\n",
    "y_pred3=model3.predict(X_test)"
   ]
  },
  {
   "cell_type": "code",
   "execution_count": 136,
   "id": "707fa38a",
   "metadata": {},
   "outputs": [
    {
     "name": "stdout",
     "output_type": "stream",
     "text": [
      "              precision    recall  f1-score   support\n",
      "\n",
      "         0.0       0.83      0.83      0.83      4188\n",
      "         1.0       0.80      0.80      0.80      3578\n",
      "\n",
      "    accuracy                           0.82      7766\n",
      "   macro avg       0.82      0.82      0.82      7766\n",
      "weighted avg       0.82      0.82      0.82      7766\n",
      "\n"
     ]
    }
   ],
   "source": [
    "print(classification_report(y_test, y_pred3))"
   ]
  },
  {
   "cell_type": "code",
   "execution_count": 137,
   "id": "410744b5",
   "metadata": {},
   "outputs": [],
   "source": [
    "model4=LogisticRegression(solver='liblinear', penalty='l1')\n",
    "model4.fit(X_train, y_train)\n",
    "y_pred4=model4.predict(X_test)"
   ]
  },
  {
   "cell_type": "code",
   "execution_count": 138,
   "id": "416964ea",
   "metadata": {},
   "outputs": [
    {
     "name": "stdout",
     "output_type": "stream",
     "text": [
      "              precision    recall  f1-score   support\n",
      "\n",
      "         0.0       0.83      0.82      0.83      4188\n",
      "         1.0       0.80      0.80      0.80      3578\n",
      "\n",
      "    accuracy                           0.81      7766\n",
      "   macro avg       0.81      0.81      0.81      7766\n",
      "weighted avg       0.81      0.81      0.81      7766\n",
      "\n"
     ]
    }
   ],
   "source": [
    "print(classification_report(y_test, y_pred4))"
   ]
  },
  {
   "cell_type": "code",
   "execution_count": 139,
   "id": "52a3e4a7",
   "metadata": {},
   "outputs": [
    {
     "name": "stderr",
     "output_type": "stream",
     "text": [
      "C:\\Users\\HP\\anaconda3\\lib\\site-packages\\sklearn\\linear_model\\_sag.py:350: ConvergenceWarning: The max_iter was reached which means the coef_ did not converge\n",
      "  warnings.warn(\n"
     ]
    }
   ],
   "source": [
    "model5=LogisticRegression(solver='saga', penalty='l1')\n",
    "model5.fit(X_train, y_train)\n",
    "y_pred5=model5.predict(X_test)"
   ]
  },
  {
   "cell_type": "code",
   "execution_count": 140,
   "id": "3f8e612c",
   "metadata": {},
   "outputs": [
    {
     "name": "stdout",
     "output_type": "stream",
     "text": [
      "              precision    recall  f1-score   support\n",
      "\n",
      "         0.0       0.82      0.82      0.82      4188\n",
      "         1.0       0.79      0.79      0.79      3578\n",
      "\n",
      "    accuracy                           0.80      7766\n",
      "   macro avg       0.80      0.80      0.80      7766\n",
      "weighted avg       0.80      0.80      0.80      7766\n",
      "\n"
     ]
    }
   ],
   "source": [
    "print(classification_report(y_test, y_pred5))"
   ]
  },
  {
   "cell_type": "code",
   "execution_count": 141,
   "id": "d09472d6",
   "metadata": {},
   "outputs": [
    {
     "name": "stderr",
     "output_type": "stream",
     "text": [
      "C:\\Users\\HP\\anaconda3\\lib\\site-packages\\sklearn\\linear_model\\_logistic.py:444: ConvergenceWarning: lbfgs failed to converge (status=1):\n",
      "STOP: TOTAL NO. of ITERATIONS REACHED LIMIT.\n",
      "\n",
      "Increase the number of iterations (max_iter) or scale the data as shown in:\n",
      "    https://scikit-learn.org/stable/modules/preprocessing.html\n",
      "Please also refer to the documentation for alternative solver options:\n",
      "    https://scikit-learn.org/stable/modules/linear_model.html#logistic-regression\n",
      "  n_iter_i = _check_optimize_result(\n"
     ]
    }
   ],
   "source": [
    "model6=LogisticRegression(class_weight='balanced')\n",
    "model6.fit(X_train, y_train)\n",
    "y_pred6=model6.predict(X_test)"
   ]
  },
  {
   "cell_type": "code",
   "execution_count": 142,
   "id": "212eee0a",
   "metadata": {},
   "outputs": [
    {
     "name": "stdout",
     "output_type": "stream",
     "text": [
      "              precision    recall  f1-score   support\n",
      "\n",
      "         0.0       0.85      0.81      0.83      4188\n",
      "         1.0       0.79      0.83      0.81      3578\n",
      "\n",
      "    accuracy                           0.82      7766\n",
      "   macro avg       0.82      0.82      0.82      7766\n",
      "weighted avg       0.82      0.82      0.82      7766\n",
      "\n"
     ]
    }
   ],
   "source": [
    "print(classification_report(y_test, y_pred6))"
   ]
  },
  {
   "cell_type": "markdown",
   "id": "5a553ec3",
   "metadata": {},
   "source": [
    "## KNN k najbliższych sąsiadów"
   ]
  },
  {
   "cell_type": "code",
   "execution_count": 143,
   "id": "e9d5381e",
   "metadata": {},
   "outputs": [],
   "source": [
    "from sklearn.neighbors import KNeighborsClassifier"
   ]
  },
  {
   "cell_type": "code",
   "execution_count": 144,
   "id": "a6957d49",
   "metadata": {},
   "outputs": [],
   "source": [
    "knn=KNeighborsClassifier(n_neighbors=5)\n",
    "knn.fit(X_train, y_train)\n",
    "pred_knn=knn.predict(X_test)"
   ]
  },
  {
   "cell_type": "code",
   "execution_count": 145,
   "id": "8371e995",
   "metadata": {},
   "outputs": [
    {
     "name": "stdout",
     "output_type": "stream",
     "text": [
      "              precision    recall  f1-score   support\n",
      "\n",
      "         0.0       1.00      1.00      1.00      4188\n",
      "         1.0       1.00      1.00      1.00      3578\n",
      "\n",
      "    accuracy                           1.00      7766\n",
      "   macro avg       1.00      1.00      1.00      7766\n",
      "weighted avg       1.00      1.00      1.00      7766\n",
      "\n"
     ]
    }
   ],
   "source": [
    "print(classification_report(y_test, pred_knn))"
   ]
  },
  {
   "cell_type": "code",
   "execution_count": 146,
   "id": "cc39748e",
   "metadata": {},
   "outputs": [],
   "source": [
    "knn2=KNeighborsClassifier(n_neighbors=5, metric='chebyshev')\n",
    "knn2.fit(X_train, y_train)\n",
    "pred_knn2=knn2.predict(X_test)"
   ]
  },
  {
   "cell_type": "code",
   "execution_count": 147,
   "id": "69b3a448",
   "metadata": {},
   "outputs": [
    {
     "name": "stdout",
     "output_type": "stream",
     "text": [
      "              precision    recall  f1-score   support\n",
      "\n",
      "         0.0       0.94      0.94      0.94      4188\n",
      "         1.0       0.93      0.93      0.93      3578\n",
      "\n",
      "    accuracy                           0.93      7766\n",
      "   macro avg       0.93      0.93      0.93      7766\n",
      "weighted avg       0.93      0.93      0.93      7766\n",
      "\n"
     ]
    }
   ],
   "source": [
    "print(classification_report(y_test, pred_knn2))"
   ]
  },
  {
   "cell_type": "code",
   "execution_count": 148,
   "id": "ba1113ef",
   "metadata": {},
   "outputs": [],
   "source": [
    "knn3=KNeighborsClassifier(n_neighbors=5, metric='manhattan')\n",
    "knn3.fit(X_train, y_train)\n",
    "pred_knn3=knn3.predict(X_test)"
   ]
  },
  {
   "cell_type": "code",
   "execution_count": 149,
   "id": "9a5104b5",
   "metadata": {},
   "outputs": [
    {
     "name": "stdout",
     "output_type": "stream",
     "text": [
      "              precision    recall  f1-score   support\n",
      "\n",
      "         0.0       1.00      1.00      1.00      4188\n",
      "         1.0       1.00      1.00      1.00      3578\n",
      "\n",
      "    accuracy                           1.00      7766\n",
      "   macro avg       1.00      1.00      1.00      7766\n",
      "weighted avg       1.00      1.00      1.00      7766\n",
      "\n"
     ]
    }
   ],
   "source": [
    "print(classification_report(y_test, pred_knn3))"
   ]
  },
  {
   "cell_type": "code",
   "execution_count": 150,
   "id": "b5e27702",
   "metadata": {},
   "outputs": [],
   "source": [
    "knn4=KNeighborsClassifier(n_neighbors=7, metric='euclidean', weights='distance')\n",
    "knn4.fit(X_train, y_train)\n",
    "pred_knn4=knn4.predict(X_test)"
   ]
  },
  {
   "cell_type": "code",
   "execution_count": 151,
   "id": "d4cd4466",
   "metadata": {},
   "outputs": [
    {
     "name": "stdout",
     "output_type": "stream",
     "text": [
      "              precision    recall  f1-score   support\n",
      "\n",
      "         0.0       1.00      1.00      1.00      4188\n",
      "         1.0       1.00      1.00      1.00      3578\n",
      "\n",
      "    accuracy                           1.00      7766\n",
      "   macro avg       1.00      1.00      1.00      7766\n",
      "weighted avg       1.00      1.00      1.00      7766\n",
      "\n"
     ]
    }
   ],
   "source": [
    "print(classification_report(y_test, pred_knn4))"
   ]
  },
  {
   "cell_type": "markdown",
   "id": "245afeeb",
   "metadata": {},
   "source": [
    "## Drzewo decyzyjne"
   ]
  },
  {
   "cell_type": "code",
   "execution_count": 152,
   "id": "42564b6b",
   "metadata": {},
   "outputs": [],
   "source": [
    "from sklearn.tree import DecisionTreeClassifier\n",
    "from sklearn.tree import DecisionTreeRegressor\n",
    "from sklearn import tree"
   ]
  },
  {
   "cell_type": "code",
   "execution_count": 153,
   "id": "fc73084d",
   "metadata": {},
   "outputs": [],
   "source": [
    "dt=DecisionTreeClassifier()\n",
    "dt.fit(X_train, y_train)\n",
    "y_dt=dt.predict(X_test)"
   ]
  },
  {
   "cell_type": "code",
   "execution_count": 154,
   "id": "1250a8f4",
   "metadata": {},
   "outputs": [
    {
     "name": "stdout",
     "output_type": "stream",
     "text": [
      "              precision    recall  f1-score   support\n",
      "\n",
      "         0.0       1.00      1.00      1.00      4188\n",
      "         1.0       1.00      1.00      1.00      3578\n",
      "\n",
      "    accuracy                           1.00      7766\n",
      "   macro avg       1.00      1.00      1.00      7766\n",
      "weighted avg       1.00      1.00      1.00      7766\n",
      "\n"
     ]
    }
   ],
   "source": [
    "print(classification_report(y_test,y_dt))"
   ]
  },
  {
   "cell_type": "code",
   "execution_count": 165,
   "id": "4553b2a3",
   "metadata": {},
   "outputs": [
    {
     "data": {
      "text/plain": [
       "16"
      ]
     },
     "execution_count": 165,
     "metadata": {},
     "output_type": "execute_result"
    }
   ],
   "source": [
    "dt.get_depth()"
   ]
  },
  {
   "cell_type": "code",
   "execution_count": 166,
   "id": "b1bc818f",
   "metadata": {},
   "outputs": [
    {
     "data": {
      "text/plain": [
       "119"
      ]
     },
     "execution_count": 166,
     "metadata": {},
     "output_type": "execute_result"
    }
   ],
   "source": [
    "dt.get_n_leaves()"
   ]
  },
  {
   "cell_type": "code",
   "execution_count": 155,
   "id": "100e5f52",
   "metadata": {},
   "outputs": [
    {
     "data": {
      "text/html": [
       "<style>#sk-container-id-2 {color: black;background-color: white;}#sk-container-id-2 pre{padding: 0;}#sk-container-id-2 div.sk-toggleable {background-color: white;}#sk-container-id-2 label.sk-toggleable__label {cursor: pointer;display: block;width: 100%;margin-bottom: 0;padding: 0.3em;box-sizing: border-box;text-align: center;}#sk-container-id-2 label.sk-toggleable__label-arrow:before {content: \"▸\";float: left;margin-right: 0.25em;color: #696969;}#sk-container-id-2 label.sk-toggleable__label-arrow:hover:before {color: black;}#sk-container-id-2 div.sk-estimator:hover label.sk-toggleable__label-arrow:before {color: black;}#sk-container-id-2 div.sk-toggleable__content {max-height: 0;max-width: 0;overflow: hidden;text-align: left;background-color: #f0f8ff;}#sk-container-id-2 div.sk-toggleable__content pre {margin: 0.2em;color: black;border-radius: 0.25em;background-color: #f0f8ff;}#sk-container-id-2 input.sk-toggleable__control:checked~div.sk-toggleable__content {max-height: 200px;max-width: 100%;overflow: auto;}#sk-container-id-2 input.sk-toggleable__control:checked~label.sk-toggleable__label-arrow:before {content: \"▾\";}#sk-container-id-2 div.sk-estimator input.sk-toggleable__control:checked~label.sk-toggleable__label {background-color: #d4ebff;}#sk-container-id-2 div.sk-label input.sk-toggleable__control:checked~label.sk-toggleable__label {background-color: #d4ebff;}#sk-container-id-2 input.sk-hidden--visually {border: 0;clip: rect(1px 1px 1px 1px);clip: rect(1px, 1px, 1px, 1px);height: 1px;margin: -1px;overflow: hidden;padding: 0;position: absolute;width: 1px;}#sk-container-id-2 div.sk-estimator {font-family: monospace;background-color: #f0f8ff;border: 1px dotted black;border-radius: 0.25em;box-sizing: border-box;margin-bottom: 0.5em;}#sk-container-id-2 div.sk-estimator:hover {background-color: #d4ebff;}#sk-container-id-2 div.sk-parallel-item::after {content: \"\";width: 100%;border-bottom: 1px solid gray;flex-grow: 1;}#sk-container-id-2 div.sk-label:hover label.sk-toggleable__label {background-color: #d4ebff;}#sk-container-id-2 div.sk-serial::before {content: \"\";position: absolute;border-left: 1px solid gray;box-sizing: border-box;top: 0;bottom: 0;left: 50%;z-index: 0;}#sk-container-id-2 div.sk-serial {display: flex;flex-direction: column;align-items: center;background-color: white;padding-right: 0.2em;padding-left: 0.2em;position: relative;}#sk-container-id-2 div.sk-item {position: relative;z-index: 1;}#sk-container-id-2 div.sk-parallel {display: flex;align-items: stretch;justify-content: center;background-color: white;position: relative;}#sk-container-id-2 div.sk-item::before, #sk-container-id-2 div.sk-parallel-item::before {content: \"\";position: absolute;border-left: 1px solid gray;box-sizing: border-box;top: 0;bottom: 0;left: 50%;z-index: -1;}#sk-container-id-2 div.sk-parallel-item {display: flex;flex-direction: column;z-index: 1;position: relative;background-color: white;}#sk-container-id-2 div.sk-parallel-item:first-child::after {align-self: flex-end;width: 50%;}#sk-container-id-2 div.sk-parallel-item:last-child::after {align-self: flex-start;width: 50%;}#sk-container-id-2 div.sk-parallel-item:only-child::after {width: 0;}#sk-container-id-2 div.sk-dashed-wrapped {border: 1px dashed gray;margin: 0 0.4em 0.5em 0.4em;box-sizing: border-box;padding-bottom: 0.4em;background-color: white;}#sk-container-id-2 div.sk-label label {font-family: monospace;font-weight: bold;display: inline-block;line-height: 1.2em;}#sk-container-id-2 div.sk-label-container {text-align: center;}#sk-container-id-2 div.sk-container {/* jupyter's `normalize.less` sets `[hidden] { display: none; }` but bootstrap.min.css set `[hidden] { display: none !important; }` so we also need the `!important` here to be able to override the default hidden behavior on the sphinx rendered scikit-learn.org. See: https://github.com/scikit-learn/scikit-learn/issues/21755 */display: inline-block !important;position: relative;}#sk-container-id-2 div.sk-text-repr-fallback {display: none;}</style><div id=\"sk-container-id-2\" class=\"sk-top-container\"><div class=\"sk-text-repr-fallback\"><pre>DecisionTreeClassifier(criterion=&#x27;entropy&#x27;)</pre><b>In a Jupyter environment, please rerun this cell to show the HTML representation or trust the notebook. <br />On GitHub, the HTML representation is unable to render, please try loading this page with nbviewer.org.</b></div><div class=\"sk-container\" hidden><div class=\"sk-item\"><div class=\"sk-estimator sk-toggleable\"><input class=\"sk-toggleable__control sk-hidden--visually\" id=\"sk-estimator-id-2\" type=\"checkbox\" checked><label for=\"sk-estimator-id-2\" class=\"sk-toggleable__label sk-toggleable__label-arrow\">DecisionTreeClassifier</label><div class=\"sk-toggleable__content\"><pre>DecisionTreeClassifier(criterion=&#x27;entropy&#x27;)</pre></div></div></div></div></div>"
      ],
      "text/plain": [
       "DecisionTreeClassifier(criterion='entropy')"
      ]
     },
     "execution_count": 155,
     "metadata": {},
     "output_type": "execute_result"
    }
   ],
   "source": [
    "dt2=DecisionTreeClassifier(criterion='entropy')\n",
    "dt2.fit(X_train, y_train)"
   ]
  },
  {
   "cell_type": "code",
   "execution_count": 156,
   "id": "0f43ac8a",
   "metadata": {},
   "outputs": [],
   "source": [
    "y_dt2=dt2.predict(X_test)"
   ]
  },
  {
   "cell_type": "code",
   "execution_count": 157,
   "id": "f846414a",
   "metadata": {},
   "outputs": [
    {
     "name": "stdout",
     "output_type": "stream",
     "text": [
      "              precision    recall  f1-score   support\n",
      "\n",
      "         0.0       1.00      1.00      1.00      4188\n",
      "         1.0       1.00      1.00      1.00      3578\n",
      "\n",
      "    accuracy                           1.00      7766\n",
      "   macro avg       1.00      1.00      1.00      7766\n",
      "weighted avg       1.00      1.00      1.00      7766\n",
      "\n"
     ]
    }
   ],
   "source": [
    "print(classification_report(y_test,y_dt2))"
   ]
  },
  {
   "cell_type": "markdown",
   "id": "46f3f64e",
   "metadata": {},
   "source": [
    "## Naiwny klasyfikator Bayesowski"
   ]
  },
  {
   "cell_type": "code",
   "execution_count": 161,
   "id": "3177b0f7",
   "metadata": {},
   "outputs": [],
   "source": [
    "from sklearn.naive_bayes import MultinomialNB"
   ]
  },
  {
   "cell_type": "code",
   "execution_count": 162,
   "id": "4cfbd791",
   "metadata": {},
   "outputs": [],
   "source": [
    "mnb=MultinomialNB()\n",
    "mnb.fit(X_train, y_train)\n",
    "y_mnb=mnb.predict(X_test)"
   ]
  },
  {
   "cell_type": "code",
   "execution_count": 163,
   "id": "42bfdfaa",
   "metadata": {},
   "outputs": [
    {
     "name": "stdout",
     "output_type": "stream",
     "text": [
      "              precision    recall  f1-score   support\n",
      "\n",
      "         0.0       0.76      0.78      0.77      4188\n",
      "         1.0       0.74      0.72      0.73      3578\n",
      "\n",
      "    accuracy                           0.75      7766\n",
      "   macro avg       0.75      0.75      0.75      7766\n",
      "weighted avg       0.75      0.75      0.75      7766\n",
      "\n"
     ]
    }
   ],
   "source": [
    "print(classification_report(y_test,y_mnb))"
   ]
  },
  {
   "cell_type": "markdown",
   "id": "e92552be",
   "metadata": {},
   "source": [
    "## Boosting"
   ]
  },
  {
   "cell_type": "code",
   "execution_count": 167,
   "id": "8b45b16f",
   "metadata": {},
   "outputs": [],
   "source": [
    "from sklearn.ensemble import AdaBoostClassifier"
   ]
  },
  {
   "cell_type": "code",
   "execution_count": 168,
   "id": "1623b9c7",
   "metadata": {},
   "outputs": [
    {
     "data": {
      "text/html": [
       "<style>#sk-container-id-3 {color: black;background-color: white;}#sk-container-id-3 pre{padding: 0;}#sk-container-id-3 div.sk-toggleable {background-color: white;}#sk-container-id-3 label.sk-toggleable__label {cursor: pointer;display: block;width: 100%;margin-bottom: 0;padding: 0.3em;box-sizing: border-box;text-align: center;}#sk-container-id-3 label.sk-toggleable__label-arrow:before {content: \"▸\";float: left;margin-right: 0.25em;color: #696969;}#sk-container-id-3 label.sk-toggleable__label-arrow:hover:before {color: black;}#sk-container-id-3 div.sk-estimator:hover label.sk-toggleable__label-arrow:before {color: black;}#sk-container-id-3 div.sk-toggleable__content {max-height: 0;max-width: 0;overflow: hidden;text-align: left;background-color: #f0f8ff;}#sk-container-id-3 div.sk-toggleable__content pre {margin: 0.2em;color: black;border-radius: 0.25em;background-color: #f0f8ff;}#sk-container-id-3 input.sk-toggleable__control:checked~div.sk-toggleable__content {max-height: 200px;max-width: 100%;overflow: auto;}#sk-container-id-3 input.sk-toggleable__control:checked~label.sk-toggleable__label-arrow:before {content: \"▾\";}#sk-container-id-3 div.sk-estimator input.sk-toggleable__control:checked~label.sk-toggleable__label {background-color: #d4ebff;}#sk-container-id-3 div.sk-label input.sk-toggleable__control:checked~label.sk-toggleable__label {background-color: #d4ebff;}#sk-container-id-3 input.sk-hidden--visually {border: 0;clip: rect(1px 1px 1px 1px);clip: rect(1px, 1px, 1px, 1px);height: 1px;margin: -1px;overflow: hidden;padding: 0;position: absolute;width: 1px;}#sk-container-id-3 div.sk-estimator {font-family: monospace;background-color: #f0f8ff;border: 1px dotted black;border-radius: 0.25em;box-sizing: border-box;margin-bottom: 0.5em;}#sk-container-id-3 div.sk-estimator:hover {background-color: #d4ebff;}#sk-container-id-3 div.sk-parallel-item::after {content: \"\";width: 100%;border-bottom: 1px solid gray;flex-grow: 1;}#sk-container-id-3 div.sk-label:hover label.sk-toggleable__label {background-color: #d4ebff;}#sk-container-id-3 div.sk-serial::before {content: \"\";position: absolute;border-left: 1px solid gray;box-sizing: border-box;top: 0;bottom: 0;left: 50%;z-index: 0;}#sk-container-id-3 div.sk-serial {display: flex;flex-direction: column;align-items: center;background-color: white;padding-right: 0.2em;padding-left: 0.2em;position: relative;}#sk-container-id-3 div.sk-item {position: relative;z-index: 1;}#sk-container-id-3 div.sk-parallel {display: flex;align-items: stretch;justify-content: center;background-color: white;position: relative;}#sk-container-id-3 div.sk-item::before, #sk-container-id-3 div.sk-parallel-item::before {content: \"\";position: absolute;border-left: 1px solid gray;box-sizing: border-box;top: 0;bottom: 0;left: 50%;z-index: -1;}#sk-container-id-3 div.sk-parallel-item {display: flex;flex-direction: column;z-index: 1;position: relative;background-color: white;}#sk-container-id-3 div.sk-parallel-item:first-child::after {align-self: flex-end;width: 50%;}#sk-container-id-3 div.sk-parallel-item:last-child::after {align-self: flex-start;width: 50%;}#sk-container-id-3 div.sk-parallel-item:only-child::after {width: 0;}#sk-container-id-3 div.sk-dashed-wrapped {border: 1px dashed gray;margin: 0 0.4em 0.5em 0.4em;box-sizing: border-box;padding-bottom: 0.4em;background-color: white;}#sk-container-id-3 div.sk-label label {font-family: monospace;font-weight: bold;display: inline-block;line-height: 1.2em;}#sk-container-id-3 div.sk-label-container {text-align: center;}#sk-container-id-3 div.sk-container {/* jupyter's `normalize.less` sets `[hidden] { display: none; }` but bootstrap.min.css set `[hidden] { display: none !important; }` so we also need the `!important` here to be able to override the default hidden behavior on the sphinx rendered scikit-learn.org. See: https://github.com/scikit-learn/scikit-learn/issues/21755 */display: inline-block !important;position: relative;}#sk-container-id-3 div.sk-text-repr-fallback {display: none;}</style><div id=\"sk-container-id-3\" class=\"sk-top-container\"><div class=\"sk-text-repr-fallback\"><pre>AdaBoostClassifier()</pre><b>In a Jupyter environment, please rerun this cell to show the HTML representation or trust the notebook. <br />On GitHub, the HTML representation is unable to render, please try loading this page with nbviewer.org.</b></div><div class=\"sk-container\" hidden><div class=\"sk-item\"><div class=\"sk-estimator sk-toggleable\"><input class=\"sk-toggleable__control sk-hidden--visually\" id=\"sk-estimator-id-3\" type=\"checkbox\" checked><label for=\"sk-estimator-id-3\" class=\"sk-toggleable__label sk-toggleable__label-arrow\">AdaBoostClassifier</label><div class=\"sk-toggleable__content\"><pre>AdaBoostClassifier()</pre></div></div></div></div></div>"
      ],
      "text/plain": [
       "AdaBoostClassifier()"
      ]
     },
     "execution_count": 168,
     "metadata": {},
     "output_type": "execute_result"
    }
   ],
   "source": [
    "ada=AdaBoostClassifier()\n",
    "ada.fit(X_train, y_train)"
   ]
  },
  {
   "cell_type": "code",
   "execution_count": 169,
   "id": "273c0abf",
   "metadata": {},
   "outputs": [],
   "source": [
    "y_pred_ada=ada.predict(X_test)"
   ]
  },
  {
   "cell_type": "code",
   "execution_count": 170,
   "id": "c522c697",
   "metadata": {},
   "outputs": [
    {
     "name": "stdout",
     "output_type": "stream",
     "text": [
      "              precision    recall  f1-score   support\n",
      "\n",
      "         0.0       0.85      0.83      0.84      4188\n",
      "         1.0       0.80      0.83      0.82      3578\n",
      "\n",
      "    accuracy                           0.83      7766\n",
      "   macro avg       0.83      0.83      0.83      7766\n",
      "weighted avg       0.83      0.83      0.83      7766\n",
      "\n"
     ]
    }
   ],
   "source": [
    "print(classification_report(y_test, y_pred_ada))"
   ]
  },
  {
   "cell_type": "markdown",
   "id": "8ce75c94",
   "metadata": {},
   "source": [
    "## SVM"
   ]
  },
  {
   "cell_type": "code",
   "execution_count": 171,
   "id": "64142afa",
   "metadata": {},
   "outputs": [],
   "source": [
    "from sklearn.svm import SVC"
   ]
  },
  {
   "cell_type": "code",
   "execution_count": 172,
   "id": "eaa94986",
   "metadata": {},
   "outputs": [],
   "source": [
    "svm1=SVC(C=1, kernel='rbf')\n",
    "svm1.fit(X,y)\n",
    "pred_svm1=svm1.predict(X)"
   ]
  },
  {
   "cell_type": "code",
   "execution_count": 173,
   "id": "22aea623",
   "metadata": {},
   "outputs": [
    {
     "name": "stdout",
     "output_type": "stream",
     "text": [
      "              precision    recall  f1-score   support\n",
      "\n",
      "         0.0       0.94      0.97      0.95     20827\n",
      "         1.0       0.96      0.93      0.95     18003\n",
      "\n",
      "    accuracy                           0.95     38830\n",
      "   macro avg       0.95      0.95      0.95     38830\n",
      "weighted avg       0.95      0.95      0.95     38830\n",
      "\n"
     ]
    }
   ],
   "source": [
    "print(classification_report(y, pred_svm1))"
   ]
  },
  {
   "cell_type": "code",
   "execution_count": null,
   "id": "0b07cdad",
   "metadata": {},
   "outputs": [],
   "source": [
    "# Podsumowując:\n",
    "   # modele przetrenowane: drzewo decyzyjne, k najbliższych sąsiadów, SVM (95% ?)\n",
    "   # AdaBoosting  0,83, regresja logistyczna 0,82, naiwny Bayes 0,75,"
   ]
  }
 ],
 "metadata": {
  "kernelspec": {
   "display_name": "Python 3 (ipykernel)",
   "language": "python",
   "name": "python3"
  },
  "language_info": {
   "codemirror_mode": {
    "name": "ipython",
    "version": 3
   },
   "file_extension": ".py",
   "mimetype": "text/x-python",
   "name": "python",
   "nbconvert_exporter": "python",
   "pygments_lexer": "ipython3",
   "version": "3.9.12"
  }
 },
 "nbformat": 4,
 "nbformat_minor": 5
}
